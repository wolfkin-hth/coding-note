{
 "cells": [
  {
   "cell_type": "markdown",
   "metadata": {},
   "source": [
    "# 回溯法"
   ]
  },
  {
   "cell_type": "markdown",
   "metadata": {},
   "source": [
    "## 模板"
   ]
  },
  {
   "cell_type": "code",
   "execution_count": null,
   "metadata": {},
   "outputs": [],
   "source": []
  },
  {
   "cell_type": "markdown",
   "metadata": {},
   "source": [
    "## 练习题"
   ]
  },
  {
   "cell_type": "markdown",
   "metadata": {},
   "source": [
    "### 1. [矩阵中的路径](https://leetcode-cn.com/problems/ju-zhen-zhong-de-lu-jing-lcof/)\n",
    "\n",
    "请设计一个函数，用来判断在一个矩阵中是否存在一条包含某字符串所有字符的路径。路径可以从矩阵中的任意一格开始，每一步可以在矩阵中向左、右、上、下移动一格。如果一条路径经过了矩阵的某一格，那么该路径不能再次进入该格子。例如，在下面的3×4的矩阵中包含一条字符串“bfce”的路径（路径中的字母用加粗标出）。\n",
    "\n",
    "\n",
    "[\"a\",\"b\",\"c\",\"e\"],\n",
    "\n",
    "[\"s\",\"f\",\"c\",\"s\"],\n",
    "\n",
    "[\"a\",\"d\",\"e\",\"e\"]\n",
    "\n",
    "但矩阵中不包含字符串“abfb”的路径，因为字符串的第一个字符b占据了矩阵中的第一行第二个格子之后，路径不能再次进入这个格子。"
   ]
  },
  {
   "cell_type": "code",
   "execution_count": 2,
   "metadata": {},
   "outputs": [],
   "source": [
    "# 解法：回溯+DFS\n",
    "class Solution:\n",
    "    directions = {(0, 1), (0, -1), (1, 0), (-1, 0)}\n",
    "    def exist(self, board, word: str) -> bool:\n",
    "        # write code here\n",
    "        rows = len(board)\n",
    "        if not rows: return False\n",
    "        cols = len(board[0])\n",
    "        visited = [[False for _ in range(cols)] for _ in range(rows)]\n",
    "        for i in range(rows):\n",
    "            for j in range(cols): \n",
    "                if  board[i][j] == word[0]:\n",
    "                    if self.DFS(board, i, j, rows, cols, visited, word, 1):\n",
    "                        return True\n",
    "        return False\n",
    "        \n",
    "    def DFS(self, board, i, j, rows, cols, visited, word, k):\n",
    "        if k == len(word):\n",
    "            return True\n",
    "        visited[i][j] = True\n",
    "        for di, dj in self.directions:\n",
    "            if 0<=i+di<rows and 0<=j+dj<cols and not visited[i+di][j+dj] and board[i+di][j+dj] == word[k]:\n",
    "                if self.DFS(board, i+di, j+dj, rows, cols, visited, word, k+1):\n",
    "                    return True\n",
    "        visited[i][j] = False\n",
    "        return False"
   ]
  },
  {
   "cell_type": "code",
   "execution_count": null,
   "metadata": {},
   "outputs": [],
   "source": []
  }
 ],
 "metadata": {
  "kernelspec": {
   "display_name": "Python 3",
   "language": "python",
   "name": "python3"
  },
  "language_info": {
   "codemirror_mode": {
    "name": "ipython",
    "version": 3
   },
   "file_extension": ".py",
   "mimetype": "text/x-python",
   "name": "python",
   "nbconvert_exporter": "python",
   "pygments_lexer": "ipython3",
   "version": "3.5.4"
  }
 },
 "nbformat": 4,
 "nbformat_minor": 2
}
