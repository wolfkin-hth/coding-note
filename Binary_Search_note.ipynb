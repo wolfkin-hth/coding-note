{
 "cells": [
  {
   "cell_type": "markdown",
   "metadata": {},
   "source": [
    "# 二分查找"
   ]
  },
  {
   "cell_type": "markdown",
   "metadata": {},
   "source": [
    "## 模板"
   ]
  },
  {
   "cell_type": "code",
   "execution_count": 4,
   "metadata": {
    "code_folding": []
   },
   "outputs": [],
   "source": [
    "class Solution:\n",
    "    def search(self, nums, target):\n",
    "        # 1. 判特殊情况\n",
    "        if not nums: return -1\n",
    "        # 2. 根据题意确定左右边界范围\n",
    "        left, right = 0, len(nums)-1 \n",
    "        # 3. 判断条件无脑固定(left < right)，最终返回left,right都可以\n",
    "        while(left < right):     \n",
    "            '''\n",
    "            # 5.1 选择左中位数\n",
    "            mid = (left + right) >> 1\n",
    "            # 4.1 分支逻辑：先写排除左中位数的逻辑分支\n",
    "            if check(mid):        \n",
    "                left = mid + 1\n",
    "            else:\n",
    "                right = mid\n",
    "            '''\n",
    "            '''\n",
    "            # 5.2 选择右中位数\n",
    "            mid = (left + right + 1) >> 1\n",
    "            # 4.2 分支逻辑：先写排除右中位数的逻辑分支\n",
    "            if check(mid):        \n",
    "                right = mid -1\n",
    "            else:\n",
    "                left = mid\n",
    "            '''\n",
    "        # 6. 根据情况看是否需要单独判断最后的元素是否符合题意"
   ]
  },
  {
   "cell_type": "markdown",
   "metadata": {},
   "source": [
    "## 左右分支规律\n",
    "\n",
    "* 如果第 1 个分支的逻辑是“左边界排除中位数”（`left = mid + 1`），那么第 2 个分支的逻辑就一定是“右边界不排除中位数”（`right = mid`），反过来也成立；\n",
    "* 如果第 2 个分支的逻辑是“右边界排除中位数”（`right = mid - 1`），那么第 2 个分支的逻辑就一定是“左边界不排除中位数”（`left = mid`），反之也成立。"
   ]
  },
  {
   "cell_type": "markdown",
   "metadata": {},
   "source": [
    "## 注意事项\n",
    "\n",
    "1. 左中位数还是右中位数选择的标准根据分支的逻辑而来，标准是每一次循环都应该让区间收缩，当候选区间只剩下 22 个元素的时候，为了避免死循环发生，选择正确的中位数类型。如果你实在很晕，不防就使用有 22 个元素的测试用例，就能明白其中的原因，另外在代码出现死循环的时候，建议你可以将左边界、右边界、你选择的中位数的值，还有分支逻辑都打印输出一下，出现死循环的原因就一目了然了；\n",
    "2. 如果能确定要找的数就在候选区间里，那么退出循环的时候，区间最后收缩成为 11 个数后，直接把这个数返回即可；如果你要找的数有可能不在候选区间里，区间最后收缩成为 11 个数后，还要单独判断一下这个数是否符合题意。"
   ]
  },
  {
   "cell_type": "markdown",
   "metadata": {},
   "source": [
    "## 练习"
   ]
  },
  {
   "cell_type": "markdown",
   "metadata": {},
   "source": [
    "1. 二分查找（Leetcode 704）\n",
    "\n",
    "   给定一个c n 个元素有序的（升序）整型数组 nums 和一个目标值 target  ，写一个函数搜索 nums 中的 target，如果目标值存在返回下标，否则返回 -1。"
   ]
  },
  {
   "cell_type": "code",
   "execution_count": 5,
   "metadata": {},
   "outputs": [],
   "source": [
    "class Solution:\n",
    "    def search(self, nums, target):\n",
    "        if not nums: return -1\n",
    "        left, right = 0, len(nums)-1\n",
    "        while(left < right):\n",
    "            mid = (left + right) >> 1\n",
    "            if nums[mid] < target:\n",
    "                left = mid + 1\n",
    "            else:\n",
    "                right = mid\n",
    "        if nums[left] == target:  # 后处理\n",
    "            return left\n",
    "        else:\n",
    "            return -1"
   ]
  },
  {
   "cell_type": "markdown",
   "metadata": {},
   "source": [
    "2. x的平方根（Leetcode 69）\n",
    "\n",
    "   实现 int sqrt(int x) 函数。计算并返回 x 的平方根，其中 x 是非负整数。由于返回类型是整数，结果只保留整数的部分，小数部分将被舍去。"
   ]
  },
  {
   "cell_type": "code",
   "execution_count": 6,
   "metadata": {},
   "outputs": [],
   "source": [
    "class Solution:\n",
    "    def mySqrt(self, x):\n",
    "        left, right = 0, x\n",
    "        while(left < right):\n",
    "            mid = (left + right + 1) >> 1\n",
    "            if mid*mid > x:  # 排除右中位数\n",
    "                right = mid - 1\n",
    "            else:\n",
    "                left = mid\n",
    "        return left"
   ]
  },
  {
   "cell_type": "markdown",
   "metadata": {},
   "source": [
    "3. 寻找旋转数组中的最小值\n",
    "\n",
    "   假设按照升序排序的数组在预先未知的某个点上进行了旋转。( 例如，数组 `[0,1,2,4,5,6,7]` 可能变为 `[4,5,6,7,0,1,2]` )。请找出其中最小的元素。你可以假设数组中不存在重复元素。"
   ]
  },
  {
   "cell_type": "code",
   "execution_count": 7,
   "metadata": {},
   "outputs": [],
   "source": [
    "class Solution:\n",
    "    def findMin(self, nums):\n",
    "        if not nums: return None\n",
    "        left, right = 0, len(nums)-1\n",
    "        while(left < right):\n",
    "            mid = (left + right) >> 1\n",
    "            if nums[mid] > nums[right]:\n",
    "                left = mid + 1\n",
    "            else:\n",
    "                right = mid\n",
    "        return nums[left]"
   ]
  },
  {
   "cell_type": "markdown",
   "metadata": {},
   "source": [
    "4. 寻找重复数\n",
    "\n",
    "   给定一个包含 n + 1 个整数的数组 nums，其数字都在 1 到 n 之间（包括 1 和 n），可知至少存在一个重复的整数。假设只有一个重复的整数，找出这个重复的数。\n",
    "\n",
    "1. 不能更改原数组（假设数组是只读的）。\n",
    "2. 只能使用额外的 O(1) 的空间。\n",
    "3. 时间复杂度小于 O(n<sup>2</sup>) 。\n",
    "4. 数组中只有一个重复的数字，但它可能不止重复出现一次。"
   ]
  },
  {
   "cell_type": "code",
   "execution_count": 8,
   "metadata": {
    "code_folding": []
   },
   "outputs": [],
   "source": [
    "class Solution:\n",
    "    def findDuplicate(self, nums):\n",
    "        if not nums: return False\n",
    "        left, right = 1, len(nums) - 1\n",
    "        while(left < right):\n",
    "            mid = (left + right) >> 1\n",
    "            cnt = 0\n",
    "            for num in nums:\n",
    "                if num <= mid:\n",
    "                    cnt += 1\n",
    "            if cnt <= mid:\n",
    "                left = mid + 1\n",
    "            else:\n",
    "                right = mid\n",
    "        return left"
   ]
  },
  {
   "cell_type": "code",
   "execution_count": null,
   "metadata": {},
   "outputs": [],
   "source": []
  }
 ],
 "metadata": {
  "kernelspec": {
   "display_name": "Python 3",
   "language": "python",
   "name": "python3"
  },
  "language_info": {
   "codemirror_mode": {
    "name": "ipython",
    "version": 3
   },
   "file_extension": ".py",
   "mimetype": "text/x-python",
   "name": "python",
   "nbconvert_exporter": "python",
   "pygments_lexer": "ipython3",
   "version": "3.5.4"
  }
 },
 "nbformat": 4,
 "nbformat_minor": 2
}
