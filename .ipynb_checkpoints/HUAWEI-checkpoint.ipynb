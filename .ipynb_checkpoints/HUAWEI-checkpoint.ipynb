{
 "cells": [
  {
   "cell_type": "markdown",
   "metadata": {},
   "source": [
    "# 牛客网 华为机试题库"
   ]
  },
  {
   "cell_type": "markdown",
   "metadata": {},
   "source": [
    "### 题目描述\n",
    "计算字符串最后一个单词的长度，单词以空格隔开。 \n",
    "#### 输入描述\n",
    "一行字符串，非空，长度小于5000。\n",
    "#### 输出描述\n",
    "整数N，最后一个单词的长度。"
   ]
  },
  {
   "cell_type": "code",
   "execution_count": 1,
   "metadata": {
    "ExecuteTime": {
     "end_time": "2019-10-06T08:45:23.586392Z",
     "start_time": "2019-10-06T08:45:15.623131Z"
    },
    "scrolled": true
   },
   "outputs": [
    {
     "name": "stdout",
     "output_type": "stream",
     "text": [
      "hello world\n",
      "5\n"
     ]
    }
   ],
   "source": [
    "line = input()\n",
    "word = line.split()\n",
    "print(len(word[-1]))"
   ]
  },
  {
   "cell_type": "markdown",
   "metadata": {},
   "source": [
    "### 题目描述\n",
    "写出一个程序，接受一个由字母和数字组成的字符串，和一个字符，然后输出输入字符串中含有该字符的个数。不区分大小写。\n",
    "#### 输入描述\n",
    "第一行输入一个有字母和数字以及空格组成的字符串，第二行输入一个字符。\n",
    "#### 输出描述\n",
    "输出输入字符串中含有该字符的个数。"
   ]
  },
  {
   "cell_type": "code",
   "execution_count": 3,
   "metadata": {
    "ExecuteTime": {
     "end_time": "2019-10-06T08:47:13.613620Z",
     "start_time": "2019-10-06T08:47:07.001036Z"
    }
   },
   "outputs": [
    {
     "name": "stdout",
     "output_type": "stream",
     "text": [
      "ABCDEF\n",
      "A\n",
      "1\n"
     ]
    }
   ],
   "source": [
    "stri = input().lower()   # 不区分大小写\n",
    "letter = input().lower()\n",
    "num = 0\n",
    "for i in stri:\n",
    "    if i == letter:\n",
    "        num += 1\n",
    "print(num)"
   ]
  },
  {
   "cell_type": "markdown",
   "metadata": {},
   "source": [
    "### 题目描述\n",
    "明明想在学校中请一些同学一起做一项问卷调查，为了实验的客观性，他先用计算机生成了N个1到1000之间的随机整数（N≤1000），对于其中重复的数字，只保留一个，把其余相同的数去掉，不同的数对应着不同的学生的学号。然后再把这些数从小到大排序，按照排好的顺序去找同学做调查。请你协助明明完成“去重”与“排序”的工作(同一个测试用例里可能会有多组数据，希望大家能正确处理)。\n",
    "\n",
    "Input Param\n",
    "n               输入随机数的个数\n",
    "inputArray      n个随机整数组成的数组\n",
    "\n",
    "Return Value\n",
    "OutputArray    输出处理后的随机整数\n",
    "\n",
    "注：测试用例保证输入参数的正确性，答题者无需验证。测试用例不止一组。\n",
    "#### 输入描述:\n",
    "输入多行，先输入随机整数的个数，再输入相应个数的整数\n",
    "#### 输出描述:\n",
    "返回多行，处理后的结果"
   ]
  },
  {
   "cell_type": "code",
   "execution_count": 4,
   "metadata": {
    "ExecuteTime": {
     "end_time": "2019-10-06T08:49:16.695069Z",
     "start_time": "2019-10-06T08:49:08.811252Z"
    },
    "scrolled": true
   },
   "outputs": [
    {
     "name": "stdout",
     "output_type": "stream",
     "text": [
      "11 10 20 40 32 67 40 20 89 300 400 15\n"
     ]
    }
   ],
   "source": [
    "while True:\n",
    "    try:\n",
    "        num = int(input())\n",
    "        array = []\n",
    "        for i in range(num):\n",
    "            array.append(int(input()))\n",
    "        temp = list(sorted(set(array)))  # set去重\n",
    "        for i in temp:\n",
    "            print(i)\n",
    "    except:\n",
    "        break"
   ]
  },
  {
   "cell_type": "markdown",
   "metadata": {},
   "source": [
    "### 题目描述\n",
    "•连续输入字符串，请按长度为8拆分每个字符串后输出到新的字符串数组； \n",
    "•长度不是8整数倍的字符串请在后面补数字0，空字符串不处理。 \n",
    "#### 输入描述：\n",
    "连续输入字符串(输入2次,每个字符串长度小于100)\n",
    "#### 输出描述\n",
    "输出到长度为8的新字符串数组"
   ]
  },
  {
   "cell_type": "code",
   "execution_count": 5,
   "metadata": {
    "ExecuteTime": {
     "end_time": "2019-10-06T08:53:16.988519Z",
     "start_time": "2019-10-06T08:53:07.091654Z"
    }
   },
   "outputs": [
    {
     "name": "stdout",
     "output_type": "stream",
     "text": [
      "abc\n",
      "abc00000\n",
      "123456789\n",
      "12345678\n",
      "90000000\n"
     ]
    }
   ],
   "source": [
    "for i in range(2):\n",
    "    line = input()\n",
    "    while True:\n",
    "        if len(line) >= 8:\n",
    "            print(line[0:8])\n",
    "            line = line[8:]\n",
    "        elif len(line) != 0:\n",
    "            print(line + '0'*(8-len(line)))\n",
    "            break\n",
    "        else:\n",
    "            break"
   ]
  },
  {
   "cell_type": "markdown",
   "metadata": {},
   "source": [
    "### 题目描述\n",
    "写出一个程序，接受一个十六进制的数，输出该数值的十进制表示。（多组同时输入 ） \n",
    "#### 输入描述：\n",
    "输入一个十六进制的数值字符串。\n",
    "#### 输出描述\n",
    "输出该数值的十进制字符串。"
   ]
  },
  {
   "cell_type": "code",
   "execution_count": 6,
   "metadata": {
    "ExecuteTime": {
     "end_time": "2019-10-06T08:55:06.066506Z",
     "start_time": "2019-10-06T08:55:00.326232Z"
    }
   },
   "outputs": [
    {
     "name": "stdout",
     "output_type": "stream",
     "text": [
      "0xA\n",
      "10\n",
      "\n"
     ]
    }
   ],
   "source": [
    "while True:\n",
    "    try:\n",
    "        print(int(input(), 16))  # int(x, base=10)， base：进制\n",
    "    except:\n",
    "        break"
   ]
  },
  {
   "cell_type": "markdown",
   "metadata": {},
   "source": [
    "### 题目描述\n",
    "功能:输入一个正整数，按照从小到大的顺序输出它的所有质数的因子（如180的质数因子为2 2 3 3 5 ）\n",
    "最后一个数后面也要有空格\n",
    "详细描述：\n",
    "\n",
    "函数接口说明：\n",
    "public String getResult(long ulDataInput)\n",
    "输入参数：\n",
    "long ulDataInput：输入的正整数\n",
    "返回值：\n",
    "String\n",
    "#### 输入描述：\n",
    "输入一个long型整数\n",
    "#### 输出描述\n",
    "按照从小到大的顺序输出它的所有质数的因子，以空格隔开。最后一个数后面也要有空格。"
   ]
  },
  {
   "cell_type": "code",
   "execution_count": 7,
   "metadata": {
    "ExecuteTime": {
     "end_time": "2019-10-06T09:10:58.857160Z",
     "start_time": "2019-10-06T09:10:53.107905Z"
    }
   },
   "outputs": [
    {
     "name": "stdout",
     "output_type": "stream",
     "text": [
      "180\n",
      "2 2 3 3 5 \n"
     ]
    }
   ],
   "source": [
    "import math\n",
    "def get_factor(n):\n",
    "    isZhishu = True\n",
    "    for i in range(2, int(math.sqrt(1 + n)) + 1):\n",
    "        if n % i == 0:\n",
    "            factor.append(i)\n",
    "            isZhishu = False\n",
    "            get_factor(int(n/i))  # 递归\n",
    "            break\n",
    "    if isZhishu:\n",
    "        factor.append(n)\n",
    "\n",
    "num, factor = int(input()), []\n",
    "get_factor(num)\n",
    "\n",
    "print(' '.join([str(i) for i in factor])+' ')  # 包含数字的list无法直接join，需转为字符类型"
   ]
  },
  {
   "cell_type": "markdown",
   "metadata": {},
   "source": [
    "### 备注：\n",
    "对于每个数n，其实并不需要从2判断到n-1，我们知道，一个数若可以进行因数分解，那么分解时得到的两个数一定是一个小于等于sqrt(n)，一个大于等于sqrt(n)，据此，上述代码中并不需要遍历到n-1，遍历到sqrt(n)即可，因为若sqrt(n)左侧找不到约数，那么右侧也一定找不到约数。查找到sqrt(n)即可"
   ]
  },
  {
   "cell_type": "markdown",
   "metadata": {},
   "source": [
    "### 题目描述\n",
    "写出一个程序，接受一个正浮点数值，输出该数值的近似整数值。如果小数点后数值大于等于5,向上取整；小于5，则向下取整。\n",
    "#### 输入描述：\n",
    "输入一个正浮点数值\n",
    "#### 输出描述\n",
    "输出该数值的近似整数值"
   ]
  },
  {
   "cell_type": "code",
   "execution_count": 8,
   "metadata": {
    "ExecuteTime": {
     "end_time": "2019-10-06T09:13:03.263492Z",
     "start_time": "2019-10-06T09:13:00.143233Z"
    }
   },
   "outputs": [
    {
     "name": "stdout",
     "output_type": "stream",
     "text": [
      "5.5\n",
      "6\n"
     ]
    }
   ],
   "source": [
    "num = float(input())          # 注：round()有时会不通过，因为python会把4.5存为4.49999999......\n",
    "if num - int(num) >= 0.5:\n",
    "    print(int(num)+1)\n",
    "else:\n",
    "    print(int(num))"
   ]
  },
  {
   "cell_type": "markdown",
   "metadata": {},
   "source": [
    "### 题目描述\n",
    "数据表记录包含表索引和数值（int范围的整数），请对表索引相同的记录进行合并，即将相同索引的数值进行求和运算，输出按照key值升序进行输出。\n",
    "#### 输入描述：\n",
    "先输入键值对的个数\n",
    "然后输入成对的index和value值，以空格隔开\n",
    "#### 输出描述\n",
    "输出合并后的键值对（多行）"
   ]
  },
  {
   "cell_type": "code",
   "execution_count": 7,
   "metadata": {
    "ExecuteTime": {
     "end_time": "2019-10-10T14:44:36.485300Z",
     "start_time": "2019-10-10T14:44:30.039277Z"
    }
   },
   "outputs": [
    {
     "name": "stdout",
     "output_type": "stream",
     "text": [
      "4\n",
      "0 1\n",
      "0 2\n",
      "1 2\n",
      "3 4\n",
      "0 3\n",
      "1 2\n",
      "3 4\n"
     ]
    }
   ],
   "source": [
    "num = int(input())\n",
    "result = dict()\n",
    "for i in range(num):\n",
    "    index, value = map(int, input().split())  # map(function, iterable, ...)第一个参数 function\n",
    "                                              # 以参数序列中的每一个元素调用 function 函数，返回包含每次 function 函数返回值的新列表。\n",
    "    if index in result.keys():\n",
    "        result[index] += value\n",
    "    else:\n",
    "        result[index] = value\n",
    "for key in sorted(result.keys()):\n",
    "    print(key, result[key])"
   ]
  },
  {
   "cell_type": "markdown",
   "metadata": {},
   "source": [
    "### 题目描述\n",
    "输入一个int型整数，按照从右向左的阅读顺序，返回一个不含重复数字的新的整数。\n",
    "#### 输入描述：\n",
    "输入一个int型整数\n",
    "#### 输出描述\n",
    "按照从右向左的阅读顺序，返回一个不含重复数字的新的整数"
   ]
  },
  {
   "cell_type": "code",
   "execution_count": 8,
   "metadata": {
    "ExecuteTime": {
     "end_time": "2019-10-11T12:49:47.244058Z",
     "start_time": "2019-10-11T12:49:45.994626Z"
    }
   },
   "outputs": [
    {
     "name": "stdout",
     "output_type": "stream",
     "text": [
      "9876673\n",
      "37689"
     ]
    }
   ],
   "source": [
    "num = input()\n",
    "letter = []\n",
    "for i in range(len(num)-1, -1, -1):\n",
    "    if num[i] not in letter:\n",
    "        print(num[i], end=\"\")\n",
    "        letter.append(num[i])\n",
    "    else:\n",
    "        continue\n",
    "# 前排解法  reversed： 反转迭代器      \n",
    "n=input()\n",
    "l=list(reversed(n))\n",
    "result=[]\n",
    "for i in l:\n",
    "    if i not in result:\n",
    "        result.append(i)\n",
    "print(\"\".join(result))"
   ]
  },
  {
   "cell_type": "markdown",
   "metadata": {},
   "source": [
    "### 题目描述\n",
    "编写一个函数，计算字符串中含有的不同字符的个数。字符在ACSII码范围内(0~127)，换行表示结束符，不算在字符里。不在范围内的不作统计。\n",
    "#### 输入描述：\n",
    "输入N个字符，字符在ACSII码范围内。\n",
    "#### 输出描述\n",
    "输出范围在(0~127)字符的个数。"
   ]
  },
  {
   "cell_type": "code",
   "execution_count": 14,
   "metadata": {
    "ExecuteTime": {
     "end_time": "2019-10-11T12:59:05.836780Z",
     "start_time": "2019-10-11T12:59:04.958533Z"
    },
    "scrolled": true
   },
   "outputs": [
    {
     "name": "stdout",
     "output_type": "stream",
     "text": [
      "uqic^g`(s&jnl(m#vt!onwdj(ru+os&wx\n",
      "24\n"
     ]
    }
   ],
   "source": [
    "# ord() : 字符转ACSII码  chr(): ACSII码转字符\n",
    "str = set(input())\n",
    "num_acsii = 0\n",
    "for i in str:\n",
    "    if 0 <= ord(i) < 128:\n",
    "        num_acsii += 1\n",
    "print(num_acsii)"
   ]
  },
  {
   "cell_type": "markdown",
   "metadata": {},
   "source": [
    "### 题目描述\n",
    "输入一个整数，将这个整数以字符串的形式逆序输出\n",
    "程序不考虑负数的情况，若数字含有0，则逆序形式也含有0，如输入为100，则输出为001\n",
    "#### 输入描述：\n",
    "输入一个int整数\n",
    "#### 输出描述\n",
    "将这个整数以字符串的形式逆序输出"
   ]
  },
  {
   "cell_type": "code",
   "execution_count": 15,
   "metadata": {
    "ExecuteTime": {
     "end_time": "2019-10-11T13:04:02.832372Z",
     "start_time": "2019-10-11T13:03:58.234316Z"
    }
   },
   "outputs": [
    {
     "name": "stdout",
     "output_type": "stream",
     "text": [
      "1516000\n",
      "0006151\n"
     ]
    }
   ],
   "source": [
    "num = input()\n",
    "str = list(reversed(num))\n",
    "print(\"\".join(str))"
   ]
  },
  {
   "cell_type": "markdown",
   "metadata": {},
   "source": [
    "### 题目描述\n",
    "写出一个程序，接受一个字符串，然后输出该字符串反转后的字符串。例如：\n",
    "#### 输入描述：\n",
    "输入N个字符\n",
    "#### 输出描述\n",
    "输出该字符串反转后的字符串"
   ]
  },
  {
   "cell_type": "code",
   "execution_count": 16,
   "metadata": {
    "ExecuteTime": {
     "end_time": "2019-10-11T13:04:59.386547Z",
     "start_time": "2019-10-11T13:04:54.555810Z"
    }
   },
   "outputs": [
    {
     "name": "stdout",
     "output_type": "stream",
     "text": [
      "abcd\n",
      "dcba\n"
     ]
    }
   ],
   "source": [
    "str = input()\n",
    "str = list(reversed(str))\n",
    "print(\"\".join(str))"
   ]
  },
  {
   "cell_type": "markdown",
   "metadata": {},
   "source": [
    "### 题目描述\n",
    "将一个英文语句以单词为单位逆序排放。例如“I am a boy”，逆序排放后为“boy a am I”\n",
    "所有单词之间用一个空格隔开，语句中除了英文字母外，不再包含其他字符\n",
    "#### 输入描述：\n",
    "将一个英文语句以单词为单位逆序排放。\n",
    "#### 输出描述\n",
    "得到逆序的句子"
   ]
  },
  {
   "cell_type": "code",
   "execution_count": 18,
   "metadata": {
    "ExecuteTime": {
     "end_time": "2019-10-11T13:09:38.301744Z",
     "start_time": "2019-10-11T13:09:36.587270Z"
    }
   },
   "outputs": [
    {
     "name": "stdout",
     "output_type": "stream",
     "text": [
      "I am a boy\n",
      "boy a am I "
     ]
    }
   ],
   "source": [
    "# 思路一\n",
    "str = input()\n",
    "words = str.split()\n",
    "for word in range(len(words)-1, -1, -1):\n",
    "    print(words[word], end=\" \")\n",
    "\n",
    "# 思路二\n",
    "str = input()\n",
    "words_reversed = list(reversed(str.split()))  # 或 words_reversed = str.split()[::-1]\n",
    "print(\" \".join(words_reversed))"
   ]
  },
  {
   "cell_type": "markdown",
   "metadata": {},
   "source": [
    "### 备注\n",
    "列表反转的两种方法：\n",
    "1. list(reversed(lis))\n",
    "2. 切片 lis[::-1] ([::-1]表示的是从头到尾，步长为-1，你感受一下。)"
   ]
  },
  {
   "cell_type": "markdown",
   "metadata": {},
   "source": [
    "### 题目描述\n",
    "给定n个字符串，请对n个字符串按照字典序排列。\n",
    "#### 输入描述:\n",
    "输入第一行为一个正整数n(1≤n≤1000),下面n行为n个字符串(字符串长度≤100),字符串中只含有大小写字母。\n",
    "#### 输出描述:\n",
    "数据输出n行，输出结果为按照字典序排列的字符串。"
   ]
  },
  {
   "cell_type": "code",
   "execution_count": 14,
   "metadata": {
    "ExecuteTime": {
     "end_time": "2019-10-12T07:28:28.754155Z",
     "start_time": "2019-10-12T07:28:09.923073Z"
    },
    "collapsed": true
   },
   "outputs": [
    {
     "name": "stdout",
     "output_type": "stream",
     "text": [
      "9\n",
      "cap\n",
      "to\n",
      "cat\n",
      "card\n",
      "two\n",
      "too\n",
      "uo\n",
      "boat\n",
      "boot\n",
      "boat\n",
      "boot\n",
      "cap\n",
      "card\n",
      "cat\n",
      "to\n",
      "too\n",
      "two\n",
      "uo\n"
     ]
    }
   ],
   "source": [
    "num = int(input())\n",
    "lis = []\n",
    "for i in range(num):\n",
    "    lis.append(input())\n",
    "lis = sorted(lis, reverse=False)\n",
    "for word in lis:\n",
    "    print(word)"
   ]
  },
  {
   "cell_type": "markdown",
   "metadata": {},
   "source": [
    "### 备注\n",
    "sorted(iterable, cmp=None, key=None, reverse=False)\n",
    "reverse -- 排序规则，reverse = True 降序 ， reverse = False 升序（默认）。"
   ]
  },
  {
   "cell_type": "markdown",
   "metadata": {},
   "source": [
    "### 题目描述\n",
    "输入一个int型的正整数，计算出该int型数据在内存中存储时1的个数。\n",
    "#### 输入描述:\n",
    "输入一个整数（int类型）\n",
    "#### 输出描述:\n",
    "这个数转换成2进制后，输出1的个数"
   ]
  },
  {
   "cell_type": "code",
   "execution_count": 23,
   "metadata": {
    "ExecuteTime": {
     "end_time": "2019-10-12T07:34:09.354312Z",
     "start_time": "2019-10-12T07:34:08.279318Z"
    }
   },
   "outputs": [
    {
     "name": "stdout",
     "output_type": "stream",
     "text": [
      "5\n",
      "2\n"
     ]
    }
   ],
   "source": [
    "num = int(input())\n",
    "num_2 = bin(num)\n",
    "print(num_2.count('1'))"
   ]
  },
  {
   "cell_type": "markdown",
   "metadata": {},
   "source": [
    "### 备注 十进制转二、八、十六进制\n",
    "* \"转换为二进制为：\", bin(dec)\n",
    "* \"转换为八进制为：\", oct(dec)\n",
    "* \"转换为十六进制为：\", hex(dec)"
   ]
  },
  {
   "cell_type": "markdown",
   "metadata": {},
   "source": [
    "### 题目描述\n",
    "给定一个字符串描述的算术表达式，计算出结果值。\n",
    "输入字符串长度不超过100，合法的字符包括”+, -, *, /, (, )”，”0-9”，字符串内容的合法性及表达式语法的合法性由做题者检查。本题目只涉及整型计算。\n",
    "#### 输入描述:\n",
    "输入算术表达式\n",
    "#### 输出描述:\n",
    "计算出结果值"
   ]
  },
  {
   "cell_type": "code",
   "execution_count": 3,
   "metadata": {
    "ExecuteTime": {
     "end_time": "2019-10-14T14:34:33.579579Z",
     "start_time": "2019-10-14T14:34:28.063134Z"
    }
   },
   "outputs": [
    {
     "name": "stdout",
     "output_type": "stream",
     "text": [
      "(2+3)*5\n",
      "25\n"
     ]
    }
   ],
   "source": [
    "# 一行代码解法\n",
    "line = input()\n",
    "print(eval(line))\n",
    "# 下次更用逆波兰算法求解"
   ]
  },
  {
   "cell_type": "code",
   "execution_count": null,
   "metadata": {},
   "outputs": [],
   "source": []
  },
  {
   "cell_type": "code",
   "execution_count": null,
   "metadata": {},
   "outputs": [],
   "source": []
  },
  {
   "cell_type": "code",
   "execution_count": null,
   "metadata": {},
   "outputs": [],
   "source": []
  }
 ],
 "metadata": {
  "kernelspec": {
   "display_name": "Python 3",
   "language": "python",
   "name": "python3"
  },
  "language_info": {
   "codemirror_mode": {
    "name": "ipython",
    "version": 3
   },
   "file_extension": ".py",
   "mimetype": "text/x-python",
   "name": "python",
   "nbconvert_exporter": "python",
   "pygments_lexer": "ipython3",
   "version": "3.7.0"
  }
 },
 "nbformat": 4,
 "nbformat_minor": 2
}
