{
 "cells": [
  {
   "cell_type": "markdown",
   "metadata": {},
   "source": [
    "# 牛客网 华为机试题库"
   ]
  },
  {
   "cell_type": "markdown",
   "metadata": {},
   "source": [
    "### 题目描述\n",
    "计算字符串最后一个单词的长度，单词以空格隔开。 \n",
    "#### 输入描述\n",
    "一行字符串，非空，长度小于5000。\n",
    "#### 输出描述\n",
    "整数N，最后一个单词的长度。"
   ]
  },
  {
   "cell_type": "code",
   "execution_count": 1,
   "metadata": {
    "ExecuteTime": {
     "end_time": "2019-10-06T08:45:23.586392Z",
     "start_time": "2019-10-06T08:45:15.623131Z"
    },
    "scrolled": true
   },
   "outputs": [
    {
     "name": "stdout",
     "output_type": "stream",
     "text": [
      "hello world\n",
      "5\n"
     ]
    }
   ],
   "source": [
    "line = input()\n",
    "word = line.split()\n",
    "print(len(word[-1]))"
   ]
  },
  {
   "cell_type": "markdown",
   "metadata": {},
   "source": [
    "### 题目描述\n",
    "写出一个程序，接受一个由字母和数字组成的字符串，和一个字符，然后输出输入字符串中含有该字符的个数。不区分大小写。\n",
    "#### 输入描述\n",
    "第一行输入一个有字母和数字以及空格组成的字符串，第二行输入一个字符。\n",
    "#### 输出描述\n",
    "输出输入字符串中含有该字符的个数。"
   ]
  },
  {
   "cell_type": "code",
   "execution_count": 3,
   "metadata": {
    "ExecuteTime": {
     "end_time": "2019-10-06T08:47:13.613620Z",
     "start_time": "2019-10-06T08:47:07.001036Z"
    }
   },
   "outputs": [
    {
     "name": "stdout",
     "output_type": "stream",
     "text": [
      "ABCDEF\n",
      "A\n",
      "1\n"
     ]
    }
   ],
   "source": [
    "stri = input().lower()   # 不区分大小写\n",
    "letter = input().lower()\n",
    "num = 0\n",
    "for i in stri:\n",
    "    if i == letter:\n",
    "        num += 1\n",
    "print(num)"
   ]
  },
  {
   "cell_type": "markdown",
   "metadata": {},
   "source": [
    "### 题目描述\n",
    "明明想在学校中请一些同学一起做一项问卷调查，为了实验的客观性，他先用计算机生成了N个1到1000之间的随机整数（N≤1000），对于其中重复的数字，只保留一个，把其余相同的数去掉，不同的数对应着不同的学生的学号。然后再把这些数从小到大排序，按照排好的顺序去找同学做调查。请你协助明明完成“去重”与“排序”的工作(同一个测试用例里可能会有多组数据，希望大家能正确处理)。\n",
    "\n",
    "Input Param\n",
    "n               输入随机数的个数\n",
    "inputArray      n个随机整数组成的数组\n",
    "\n",
    "Return Value\n",
    "OutputArray    输出处理后的随机整数\n",
    "\n",
    "注：测试用例保证输入参数的正确性，答题者无需验证。测试用例不止一组。\n",
    "#### 输入描述:\n",
    "输入多行，先输入随机整数的个数，再输入相应个数的整数\n",
    "#### 输出描述:\n",
    "返回多行，处理后的结果"
   ]
  },
  {
   "cell_type": "code",
   "execution_count": 4,
   "metadata": {
    "ExecuteTime": {
     "end_time": "2019-10-06T08:49:16.695069Z",
     "start_time": "2019-10-06T08:49:08.811252Z"
    },
    "scrolled": true
   },
   "outputs": [
    {
     "name": "stdout",
     "output_type": "stream",
     "text": [
      "11 10 20 40 32 67 40 20 89 300 400 15\n"
     ]
    }
   ],
   "source": [
    "while True:\n",
    "    try:\n",
    "        num = int(input())\n",
    "        array = []\n",
    "        for i in range(num):\n",
    "            array.append(int(input()))\n",
    "        temp = list(sorted(set(array)))  # set去重\n",
    "        for i in temp:\n",
    "            print(i)\n",
    "    except:\n",
    "        break"
   ]
  },
  {
   "cell_type": "markdown",
   "metadata": {},
   "source": [
    "### 题目描述\n",
    "* 连续输入字符串，请按长度为8拆分每个字符串后输出到新的字符串数组； \n",
    "* 长度不是8整数倍的字符串请在后面补数字0，空字符串不处理。 \n",
    "\n",
    "#### 输入描述：\n",
    "连续输入字符串(输入2次,每个字符串长度小于100)\n",
    "#### 输出描述\n",
    "输出到长度为8的新字符串数组"
   ]
  },
  {
   "cell_type": "code",
   "execution_count": 5,
   "metadata": {
    "ExecuteTime": {
     "end_time": "2019-10-06T08:53:16.988519Z",
     "start_time": "2019-10-06T08:53:07.091654Z"
    }
   },
   "outputs": [
    {
     "name": "stdout",
     "output_type": "stream",
     "text": [
      "abc\n",
      "abc00000\n",
      "123456789\n",
      "12345678\n",
      "90000000\n"
     ]
    }
   ],
   "source": [
    "for i in range(2):\n",
    "    line = input()\n",
    "    while True:\n",
    "        if len(line) >= 8:\n",
    "            print(line[0:8])\n",
    "            line = line[8:]\n",
    "        elif len(line) != 0:\n",
    "            print(line + '0'*(8-len(line)))\n",
    "            break\n",
    "        else:\n",
    "            break"
   ]
  },
  {
   "cell_type": "markdown",
   "metadata": {},
   "source": [
    "### 题目描述\n",
    "写出一个程序，接受一个十六进制的数，输出该数值的十进制表示。（多组同时输入 ） \n",
    "#### 输入描述：\n",
    "输入一个十六进制的数值字符串。\n",
    "#### 输出描述\n",
    "输出该数值的十进制字符串。"
   ]
  },
  {
   "cell_type": "code",
   "execution_count": 6,
   "metadata": {
    "ExecuteTime": {
     "end_time": "2019-10-06T08:55:06.066506Z",
     "start_time": "2019-10-06T08:55:00.326232Z"
    }
   },
   "outputs": [
    {
     "name": "stdout",
     "output_type": "stream",
     "text": [
      "0xA\n",
      "10\n",
      "\n"
     ]
    }
   ],
   "source": [
    "while True:\n",
    "    try:\n",
    "        print(int(input(), 16))  # int(x, base=10)， base：进制\n",
    "    except:\n",
    "        break"
   ]
  },
  {
   "cell_type": "markdown",
   "metadata": {},
   "source": [
    "### 题目描述\n",
    "功能:输入一个正整数，按照从小到大的顺序输出它的所有质数的因子（如180的质数因子为2 2 3 3 5 ）\n",
    "最后一个数后面也要有空格\n",
    "详细描述：\n",
    "\n",
    "函数接口说明：\n",
    "public String getResult(long ulDataInput)\n",
    "输入参数：\n",
    "long ulDataInput：输入的正整数\n",
    "返回值：\n",
    "String\n",
    "#### 输入描述：\n",
    "输入一个long型整数\n",
    "#### 输出描述\n",
    "按照从小到大的顺序输出它的所有质数的因子，以空格隔开。最后一个数后面也要有空格。"
   ]
  },
  {
   "cell_type": "code",
   "execution_count": 7,
   "metadata": {
    "ExecuteTime": {
     "end_time": "2019-10-06T09:10:58.857160Z",
     "start_time": "2019-10-06T09:10:53.107905Z"
    }
   },
   "outputs": [
    {
     "name": "stdout",
     "output_type": "stream",
     "text": [
      "180\n",
      "2 2 3 3 5 \n"
     ]
    }
   ],
   "source": [
    "import math\n",
    "def get_factor(n):\n",
    "    isZhishu = True\n",
    "    for i in range(2, int(math.sqrt(1 + n)) + 1):\n",
    "        if n % i == 0:\n",
    "            factor.append(i)\n",
    "            isZhishu = False\n",
    "            get_factor(int(n/i))  # 递归\n",
    "            break\n",
    "    if isZhishu:\n",
    "        factor.append(n)\n",
    "\n",
    "num, factor = int(input()), []\n",
    "get_factor(num)\n",
    "\n",
    "print(' '.join([str(i) for i in factor])+' ')  # 包含数字的list无法直接join，需转为字符类型"
   ]
  },
  {
   "cell_type": "markdown",
   "metadata": {},
   "source": [
    "### 备注：\n",
    "对于每个数n，其实并不需要从2判断到n-1，我们知道，一个数若可以进行因数分解，那么分解时得到的两个数一定是一个小于等于sqrt(n)，一个大于等于sqrt(n)，据此，上述代码中并不需要遍历到n-1，遍历到sqrt(n)即可，因为若sqrt(n)左侧找不到约数，那么右侧也一定找不到约数。查找到sqrt(n)即可"
   ]
  },
  {
   "cell_type": "markdown",
   "metadata": {},
   "source": [
    "### 题目描述\n",
    "写出一个程序，接受一个正浮点数值，输出该数值的近似整数值。如果小数点后数值大于等于5,向上取整；小于5，则向下取整。\n",
    "#### 输入描述：\n",
    "输入一个正浮点数值\n",
    "#### 输出描述\n",
    "输出该数值的近似整数值"
   ]
  },
  {
   "cell_type": "code",
   "execution_count": 8,
   "metadata": {
    "ExecuteTime": {
     "end_time": "2019-10-06T09:13:03.263492Z",
     "start_time": "2019-10-06T09:13:00.143233Z"
    }
   },
   "outputs": [
    {
     "name": "stdout",
     "output_type": "stream",
     "text": [
      "5.5\n",
      "6\n"
     ]
    }
   ],
   "source": [
    "num = float(input())          # 注：round()有时会不通过，因为python会把4.5存为4.49999999......\n",
    "if num - int(num) >= 0.5:\n",
    "    print(int(num)+1)\n",
    "else:\n",
    "    print(int(num))"
   ]
  },
  {
   "cell_type": "markdown",
   "metadata": {},
   "source": [
    "### 题目描述\n",
    "数据表记录包含表索引和数值（int范围的整数），请对表索引相同的记录进行合并，即将相同索引的数值进行求和运算，输出按照key值升序进行输出。\n",
    "#### 输入描述：\n",
    "先输入键值对的个数\n",
    "然后输入成对的index和value值，以空格隔开\n",
    "#### 输出描述\n",
    "输出合并后的键值对（多行）"
   ]
  },
  {
   "cell_type": "code",
   "execution_count": 7,
   "metadata": {
    "ExecuteTime": {
     "end_time": "2019-10-10T14:44:36.485300Z",
     "start_time": "2019-10-10T14:44:30.039277Z"
    }
   },
   "outputs": [
    {
     "name": "stdout",
     "output_type": "stream",
     "text": [
      "4\n",
      "0 1\n",
      "0 2\n",
      "1 2\n",
      "3 4\n",
      "0 3\n",
      "1 2\n",
      "3 4\n"
     ]
    }
   ],
   "source": [
    "num = int(input())\n",
    "result = dict()\n",
    "for i in range(num):\n",
    "    index, value = map(int, input().split())  # map(function, iterable, ...)第一个参数 function\n",
    "                                              # 以参数序列中的每一个元素调用 function 函数，返回包含每次 function 函数返回值的新列表。\n",
    "    if index in result.keys():\n",
    "        result[index] += value\n",
    "    else:\n",
    "        result[index] = value\n",
    "for key in sorted(result.keys()):\n",
    "    print(key, result[key])"
   ]
  },
  {
   "cell_type": "markdown",
   "metadata": {},
   "source": [
    "### 题目描述\n",
    "输入一个int型整数，按照从右向左的阅读顺序，返回一个不含重复数字的新的整数。\n",
    "#### 输入描述：\n",
    "输入一个int型整数\n",
    "#### 输出描述\n",
    "按照从右向左的阅读顺序，返回一个不含重复数字的新的整数"
   ]
  },
  {
   "cell_type": "code",
   "execution_count": 8,
   "metadata": {
    "ExecuteTime": {
     "end_time": "2019-10-11T12:49:47.244058Z",
     "start_time": "2019-10-11T12:49:45.994626Z"
    }
   },
   "outputs": [
    {
     "name": "stdout",
     "output_type": "stream",
     "text": [
      "9876673\n",
      "37689"
     ]
    }
   ],
   "source": [
    "num = input()\n",
    "letter = []\n",
    "for i in range(len(num)-1, -1, -1):\n",
    "    if num[i] not in letter:\n",
    "        print(num[i], end=\"\")\n",
    "        letter.append(num[i])\n",
    "    else:\n",
    "        continue\n",
    "# 前排解法  reversed： 反转迭代器      \n",
    "n=input()\n",
    "l=list(reversed(n))\n",
    "result=[]\n",
    "for i in l:\n",
    "    if i not in result:\n",
    "        result.append(i)\n",
    "print(\"\".join(result))"
   ]
  },
  {
   "cell_type": "markdown",
   "metadata": {},
   "source": [
    "### 题目描述\n",
    "编写一个函数，计算字符串中含有的不同字符的个数。字符在ACSII码范围内(0~127)，换行表示结束符，不算在字符里。不在范围内的不作统计。\n",
    "#### 输入描述：\n",
    "输入N个字符，字符在ACSII码范围内。\n",
    "#### 输出描述\n",
    "输出范围在(0~127)字符的个数。"
   ]
  },
  {
   "cell_type": "code",
   "execution_count": 14,
   "metadata": {
    "ExecuteTime": {
     "end_time": "2019-10-11T12:59:05.836780Z",
     "start_time": "2019-10-11T12:59:04.958533Z"
    },
    "scrolled": true
   },
   "outputs": [
    {
     "name": "stdout",
     "output_type": "stream",
     "text": [
      "uqic^g`(s&jnl(m#vt!onwdj(ru+os&wx\n",
      "24\n"
     ]
    }
   ],
   "source": [
    "# ord() : 字符转ACSII码  chr(): ACSII码转字符\n",
    "str = set(input())\n",
    "num_acsii = 0\n",
    "for i in str:\n",
    "    if 0 <= ord(i) < 128:\n",
    "        num_acsii += 1\n",
    "print(num_acsii)"
   ]
  },
  {
   "cell_type": "markdown",
   "metadata": {},
   "source": [
    "### 题目描述\n",
    "输入一个整数，将这个整数以字符串的形式逆序输出\n",
    "程序不考虑负数的情况，若数字含有0，则逆序形式也含有0，如输入为100，则输出为001\n",
    "#### 输入描述：\n",
    "输入一个int整数\n",
    "#### 输出描述\n",
    "将这个整数以字符串的形式逆序输出"
   ]
  },
  {
   "cell_type": "code",
   "execution_count": 15,
   "metadata": {
    "ExecuteTime": {
     "end_time": "2019-10-11T13:04:02.832372Z",
     "start_time": "2019-10-11T13:03:58.234316Z"
    }
   },
   "outputs": [
    {
     "name": "stdout",
     "output_type": "stream",
     "text": [
      "1516000\n",
      "0006151\n"
     ]
    }
   ],
   "source": [
    "num = input()\n",
    "str = list(reversed(num))\n",
    "print(\"\".join(str))"
   ]
  },
  {
   "cell_type": "markdown",
   "metadata": {},
   "source": [
    "### 题目描述\n",
    "写出一个程序，接受一个字符串，然后输出该字符串反转后的字符串。例如：\n",
    "#### 输入描述：\n",
    "输入N个字符\n",
    "#### 输出描述\n",
    "输出该字符串反转后的字符串"
   ]
  },
  {
   "cell_type": "code",
   "execution_count": 16,
   "metadata": {
    "ExecuteTime": {
     "end_time": "2019-10-11T13:04:59.386547Z",
     "start_time": "2019-10-11T13:04:54.555810Z"
    }
   },
   "outputs": [
    {
     "name": "stdout",
     "output_type": "stream",
     "text": [
      "abcd\n",
      "dcba\n"
     ]
    }
   ],
   "source": [
    "str = input()\n",
    "str = list(reversed(str))\n",
    "print(\"\".join(str))"
   ]
  },
  {
   "cell_type": "markdown",
   "metadata": {},
   "source": [
    "### 题目描述\n",
    "将一个英文语句以单词为单位逆序排放。例如“I am a boy”，逆序排放后为“boy a am I”\n",
    "所有单词之间用一个空格隔开，语句中除了英文字母外，不再包含其他字符\n",
    "#### 输入描述：\n",
    "将一个英文语句以单词为单位逆序排放。\n",
    "#### 输出描述\n",
    "得到逆序的句子"
   ]
  },
  {
   "cell_type": "code",
   "execution_count": 18,
   "metadata": {
    "ExecuteTime": {
     "end_time": "2019-10-11T13:09:38.301744Z",
     "start_time": "2019-10-11T13:09:36.587270Z"
    }
   },
   "outputs": [
    {
     "name": "stdout",
     "output_type": "stream",
     "text": [
      "I am a boy\n",
      "boy a am I "
     ]
    }
   ],
   "source": [
    "# 思路一\n",
    "str = input()\n",
    "words = str.split()\n",
    "for word in range(len(words)-1, -1, -1):\n",
    "    print(words[word], end=\" \")\n",
    "\n",
    "# 思路二\n",
    "str = input()\n",
    "words_reversed = list(reversed(str.split()))  # 或 words_reversed = str.split()[::-1]\n",
    "print(\" \".join(words_reversed))"
   ]
  },
  {
   "cell_type": "markdown",
   "metadata": {},
   "source": [
    "### 备注\n",
    "列表反转的两种方法：\n",
    "1. list(reversed(lis))\n",
    "2. 切片 lis[::-1] ([::-1]表示的是从头到尾，步长为-1，你感受一下。)"
   ]
  },
  {
   "cell_type": "markdown",
   "metadata": {},
   "source": [
    "### 题目描述\n",
    "给定n个字符串，请对n个字符串按照字典序排列。\n",
    "#### 输入描述:\n",
    "输入第一行为一个正整数n(1≤n≤1000),下面n行为n个字符串(字符串长度≤100),字符串中只含有大小写字母。\n",
    "#### 输出描述:\n",
    "数据输出n行，输出结果为按照字典序排列的字符串。"
   ]
  },
  {
   "cell_type": "code",
   "execution_count": 14,
   "metadata": {
    "ExecuteTime": {
     "end_time": "2019-10-12T07:28:28.754155Z",
     "start_time": "2019-10-12T07:28:09.923073Z"
    },
    "collapsed": true
   },
   "outputs": [
    {
     "name": "stdout",
     "output_type": "stream",
     "text": [
      "9\n",
      "cap\n",
      "to\n",
      "cat\n",
      "card\n",
      "two\n",
      "too\n",
      "uo\n",
      "boat\n",
      "boot\n",
      "boat\n",
      "boot\n",
      "cap\n",
      "card\n",
      "cat\n",
      "to\n",
      "too\n",
      "two\n",
      "uo\n"
     ]
    }
   ],
   "source": [
    "num = int(input())\n",
    "lis = []\n",
    "for i in range(num):\n",
    "    lis.append(input())\n",
    "lis = sorted(lis, reverse=False)\n",
    "for word in lis:\n",
    "    print(word)"
   ]
  },
  {
   "cell_type": "markdown",
   "metadata": {},
   "source": [
    "### 备注\n",
    "sorted(iterable, cmp=None, key=None, reverse=False)\n",
    "reverse -- 排序规则，reverse = True 降序 ， reverse = False 升序（默认）。"
   ]
  },
  {
   "cell_type": "markdown",
   "metadata": {},
   "source": [
    "### 题目描述\n",
    "输入一个int型的正整数，计算出该int型数据在内存中存储时1的个数。\n",
    "#### 输入描述:\n",
    "输入一个整数（int类型）\n",
    "#### 输出描述:\n",
    "这个数转换成2进制后，输出1的个数"
   ]
  },
  {
   "cell_type": "code",
   "execution_count": 23,
   "metadata": {
    "ExecuteTime": {
     "end_time": "2019-10-12T07:34:09.354312Z",
     "start_time": "2019-10-12T07:34:08.279318Z"
    }
   },
   "outputs": [
    {
     "name": "stdout",
     "output_type": "stream",
     "text": [
      "5\n",
      "2\n"
     ]
    }
   ],
   "source": [
    "num = int(input())\n",
    "num_2 = bin(num)\n",
    "print(num_2.count('1'))"
   ]
  },
  {
   "cell_type": "markdown",
   "metadata": {},
   "source": [
    "### 备注 十进制转二、八、十六进制\n",
    "* \"转换为二进制为：\", bin(dec)\n",
    "* \"转换为八进制为：\", oct(dec)\n",
    "* \"转换为十六进制为：\", hex(dec)"
   ]
  },
  {
   "cell_type": "markdown",
   "metadata": {},
   "source": [
    "### 题目描述\n",
    "给定一个字符串描述的算术表达式，计算出结果值。\n",
    "输入字符串长度不超过100，合法的字符包括”+, -, *, /, (, )”，”0-9”，字符串内容的合法性及表达式语法的合法性由做题者检查。本题目只涉及整型计算。\n",
    "#### 输入描述:\n",
    "输入算术表达式\n",
    "#### 输出描述:\n",
    "计算出结果值"
   ]
  },
  {
   "cell_type": "code",
   "execution_count": 3,
   "metadata": {
    "ExecuteTime": {
     "end_time": "2019-10-14T14:34:33.579579Z",
     "start_time": "2019-10-14T14:34:28.063134Z"
    }
   },
   "outputs": [
    {
     "name": "stdout",
     "output_type": "stream",
     "text": [
      "(2+3)*5\n",
      "25\n"
     ]
    }
   ],
   "source": [
    "# 一行代码解法\n",
    "line = input()\n",
    "print(eval(line))"
   ]
  },
  {
   "cell_type": "code",
   "execution_count": 2,
   "metadata": {
    "ExecuteTime": {
     "end_time": "2019-10-16T15:21:15.098793Z",
     "start_time": "2019-10-16T15:21:08.896521Z"
    },
    "scrolled": true
   },
   "outputs": [
    {
     "name": "stdout",
     "output_type": "stream",
     "text": [
      "3+2*{1+2*[-4/(8-6)+7]}\n",
      "25\n"
     ]
    }
   ],
   "source": [
    "# 逆波兰表达式求解\n",
    "\n",
    "# Step 1 将字符串转为中缀表达式(infix)的形式,(主要将表达式中的多位数字切到一起，在遍历时当做一个元素处理)\n",
    "def strToInfix(line):\n",
    "    # 1 预处理\n",
    "    # 1）去除字符串中的空格, 三种方法\n",
    "    #    ①\n",
    "    line = line.replace(' ', '')\n",
    "    #    ②\n",
    "    line = ''.join(line.split())\n",
    "    #    ③\n",
    "    line = re.sub('\\s', '', line)  \n",
    "    #  2) 括号统一\n",
    "    line = re.sub('[{[]', '(', line)  \n",
    "    line = re.sub('[\\}\\]]', ')', line)  \n",
    "    \n",
    "    # 2 正则匹配切分，str.split()只能按单个分隔符切分, re.split()可以接收多个分隔符\n",
    "    #     pattern： []分割结果不保留分隔符，([])保留分隔符， 此处用([])\n",
    "    line_split = re.split(\"([\\+, \\-, \\*, /, (, )])\", line)  \n",
    "    # 3 分割结果包含空字符串，两种解决方法：\n",
    "    #    1） 列表表达式\n",
    "    infix = [x for x in line_split if x]\n",
    "    #    2) filter库函数\n",
    "    infix = list(filter(None,line_split))\n",
    "    \n",
    "    # 4 若“-”为第一位，或前一位为\"(\"，则在前插入0\n",
    "    for i in range(len(infix)):\n",
    "        if infix[i] == '-':\n",
    "            if i == 0:\n",
    "                infix.insert(0, 0)\n",
    "                infix.insert(0, '(')\n",
    "                infix.insert(4, ')')\n",
    "            elif infix[i - 1] == '(':\n",
    "                infix.insert(i, 0)\n",
    "                infix.insert(i, '(')\n",
    "                infix.insert(i+4, ')')\n",
    "    return infix\n",
    "\n",
    "# Step 2 中缀表达式转后缀表达式\n",
    "def infixToPostfix(infix):\n",
    "    # 中缀表达式转后缀表达式\n",
    "    stack = [] # 存储栈\n",
    "    postfix = [] # 后缀表达式\n",
    "    priority = {'(': 0, ')': 0,\n",
    "                '+': 1, '-': 1,\n",
    "                '*': 2, '/': 2}\n",
    "    for i in range(len(infix)):\n",
    "        char = infix[i]\n",
    "        if char in priority.keys():  # 运算符号\n",
    "            if stack:\n",
    "                if char not in ['(', ')']:  \n",
    "                    while stack and (priority[char] <= priority[stack[-1]]) and ((stack[-1] not in ['(', ')'])) :     \n",
    "                        temp = stack.pop()\n",
    "                        if temp not in ['(', ')']:\n",
    "                            postfix.append(temp)\n",
    "                    stack.append(char)\n",
    "                elif  char == ')':\n",
    "                    while stack[-1] !='(':\n",
    "                        temp = stack.pop()\n",
    "                        postfix.append(temp)\n",
    "                    stack.pop()\n",
    "                else:\n",
    "                    stack.append(char)\n",
    "            else:\n",
    "                stack.append(char)\n",
    "        else:  # 数字\n",
    "            postfix.append(char)\n",
    "    while stack:\n",
    "        temp = stack.pop()\n",
    "        postfix.append(temp)\n",
    "    return postfix\n",
    "\n",
    "# Step 3 后缀表达式计算\n",
    "def calPostfix(postfix):\n",
    "    stack = []\n",
    "    symbol_lis = ['+', '-', '*', '/']\n",
    "    for i in postfix:\n",
    "        if i in symbol_lis:\n",
    "            num2 = int(stack.pop())\n",
    "            num1 = int(stack.pop())\n",
    "            if i == '+':\n",
    "                cal = num1 + num2\n",
    "            elif i == '-':\n",
    "                cal = num1 - num2\n",
    "            elif i == '*':\n",
    "                cal = num1 * num2\n",
    "            elif i == '/':\n",
    "                cal = num1 /num2\n",
    "            else:\n",
    "                raise print(\"error!\")\n",
    "            stack.append(cal)\n",
    "        else:\n",
    "            stack.append(i)\n",
    "    return stack[0]\n",
    "\n",
    "import re\n",
    "str_ = input()\n",
    "infix = strToInfix(str_)\n",
    "postfix = infixToPostfix(infix)\n",
    "result = calPostfix(postfix)\n",
    "print(result)"
   ]
  },
  {
   "cell_type": "code",
   "execution_count": 129,
   "metadata": {
    "ExecuteTime": {
     "end_time": "2019-10-16T14:33:41.137922Z",
     "start_time": "2019-10-16T14:33:41.128042Z"
    }
   },
   "outputs": [],
   "source": [
    "# Step 1+2 开始时没做预处理，直接用字符串直接转后缀表达式，\n",
    "# 在处理多位数时遇到点小麻烦。使用了一个skip_flag变量，在遍历字符串遇到数字时，一直往后遍历，\n",
    "# 直至遇到运算符,skip_flag赋值为（多位数位数-1），在遍历时若skip_flag不为0则减一并空过一轮\n",
    "def strToPostfix(line):\n",
    "    # 中缀表达式转后缀表达式\n",
    "    stack = [] # 存储栈\n",
    "    postfix = [] # 后缀表达式\n",
    "    priority = {'(': 0, ')': 0,\n",
    "                '+': 1, '-': 1,\n",
    "                '*': 2, '/': 2}\n",
    "    skip_flag = 0\n",
    "    line = line.replace(' ', '')\n",
    "    line = re.sub('[{[]', '(', line)\n",
    "    line = re.sub('[\\}\\]]', ')', line)\n",
    "    line = [x for x in line]\n",
    "    for i in range(len(line)):\n",
    "        if line[i] == '-':\n",
    "            if i == 0:\n",
    "                line.insert(0, 0)\n",
    "                line.insert(0, '(')\n",
    "                line.insert(4, ')')\n",
    "            elif line[i - 1] == '(':\n",
    "                line.insert(i, 0)\n",
    "                line.insert(i, '(')\n",
    "                line.insert(i+4, ')')\n",
    "    for i in range(len(line)):\n",
    "        if skip_flag:\n",
    "            skip_flag -= 1\n",
    "            continue\n",
    "        char = line[i]\n",
    "        if char in priority.keys():\n",
    "            if stack:\n",
    "                if char not in ['(', ')']:\n",
    "                    while stack and (priority[char] <= priority[stack[-1]]) and ((stack[-1] not in ['(', ')'])) :     \n",
    "                        temp = stack.pop()\n",
    "                        if temp not in ['(', ')']:\n",
    "                            postfix.append(temp)\n",
    "                    stack.append(char)\n",
    "                elif  char == ')':\n",
    "                    while stack[-1] !='(':\n",
    "                        temp = stack.pop()\n",
    "                        postfix.append(temp)\n",
    "                    stack.pop()\n",
    "                else:\n",
    "                    stack.append(char)\n",
    "            else:\n",
    "                stack.append(char)\n",
    "        else:\n",
    "            num = char\n",
    "            while (i + 1) < len(line):\n",
    "                 if line[i + 1] not in priority.keys():\n",
    "                     num += line[i + 1]\n",
    "                     i += 1\n",
    "                 else:\n",
    "                     break\n",
    "            skip_flag = len(num) - 1\n",
    "            postfix.append(num)\n",
    "    while stack:\n",
    "        temp = stack.pop()\n",
    "        postfix.append(temp)\n",
    "    return postfix"
   ]
  },
  {
   "cell_type": "markdown",
   "metadata": {},
   "source": [
    "### 题目描述\n",
    "在命令行输入如下命令：\n",
    "xcopy /s c:\\ d:\\，\n",
    "\n",
    "各个参数如下： \n",
    "* 参数1：命令字xcopy \n",
    "* 参数2：字符串/s\n",
    "* 参数3：字符串c:\\\n",
    "* 参数4: 字符串d:\\\n",
    "\n",
    "请编写一个参数解析程序，实现将命令行各个参数解析出来。\n",
    "\n",
    "解析规则： \n",
    "1. 参数分隔符为空格 \n",
    "2. 对于用“”包含起来的参数，如果中间有空格，不能解析为多个参数。比如在命令行输入xcopy /s \"C:\\program files\" \"d:\\\"时，参数仍然是4个，第3个参数应该是字符串C:\\program files，而不是C:\\program，注意输出参数时，需要将“”去掉，引号不存在嵌套情况。\n",
    "3. 参数不定长 \n",
    "4. 输入由用例保证，不会出现不符合要求的输入 \n",
    "\n",
    "#### 输入描述：\n",
    "输入一行字符串，可以有空格\n",
    "#### 输出描述：\n",
    "输出参数个数，分解后的参数，每个参数都独占一行"
   ]
  },
  {
   "cell_type": "code",
   "execution_count": 16,
   "metadata": {
    "ExecuteTime": {
     "end_time": "2019-10-24T08:30:40.068523Z",
     "start_time": "2019-10-24T08:30:38.728975Z"
    }
   },
   "outputs": [
    {
     "name": "stdout",
     "output_type": "stream",
     "text": [
      "xcopy /s \"C:\\program files\" \"d:\\\"\n",
      "['xcopy', '/s', '\"C:\\\\program', 'files\"', '\"d:\\\\\"']\n",
      "['xcopy /s ', 'C:\\\\program files', 'd:\\\\']\n",
      "4\n",
      "xcopy\n",
      "/s\n",
      "C:\\program files\n",
      "d:\\\n"
     ]
    }
   ],
   "source": [
    "# 其实种类并不多，第一、二个参数是固定的，无非是第三个参数有引号，或第四个有，或两者都有，或都没有\n",
    "# 四种情况穷举，思路虽然比较Low但简单不容易错\n",
    "line = input()\n",
    "result = []\n",
    "line_0 = [x for x in line.split() if x and x != ' ']\n",
    "line_1 = [x for x in line.split('\"') if x and x != ' ']\n",
    "result.extend(line_0[0:2])\n",
    "if len(line_1) == 1:\n",
    "    result.extend(line_0[2:])\n",
    "elif len(line_1) == 2:\n",
    "    result.append(line_0[3])\n",
    "    result.append(line_1[-1])\n",
    "elif len(line_1) == 3:\n",
    "    result.extend(line_1[1:])    \n",
    "elif len(line_1) == 4:\n",
    "    result.extend(line_1[1:])\n",
    "else:\n",
    "    print(len(line_1), 'error')\n",
    "print(len(result))\n",
    "for i in result:\n",
    "    print(i)"
   ]
  },
  {
   "cell_type": "markdown",
   "metadata": {},
   "source": [
    "### 题目描述\n",
    "将一个字符串str的内容颠倒过来，并输出。str的长度不超过100个字符。 如：输入“I am a student”，输出“tneduts a ma I”。\n",
    "#### 输入描述:\n",
    "inputString：输入的字符串\n",
    "#### 输出描述:\n",
    "输出转换好的逆序字符串"
   ]
  },
  {
   "cell_type": "code",
   "execution_count": 7,
   "metadata": {
    "ExecuteTime": {
     "end_time": "2019-10-30T11:41:48.201148Z",
     "start_time": "2019-10-30T11:41:45.501948Z"
    }
   },
   "outputs": [
    {
     "name": "stdout",
     "output_type": "stream",
     "text": [
      "I am a student\n",
      "tneduts a ma II am a student\n",
      "tneduts a ma I\n"
     ]
    }
   ],
   "source": [
    "line = input()\n",
    "for i in range(len(line)-1, -1, -1):\n",
    "    print(line[i], end='')\n",
    "    \n",
    "# 一行解法\n",
    "print(input()[::-1])"
   ]
  },
  {
   "cell_type": "markdown",
   "metadata": {},
   "source": [
    "### 题目描述\n",
    "有6条配置命令，它们执行的结果分别是：\n",
    "\n",
    "| 命令 | 执行 |\n",
    "| ----- | ----- |\n",
    "| reset\t| reset what |\n",
    "| reset board | board fault |\n",
    "| board add\t| where to add |\n",
    "| board delet | no board at all |\n",
    "| reboot backplane | impossible |\n",
    "| backplane abort | install first |\n",
    "| he he\t| unkown command |\n",
    "\n",
    "注意：he he不是命令。\n",
    "\n",
    "为了简化输入，方便用户，以“最短唯一匹配原则”匹配：\n",
    "\n",
    "1、若只输入一字串，则只匹配一个关键字的命令行。例如输入：r，根据该规则，匹配命令reset，执行结果为：reset what；输入：res，根据该规则，匹配命令reset，执行结果为：reset what； \n",
    "\n",
    "2、若只输入一字串，但本条命令有两个关键字，则匹配失败。例如输入：reb，可以找到命令reboot backpalne，但是该命令有两个关键词，所有匹配失败，执行结果为：unkown command \n",
    "\n",
    "3、若输入两字串，则先匹配第一关键字，如果有匹配但不唯一，继续匹配第二关键字，如果仍不唯一，匹配失败。例如输入：r b，找到匹配命令reset board 和 reboot backplane，执行结果为：unknown command。\n",
    "\n",
    "4、若输入两字串，则先匹配第一关键字，如果有匹配但不唯一，继续匹配第二关键字，如果唯一，匹配成功。例如输入：b a，无法确定是命令board add还是backplane abort，匹配失败。\n",
    "\n",
    "5、若输入两字串，第一关键字匹配成功，则匹配第二关键字，若无匹配，失败。例如输入：bo a，确定是命令board add，匹配成功。\n",
    "\n",
    "6、若匹配失败，打印“unkown command”\n",
    "\n",
    "#### 输入描述:\n",
    "多行字符串，每行字符串一条命令\n",
    "#### 输出描述:\n",
    "执行结果，每条命令输出一行"
   ]
  },
  {
   "cell_type": "code",
   "execution_count": 14,
   "metadata": {
    "ExecuteTime": {
     "end_time": "2019-10-30T15:19:14.277583Z",
     "start_time": "2019-10-30T15:19:03.983498Z"
    }
   },
   "outputs": [
    {
     "name": "stdout",
     "output_type": "stream",
     "text": [
      "reboot backplane\t\n",
      "impossible\n",
      "\n"
     ]
    }
   ],
   "source": [
    "key_command = {'reset board': 'board fault', \n",
    "               'board add': 'where to add', \n",
    "               'board delet': 'no board at all', \n",
    "               'reboot backplane': 'impossible', \n",
    "               'backplane abort': 'install first'}\n",
    "while True:\n",
    "    try:\n",
    "        line = input().split()\n",
    "        if len(line) == 1:\n",
    "            if line[0] == 'reset'[0:len(line[0])]:\n",
    "                print('reset what')\n",
    "            else:\n",
    "                print('unkown command')\n",
    "        elif len(line) == 2:\n",
    "            flag = False\n",
    "            for key in key_command.keys():\n",
    "                key_temp = key.split()\n",
    "                if (line[0] == key_temp[0][0:len(line[0])]) and (line[1] == key_temp[1][0:len(line[1])]):\n",
    "                    print(key_command[key])\n",
    "                    flag = True\n",
    "                    break\n",
    "            if not flag:\n",
    "                print('unkown command')\n",
    "        else:\n",
    "            print('unkown command')\n",
    "    except:\n",
    "        break"
   ]
  },
  {
   "cell_type": "markdown",
   "metadata": {},
   "source": [
    "### 题目描述\n",
    "把M个同样的苹果放在N个同样的盘子里，允许有的盘子空着不放，问共有多少种不同的分法？（用K表示）5，1，1和1，5，1 是同一种分法。\n",
    "\n",
    "每个用例包含二个整数M和N。0<=m<=10，1<=n<=10。\n",
    "#### 输入描述:\n",
    "输入两个int整数\n",
    "#### 输出描述:\n",
    "输出结果，int型"
   ]
  },
  {
   "cell_type": "code",
   "execution_count": 20,
   "metadata": {
    "ExecuteTime": {
     "end_time": "2019-10-30T15:38:22.148961Z",
     "start_time": "2019-10-30T15:38:19.488892Z"
    }
   },
   "outputs": [
    {
     "name": "stdout",
     "output_type": "stream",
     "text": [
      "2 5\n",
      "2\n"
     ]
    }
   ],
   "source": [
    "# 暴力递归\n",
    "def fun(m, n):\n",
    "    if (m == 0) or (n == 1):\n",
    "        return 1\n",
    "    if m < n:\n",
    "        return fun(m, m)\n",
    "    else:\n",
    "        return fun(m, n-1) + fun(m-n, n)\n",
    "while True:\n",
    "    try:\n",
    "        M, N = map(int, input().split())\n",
    "        print(fun(M, N))\n",
    "    except:\n",
    "        break"
   ]
  },
  {
   "cell_type": "code",
   "execution_count": 36,
   "metadata": {
    "ExecuteTime": {
     "end_time": "2019-10-30T15:54:26.692392Z",
     "start_time": "2019-10-30T15:54:22.147544Z"
    }
   },
   "outputs": [
    {
     "name": "stdout",
     "output_type": "stream",
     "text": [
      "7 3\n",
      "8\n",
      "\n"
     ]
    }
   ],
   "source": [
    "# 备忘录递归\n",
    "def fun(m, n):\n",
    "    if memory[m][n] == 0:\n",
    "        if (m == 0) or (n == 1):\n",
    "            memory[m][n] = 1\n",
    "        elif m < n:\n",
    "            memory[m][n] = fun(m, m)\n",
    "        else:\n",
    "            memory[m][n] = fun(m, n-1) + fun(m-n, n)\n",
    "        return memory[m][n]\n",
    "    else:\n",
    "        return memory[m][n]\n",
    "while True:\n",
    "    try:\n",
    "        M, N = map(int, input().split())\n",
    "        memory = [[0 for j in range(N + 1)] for i in range(M + 1)]\n",
    "        print(fun(M, N))\n",
    "    except:\n",
    "        break"
   ]
  },
  {
   "cell_type": "code",
   "execution_count": 9,
   "metadata": {
    "ExecuteTime": {
     "end_time": "2019-10-31T09:03:47.701930Z",
     "start_time": "2019-10-31T09:03:41.988498Z"
    }
   },
   "outputs": [
    {
     "name": "stdout",
     "output_type": "stream",
     "text": [
      "7 3\n",
      "8\n",
      "\n"
     ]
    }
   ],
   "source": [
    "# 非递归动态规划\n",
    "def fun(m, n):\n",
    "    dp_table = [[0 for j in range(n + 1)] for i in range(m + 1)]\n",
    "    for i in range(n + 1):\n",
    "        dp_table[0][i] = 1\n",
    "    for i in range(m + 1):\n",
    "        dp_table[i][1] = 1\n",
    "    for j in range(1, n + 1):\n",
    "        for i in range(1, m + 1):\n",
    "            if i < j:\n",
    "                dp_table[i][j] = dp_table[i][i]\n",
    "            else:\n",
    "                dp_table[i][j] = dp_table[i][j-1] + dp_table[i-j][j]\n",
    "    return dp_table[m][n]\n",
    "while True:\n",
    "    try:\n",
    "        M, N = map(int, input().split())\n",
    "        print(fun(M, N))\n",
    "    except:\n",
    "        break"
   ]
  },
  {
   "cell_type": "markdown",
   "metadata": {
    "ExecuteTime": {
     "end_time": "2019-11-11T13:49:59.295026Z",
     "start_time": "2019-11-11T13:49:59.291043Z"
    }
   },
   "source": [
    "### 题目描述\n",
    "                1\n",
    "             1  1  1\n",
    "          1  2  3  2  1\n",
    "       1  3  6  7  6  3  1\n",
    "    1  4  10 16 19 16 10 4  1\n",
    "\n",
    "以上三角形的数阵，第一行只有一个数1，以下每行的每个数，是恰好是它上面的数，左上角数到右上角的数，3个数之和（如果不存在某个数，认为该数就是0）。\n",
    "\n",
    "求第n行第一个偶数出现的位置。如果没有偶数，则输出-1。例如输入3,则输出2，输入4则输出3。\n",
    "\n",
    "输入n(n <= 1000000000)\n",
    "#### 输入描述:\n",
    "输入一个int整数\n",
    "#### 输出描述:\n",
    "输出返回的int值"
   ]
  },
  {
   "cell_type": "code",
   "execution_count": 4,
   "metadata": {
    "ExecuteTime": {
     "end_time": "2019-11-11T14:03:42.814317Z",
     "start_time": "2019-11-11T14:03:38.672739Z"
    }
   },
   "outputs": [
    {
     "name": "stdout",
     "output_type": "stream",
     "text": [
      "83\n",
      "2\n",
      "\n"
     ]
    }
   ],
   "source": [
    "# 思路，多写几个看出规律\n",
    "while True:\n",
    "    try:\n",
    "        n = int(input())\n",
    "        if n <= 2:\n",
    "            print('-1')\n",
    "        elif n % 2 == 1:\n",
    "            print('2')\n",
    "        else:\n",
    "            if (n / 2) % 2 == 0:\n",
    "                print('3')\n",
    "            else:\n",
    "                print('4')\n",
    "    except:\n",
    "        break"
   ]
  },
  {
   "cell_type": "markdown",
   "metadata": {
    "ExecuteTime": {
     "end_time": "2019-11-11T14:26:35.151892Z",
     "start_time": "2019-11-11T14:26:35.139248Z"
    }
   },
   "source": [
    "### 题目描述\n",
    "有一个数据表格为二维数组（数组元素为int类型），行长度为ROW_LENGTH,列长度为COLUMN_LENGTH。对该表格中数据的操作可以在单个单元内，也可以对一个整行或整列进行操作，操作包括交换两个单元中的数据；插入某些行或列。 \n",
    "\n",
    "请编写程序，实现对表格的各种操作，并跟踪表格中数据在进行各种操作时，初始数据在表格中位置的变化轨迹。\n",
    "\n",
    "详细要求:\n",
    "\n",
    "1. 数据表规格的表示方式为“行*列”, 数据表元素的位置表示方式为[行,列]，行列均从0开始编号\n",
    "2. 数据表的最大规格为9行*9列，对表格进行操作时遇到超出规格应该返回错误\n",
    "3. 插入操作时，对m*n表格，插入行号只允许0~m，插入列号只允许0~n。超出范围应该返回错误\n",
    "4. 只需记录初始表格中数据的变化轨迹，查询超出初始表格的数据应返回错误\n",
    "<br> 例如:  初始表格为4*4，可查询的元素范围为[0,0]~[3,3]，假设插入了第2行，数组变为5*4，查询元素[4,0]时应该返回错误\n",
    "5. 查询数据要求返回一个链表，链表中节点的顺序即为该查询的数据在表格中的位置变化顺序（需包含初始位置）\n",
    "\n",
    "#### 输入描述:\n",
    "输入数据按下列顺序输入：\n",
    "\n",
    "1. 表格的行列值\n",
    "2. 要交换的两个单元格的行列值\n",
    "3. 输入要插入的行的数值\n",
    "4. 输入要插入的列的数值\n",
    "5. 输入要获取运动轨迹的单元格的值\n",
    "\n",
    "#### 输出描述:\n",
    "输出按下列顺序输出：\n",
    "\n",
    "1. 初始化表格是否成功，若成功则返回0， 否则返回-1\n",
    "2. 输出交换单元格是否成功\n",
    "3. 输出插入行是否成功\n",
    "4. 输出插入列是否成功\n",
    "5. 输出要查询的运动轨迹的单元查询是否成功"
   ]
  },
  {
   "cell_type": "code",
   "execution_count": 10,
   "metadata": {
    "ExecuteTime": {
     "end_time": "2019-11-11T14:52:12.346901Z",
     "start_time": "2019-11-11T14:51:39.775172Z"
    }
   },
   "outputs": [
    {
     "name": "stdout",
     "output_type": "stream",
     "text": [
      "3 4\n",
      "0\n",
      "1 1 0 1 \n",
      "0\n",
      "2\n",
      "0\n",
      "1\n",
      "0\n",
      "2 2\n",
      "0\n",
      "\n"
     ]
    }
   ],
   "source": [
    "# 这题可太没劲了。。\n",
    "while True:\n",
    "    try:\n",
    "        row, col = map(int, input().split())\n",
    "        if (row > 9) or (col > 9):\n",
    "            print(-1)\n",
    "        else:\n",
    "            print(0)\n",
    "        i, j, m, n = map(int, input().split())\n",
    "        if (i < row) and (m < row) and (j < col) and (n < col):\n",
    "            print(0)\n",
    "        else:\n",
    "            print(-1)\n",
    "        insert_row = int(input())\n",
    "        if insert_row < row:\n",
    "            print(0)\n",
    "        else:\n",
    "            print(-1)\n",
    "        insert_col = int(input())\n",
    "        if insert_col < col:\n",
    "            print(0)\n",
    "        else:\n",
    "            print(-1)\n",
    "        search_row, search_col = map(int, input().split())\n",
    "        if (search_row < row) and (search_col < col):\n",
    "            print(0)\n",
    "        else:\n",
    "            print(-1)\n",
    "    except:\n",
    "        break"
   ]
  },
  {
   "cell_type": "markdown",
   "metadata": {},
   "source": [
    "### 题目描述\n",
    "请编写一个函数（允许增加子函数），计算n x m的棋盘格子（n为横向的格子数，m为竖向的格子数）沿着各自边缘线从左上角走到右下角，总共有多少种走法，要求不能走回头路，即：只能往右和往下走，不能往左和往上走。\n",
    "#### 输入描述:\n",
    "输入两个正整数\n",
    "#### 输出描述:\n",
    "返回结果"
   ]
  },
  {
   "cell_type": "code",
   "execution_count": 11,
   "metadata": {
    "ExecuteTime": {
     "end_time": "2019-11-11T15:02:41.344620Z",
     "start_time": "2019-11-11T15:02:35.884997Z"
    }
   },
   "outputs": [
    {
     "name": "stdout",
     "output_type": "stream",
     "text": [
      "2 2\n",
      "6\n",
      "\n"
     ]
    }
   ],
   "source": [
    "# 动态规划，状态转移方程和边界条件很容易找到\n",
    "# 暴力递归\n",
    "def fun(row, col):\n",
    "    if (row == 0) or (col == 0):\n",
    "        return 1\n",
    "    return fun(row-1, col) + fun(row, col-1) \n",
    "\n",
    "while True:\n",
    "    try:\n",
    "        n, m = map(int, input().split())\n",
    "        print(fun(n, m))\n",
    "    except:\n",
    "        break"
   ]
  },
  {
   "cell_type": "code",
   "execution_count": 1,
   "metadata": {
    "ExecuteTime": {
     "end_time": "2019-11-12T10:54:29.120363Z",
     "start_time": "2019-11-12T10:54:26.676265Z"
    }
   },
   "outputs": [
    {
     "name": "stdout",
     "output_type": "stream",
     "text": [
      "2 2\n",
      "6\n",
      "\n"
     ]
    }
   ],
   "source": [
    "# 带备忘录的动态规划写法\n",
    "def fun(row, col):\n",
    "    if (row == 0) or (col == 0):\n",
    "        return memory[row][col]\n",
    "    memory[row][col] = fun(row-1, col) + fun(row, col - 1)\n",
    "    return memory[row][col]\n",
    "while True:\n",
    "    try:\n",
    "        n, m = map(int, input().split())\n",
    "        memory = [[1 for i in range(m+1)] for j in range(n+1)]\n",
    "        print(fun(n, m))\n",
    "    except:\n",
    "        break"
   ]
  },
  {
   "cell_type": "code",
   "execution_count": 2,
   "metadata": {
    "ExecuteTime": {
     "end_time": "2019-11-12T10:54:34.120766Z",
     "start_time": "2019-11-12T10:54:31.239857Z"
    }
   },
   "outputs": [
    {
     "name": "stdout",
     "output_type": "stream",
     "text": [
      "2 2\n",
      "6\n",
      "\n"
     ]
    }
   ],
   "source": [
    "# 非递归动态写法\n",
    "def fun(row, col):\n",
    "    dp_table = [[1 for i in range(col+1)] for j in range(row+1)]\n",
    "    for i in range(1, row+1):\n",
    "        for j in range(1, col+1):\n",
    "            dp_table[i][j] = dp_table[i-1][j] + dp_table[i][j-1]\n",
    "    return dp_table[row][col]\n",
    "while True:\n",
    "    try:\n",
    "        n, m = map(int, input().split())\n",
    "        print(fun(n, m))\n",
    "    except:\n",
    "        break"
   ]
  },
  {
   "cell_type": "markdown",
   "metadata": {},
   "source": [
    "### 题目描述\n",
    "计算整数二进制中1的个数\n",
    "#### 输入描述:\n",
    "输入一个整数\n",
    "#### 输出描述:\n",
    "返回结果"
   ]
  },
  {
   "cell_type": "code",
   "execution_count": 1,
   "metadata": {
    "ExecuteTime": {
     "end_time": "2019-11-13T07:22:00.873667Z",
     "start_time": "2019-11-13T07:21:59.354318Z"
    }
   },
   "outputs": [
    {
     "name": "stdout",
     "output_type": "stream",
     "text": [
      "5\n",
      "2\n"
     ]
    }
   ],
   "source": [
    "while True:\n",
    "    try:\n",
    "        print(bin(int(input())).count('1'))\n",
    "    except:\n",
    "        break"
   ]
  },
  {
   "cell_type": "markdown",
   "metadata": {},
   "source": [
    "### 题目描述\n",
    "完全数（Perfect number），又称完美数或完备数，是一些特殊的自然数。\n",
    "\n",
    "它所有的真因子（即除了自身以外的约数）的和（即因子函数），恰好等于它本身。\n",
    "\n",
    "例如：28，它有约数1、2、4、7、14、28，除去它本身28外，其余5个数相加，1+2+4+7+14=28。\n",
    "\n",
    "给定函数count(int n),用于计算n以内(含n)完全数的个数。计算范围, 0 < n <= 500000\n",
    "\n",
    "返回n以内完全数的个数。 异常情况返回-1\n",
    "#### 输入描述:\n",
    "输入一个数字\n",
    "#### 输出描述:\n",
    "输出完全数的个数"
   ]
  },
  {
   "cell_type": "code",
   "execution_count": 1,
   "metadata": {
    "ExecuteTime": {
     "end_time": "2019-11-13T12:50:09.883900Z",
     "start_time": "2019-11-13T12:50:06.575744Z"
    }
   },
   "outputs": [
    {
     "name": "stdout",
     "output_type": "stream",
     "text": [
      "1000\n",
      "3\n",
      "\n"
     ]
    }
   ],
   "source": [
    "# 猥琐解法\n",
    "while True:\n",
    "    try:\n",
    "        num = int(input())\n",
    "        print(len(list(filter(lambda x: x < num, [6, 28, 496, 8128]))))\n",
    "    except:\n",
    "        break"
   ]
  },
  {
   "cell_type": "code",
   "execution_count": 25,
   "metadata": {
    "ExecuteTime": {
     "end_time": "2019-11-13T13:14:21.761145Z",
     "start_time": "2019-11-13T13:14:19.940816Z"
    }
   },
   "outputs": [
    {
     "name": "stdout",
     "output_type": "stream",
     "text": [
      "1000\n",
      "3\n",
      "\n"
     ]
    }
   ],
   "source": [
    "# 正常解法\n",
    "def perfect(N):\n",
    "    fac = list()\n",
    "    fac.append(1)\n",
    "    end = int(N / 2)\n",
    "    for i in range(2, end + 1):\n",
    "        if N % i == 0:\n",
    "            if i == end:\n",
    "                break\n",
    "            else:\n",
    "                fac.append(i)\n",
    "                fac.append(N / i)\n",
    "                end = int(N / i)\n",
    "    if sum(fac) == N:\n",
    "#         print(N, fac)\n",
    "        return True\n",
    "    else:\n",
    "        return False\n",
    "while True:\n",
    "    try:\n",
    "        num = int(input())\n",
    "        count = 0\n",
    "        for i in range(2, num + 1):\n",
    "            if perfect(i):\n",
    "                count += 1\n",
    "        print(count)\n",
    "    except:\n",
    "        break\n",
    "        "
   ]
  },
  {
   "cell_type": "markdown",
   "metadata": {},
   "source": [
    "### 题目描述\n",
    "验证尼科彻斯定理，即：任何一个整数m的立方都可以写成m个连续奇数之和。\n",
    "\n",
    "例如：\n",
    "\n",
    "1^3=1 \n",
    "\n",
    "2^3=3+5 \n",
    "\n",
    "3^3=7+9+11 \n",
    "\n",
    "4^3=13+15+17+19 \n",
    "#### 输入描述:\n",
    "输入一个int整数\n",
    "#### 输出描述:\n",
    "输出分解后的string"
   ]
  },
  {
   "cell_type": "code",
   "execution_count": 3,
   "metadata": {
    "ExecuteTime": {
     "end_time": "2019-11-27T07:51:42.854984Z",
     "start_time": "2019-11-27T07:51:40.639061Z"
    }
   },
   "outputs": [
    {
     "name": "stdout",
     "output_type": "stream",
     "text": [
      "6\n",
      "31+33+35+37+39+41\n",
      "\n"
     ]
    }
   ],
   "source": [
    "while True:\n",
    "    try:\n",
    "        num = int(input())\n",
    "        lis = [str(i) for i in range(num*(num-1)+1, num*(num-1)+1+num*2, 2)]\n",
    "        print(\"+\".join(lis))\n",
    "    except:\n",
    "        break"
   ]
  },
  {
   "cell_type": "markdown",
   "metadata": {},
   "source": [
    "### 题目描述\n",
    "给定一个正整数N代表火车数量，0<N<10，接下来输入火车入站的序列，一共N辆火车，每辆火车以数字1-9编号。要求以字典序排序输出火车出站的序列号。 \n",
    "#### 输入描述:\n",
    "有多组测试用例，每一组第一行输入一个正整数N（0<N<10），第二行包括N个正整数，范围为1到9。\n",
    "#### 输出描述:\n",
    "输出以字典序从小到大排序的火车出站序列号，每个编号以空格隔开，每个输出序列换行，具体见sample。"
   ]
  },
  {
   "cell_type": "code",
   "execution_count": null,
   "metadata": {},
   "outputs": [],
   "source": []
  },
  {
   "cell_type": "code",
   "execution_count": null,
   "metadata": {},
   "outputs": [],
   "source": []
  },
  {
   "cell_type": "code",
   "execution_count": null,
   "metadata": {},
   "outputs": [],
   "source": []
  }
 ],
 "metadata": {
  "kernelspec": {
   "display_name": "Python 3",
   "language": "python",
   "name": "python3"
  },
  "language_info": {
   "codemirror_mode": {
    "name": "ipython",
    "version": 3
   },
   "file_extension": ".py",
   "mimetype": "text/x-python",
   "name": "python",
   "nbconvert_exporter": "python",
   "pygments_lexer": "ipython3",
   "version": "3.7.0"
  }
 },
 "nbformat": 4,
 "nbformat_minor": 2
}
