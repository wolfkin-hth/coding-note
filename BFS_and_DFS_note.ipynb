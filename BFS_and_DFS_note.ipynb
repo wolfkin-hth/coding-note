{
 "cells": [
  {
   "cell_type": "markdown",
   "metadata": {},
   "source": [
    "# DFS与BFS"
   ]
  },
  {
   "cell_type": "markdown",
   "metadata": {},
   "source": [
    "## 1. 深度优先搜索（Depth First Search）模板"
   ]
  },
  {
   "cell_type": "code",
   "execution_count": null,
   "metadata": {},
   "outputs": [],
   "source": [
    "def main():\n",
    "\t1.二值标记矩阵visited\n",
    "\t2.遍历每一个节点：\n",
    "\t\tDFS(当前节点，visited)\n",
    "def DFS(node, visited):\n",
    "    1.处理当前顶点，记录为已访问，修改visited\n",
    "    2.遍历与当前顶点相邻的所有未访问顶点\n",
    "    \tDFS(下一子状态, visited);"
   ]
  },
  {
   "cell_type": "markdown",
   "metadata": {},
   "source": [
    "## 2. 广度优先搜索（Breadth First Search）模板"
   ]
  },
  {
   "cell_type": "code",
   "execution_count": null,
   "metadata": {},
   "outputs": [],
   "source": [
    "def main():\n",
    "\t1. 二值标记矩阵visited\n",
    "\t2. 遍历每一个节点：\n",
    "\t\tBFS(当前节点，visited)\n",
    "def BFS(node, visited):\n",
    "    queue = [node] # 1. 初始化队列\n",
    "    2. 入队时同时修改visited\n",
    "    while queue: # 3. 队列非空一直搜索，每次从队首搜索\n",
    "        t = queue.pop(0)\n",
    "        4. 遍历 t 的各个Next状态:next\n",
    "        if (next is legal) \n",
    "          queue.append(next); \n",
    "          5. 入队时同时修改visited"
   ]
  },
  {
   "cell_type": "markdown",
   "metadata": {},
   "source": [
    "## 3 练习题"
   ]
  },
  {
   "cell_type": "markdown",
   "metadata": {},
   "source": [
    "### 1. [岛屿数量](https://leetcode-cn.com/problems/number-of-islands/)\n",
    "\n",
    "给定一个由 '1'（陆地）和 '0'（水）组成的的二维网格，计算岛屿的数量。一个岛被水包围，并且它是通过水平方向或垂直方向上相邻的陆地连接而成的。你可以假设网格的四个边均被水包围。"
   ]
  },
  {
   "cell_type": "code",
   "execution_count": 9,
   "metadata": {},
   "outputs": [],
   "source": [
    "# DFS解法： 时间复杂度 : O(M×N) 空间复杂度 : O(M×N)\n",
    "class Solution:\n",
    "\t# 四个搜索方向\n",
    "    directions = {(0, 1), (0, -1), (1, 0), (-1, 0)}\n",
    "\n",
    "    def numIslands(self, grid) -> int:\n",
    "        m = len(grid)\n",
    "        if not m: return 0\n",
    "        n = len(grid[0])\n",
    "        visited = [[0 for _ in range(n)] for _ in range(m)]  # 二值标记矩阵\n",
    "        count = 0\n",
    "        for i in range(m):\n",
    "            for j in range(n):\n",
    "                if grid[i][j] == \"1\" and visited[i][j] == 0:\n",
    "                    count += 1\n",
    "                    self.dfs(grid, i, j, m, n, visited)\n",
    "        return count\n",
    "\n",
    "    def dfs(self, grid, i, j, m, n, visited):\n",
    "        visited[i][j] = 1\n",
    "        for (di, dj) in self.directions:\n",
    "            if 0<=i+di<m and 0<=j+dj<n and grid[i+di][j+dj]==\"1\" and visited[i+di][j+dj]==0:\n",
    "                self.dfs(grid, i+di, j+dj, m, n, visited)"
   ]
  },
  {
   "cell_type": "code",
   "execution_count": 10,
   "metadata": {},
   "outputs": [],
   "source": [
    "# BFS解法： 时间复杂度 : O(M×N) 空间复杂度 : O(min(M,N))\n",
    "class Solution:\n",
    "    # 四个搜索方向\n",
    "    directions = {(0, 1), (0, -1), (1, 0), (-1, 0)}\n",
    "    def numIslands(self, grid) -> int:\n",
    "        m = len(grid)\n",
    "        if not m: return 0\n",
    "        n = len(grid[0])\n",
    "        visited = [[0 for _ in range(n)] for _ in range(m)]  # 二值标记矩阵\n",
    "        count = 0\n",
    "        for i in range(m):\n",
    "            for j in range(n):\n",
    "                if grid[i][j] == \"1\" and visited[i][j] == 0:\n",
    "                    count += 1\n",
    "                    self.bfs(grid, i, j, m, n, visited)\n",
    "        return count\n",
    "\n",
    "    def bfs(self, grid, i, j, m, n, visited):\n",
    "        visited[i][j] = 1\n",
    "        queue = [(i, j)]\n",
    "        while queue:\n",
    "            i, j = queue.pop(0)\n",
    "            for di, dj in self.directions:\n",
    "                if 0<=i+di<m and 0<=j+dj<n and grid[i+di][j+dj]==\"1\" and visited[i+di][j+dj]==0:\n",
    "                    visited[i+di][j+dj] = 1\n",
    "                    queue.append((i+di, j+dj))"
   ]
  },
  {
   "cell_type": "markdown",
   "metadata": {},
   "source": [
    "### 2. [课程表](https://leetcode-cn.com/problems/course-schedule/)\n",
    "\n",
    "现在你总共有 n 门课需要选，记为 0 到 n-1。\n",
    "\n",
    "在选修某些课程之前需要一些先修课程。 例如，想要学习课程 0 ，你需要先完成课程 1 ，我们用一个匹配来表示他们: [0,1]\n",
    "\n",
    "给定课程总量以及它们的先决条件，判断是否可能完成所有课程的学习？\n",
    "\n",
    "**提示:**\n",
    "\n",
    "1. 这个问题相当于查找一个循环是否存在于有向图中。如果存在循环，则不存在拓扑排序，因此不可能选取所有课程进行学习。\n",
    "2. 通过 DFS 进行拓扑排序 - 一个关于Coursera的精彩视频教程（21分钟），介绍拓扑排序的基本概念。\n",
    "3. 拓扑排序也可以通过 BFS 完成。"
   ]
  },
  {
   "cell_type": "markdown",
   "metadata": {},
   "source": [
    "DFS解法 时间复杂度 O(N + M)  空间复杂度 O(N)\n",
    "* 当 visited[i] == -1，说明当前访问节点已被其他节点启动的 DFS 访问，无需再重复搜索，直接返回 True\n",
    "* 当 visited[i] == 1，说明在**本轮** DFS 搜索中节点 i 被第 2 次访问，即 课程安排图有环，直接返回 False"
   ]
  },
  {
   "cell_type": "code",
   "execution_count": 1,
   "metadata": {},
   "outputs": [],
   "source": [
    "class Solution:\n",
    "    def canFinish(self, numCourses: int, prerequisites) -> bool:\n",
    "        # 创建图，邻接表形式\n",
    "        edges = [[] for _ in range(numCourses)] \n",
    "        for cur, pre in prerequisites:\n",
    "            edges[pre].append(cur)\n",
    "        # 三值矩阵，0代表未被访问、1代表被此轮DFS访问、-1代表被其他轮DFS访问\n",
    "        visited = [0 for _ in range(numCourses)] \n",
    "        for i in range(numCourses):\n",
    "            if not self.DFS(edges, i, visited): return False\n",
    "        return True\n",
    "    \n",
    "    def DFS(self, edges, i, visited):\n",
    "        if visited[i] == 1: return False\n",
    "        if visited[i] == -1: return True\n",
    "        visited[i] = 1\n",
    "        for j in edges[i]:\n",
    "            if not self.DFS(edges, j, visited): return False\n",
    "        visited[i] = -1\n",
    "        return True"
   ]
  },
  {
   "cell_type": "markdown",
   "metadata": {},
   "source": [
    "BFS解法 时间复杂度 O(N + M) 空间复杂度 O(N)\n",
    "* 若整个课程安排图是有向无环图（即可以安排），则所有节点一定都入队并出队过，即完成拓扑排序。\n",
    "* 换个角度说，若课程安排图中存在环，一定有节点的入度始终不为 0。"
   ]
  },
  {
   "cell_type": "code",
   "execution_count": 2,
   "metadata": {},
   "outputs": [],
   "source": [
    "class Solution:\n",
    "    def canFinish(self, numCourses: int, prerequisites) -> bool:\n",
    "        # 创建图，邻接表形式 以及入度表\n",
    "        edges = [[] for _ in range(numCourses)]\n",
    "        indegrees = [0 for _ in range(numCourses)]\n",
    "        for cur, pre in prerequisites:\n",
    "            edges[pre].append(cur)\n",
    "            indegrees[cur] += 1\n",
    "\n",
    "        # 没有前置节点的入队列\n",
    "        queue = [i for i in range(numCourses) if indegrees[i]==0]\n",
    "        while queue:\n",
    "            pre = queue.pop(0)\n",
    "            # 每出一个都要计数\n",
    "            numCourses -= 1\n",
    "            for cur in edges[pre]:\n",
    "                indegrees[cur] -= 1\n",
    "                # 直至前置节点全部出队列，才入队列\n",
    "                if indegrees[cur] == 0:\n",
    "                    queue.append(cur)\n",
    "        return not numCourses"
   ]
  },
  {
   "cell_type": "code",
   "execution_count": null,
   "metadata": {},
   "outputs": [],
   "source": []
  }
 ],
 "metadata": {
  "kernelspec": {
   "display_name": "Python 3",
   "language": "python",
   "name": "python3"
  },
  "language_info": {
   "codemirror_mode": {
    "name": "ipython",
    "version": 3
   },
   "file_extension": ".py",
   "mimetype": "text/x-python",
   "name": "python",
   "nbconvert_exporter": "python",
   "pygments_lexer": "ipython3",
   "version": "3.5.4"
  }
 },
 "nbformat": 4,
 "nbformat_minor": 2
}
