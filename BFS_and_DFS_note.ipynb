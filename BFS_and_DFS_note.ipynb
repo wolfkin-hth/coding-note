{
 "cells": [
  {
   "cell_type": "markdown",
   "metadata": {},
   "source": [
    "# DFS与BFS"
   ]
  },
  {
   "cell_type": "markdown",
   "metadata": {},
   "source": [
    "## 1. 深度优先搜索（Depth First Search）模板"
   ]
  },
  {
   "cell_type": "code",
   "execution_count": null,
   "metadata": {},
   "outputs": [],
   "source": [
    "def main():\n",
    "\t1.二值标记矩阵visited\n",
    "\t2.遍历每一个节点：\n",
    "\t\tDFS(当前节点，visited)\n",
    "def DFS(node, visited):\n",
    "    1.处理当前顶点，记录为已访问，修改visited\n",
    "    2.遍历与当前顶点相邻的所有未访问顶点\n",
    "    \tDFS(下一子状态, visited);"
   ]
  },
  {
   "cell_type": "markdown",
   "metadata": {},
   "source": [
    "## 2. 广度优先搜索（Breadth First Search）模板"
   ]
  },
  {
   "cell_type": "code",
   "execution_count": null,
   "metadata": {},
   "outputs": [],
   "source": [
    "def main():\n",
    "\t1. 二值标记矩阵visited\n",
    "\t2. 遍历每一个节点：\n",
    "\t\tBFS(当前节点，visited)\n",
    "def BFS(node, visited):\n",
    "    queue = [node] # 1. 初始化队列\n",
    "    2. 入队时同时修改visited\n",
    "    while queue: # 3. 队列非空一直搜索，每次从队首搜索\n",
    "        t = queue.pop(0)\n",
    "        4. 遍历 t 的各个Next状态:next\n",
    "        if (next is legal) \n",
    "          queue.append(next); \n",
    "          5. 入队时同时修改visited"
   ]
  },
  {
   "cell_type": "markdown",
   "metadata": {},
   "source": [
    "## 3 练习题"
   ]
  },
  {
   "cell_type": "markdown",
   "metadata": {},
   "source": [
    "### 1. [岛屿数量](https://leetcode-cn.com/problems/number-of-islands/)\n",
    "\n",
    "给定一个由 '1'（陆地）和 '0'（水）组成的的二维网格，计算岛屿的数量。一个岛被水包围，并且它是通过水平方向或垂直方向上相邻的陆地连接而成的。你可以假设网格的四个边均被水包围。"
   ]
  },
  {
   "cell_type": "code",
   "execution_count": 9,
   "metadata": {},
   "outputs": [],
   "source": [
    "# DFS解法： 时间复杂度 : O(M×N) 空间复杂度 : O(M×N)\n",
    "class Solution:\n",
    "\t# 四个搜索方向\n",
    "    directions = {(0, 1), (0, -1), (1, 0), (-1, 0)}\n",
    "\n",
    "    def numIslands(self, grid) -> int:\n",
    "        m = len(grid)\n",
    "        if not m: return 0\n",
    "        n = len(grid[0])\n",
    "        visited = [[0 for _ in range(n)] for _ in range(m)]  # 二值标记矩阵\n",
    "        count = 0\n",
    "        for i in range(m):\n",
    "            for j in range(n):\n",
    "                if grid[i][j] == \"1\" and visited[i][j] == 0:\n",
    "                    count += 1\n",
    "                    self.dfs(grid, i, j, m, n, visited)\n",
    "        return count\n",
    "\n",
    "    def dfs(self, grid, i, j, m, n, visited):\n",
    "        visited[i][j] = 1\n",
    "        for (di, dj) in self.directions:\n",
    "            if 0<=i+di<m and 0<=j+dj<n and grid[i+di][j+dj]==\"1\" and visited[i+di][j+dj]==0:\n",
    "                self.dfs(grid, i+di, j+dj, m, n, visited)"
   ]
  },
  {
   "cell_type": "code",
   "execution_count": 10,
   "metadata": {},
   "outputs": [],
   "source": [
    "# BFS解法： 时间复杂度 : O(M×N) 空间复杂度 : O(min(M,N))\n",
    "class Solution:\n",
    "    # 四个搜索方向\n",
    "    directions = {(0, 1), (0, -1), (1, 0), (-1, 0)}\n",
    "    def numIslands(self, grid) -> int:\n",
    "        m = len(grid)\n",
    "        if not m: return 0\n",
    "        n = len(grid[0])\n",
    "        visited = [[0 for _ in range(n)] for _ in range(m)]  # 二值标记矩阵\n",
    "        count = 0\n",
    "        for i in range(m):\n",
    "            for j in range(n):\n",
    "                if grid[i][j] == \"1\" and visited[i][j] == 0:\n",
    "                    count += 1\n",
    "                    self.bfs(grid, i, j, m, n, visited)\n",
    "        return count\n",
    "\n",
    "    def bfs(self, grid, i, j, m, n, visited):\n",
    "        visited[i][j] = 1\n",
    "        queue = [(i, j)]\n",
    "        while queue:\n",
    "            i, j = queue.pop(0)\n",
    "            for di, dj in self.directions:\n",
    "                if 0<=i+di<m and 0<=j+dj<n and grid[i+di][j+dj]==\"1\" and visited[i+di][j+dj]==0:\n",
    "                    visited[i+di][j+dj] = 1\n",
    "                    queue.append((i+di, j+dj))"
   ]
  },
  {
   "cell_type": "code",
   "execution_count": null,
   "metadata": {},
   "outputs": [],
   "source": []
  }
 ],
 "metadata": {
  "kernelspec": {
   "display_name": "Python 3",
   "language": "python",
   "name": "python3"
  },
  "language_info": {
   "codemirror_mode": {
    "name": "ipython",
    "version": 3
   },
   "file_extension": ".py",
   "mimetype": "text/x-python",
   "name": "python",
   "nbconvert_exporter": "python",
   "pygments_lexer": "ipython3",
   "version": "3.5.4"
  }
 },
 "nbformat": 4,
 "nbformat_minor": 2
}
