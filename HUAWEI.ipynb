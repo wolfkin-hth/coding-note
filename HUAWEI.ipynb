{
 "cells": [
  {
   "cell_type": "markdown",
   "metadata": {},
   "source": [
    "# 牛客网 华为机试题库"
   ]
  },
  {
   "cell_type": "markdown",
   "metadata": {},
   "source": [
    "### 题目描述\n",
    "计算字符串最后一个单词的长度，单词以空格隔开。 \n",
    "#### 输入描述\n",
    "一行字符串，非空，长度小于5000。\n",
    "#### 输出描述\n",
    "整数N，最后一个单词的长度。"
   ]
  },
  {
   "cell_type": "code",
   "execution_count": 1,
   "metadata": {
    "ExecuteTime": {
     "end_time": "2019-10-06T08:45:23.586392Z",
     "start_time": "2019-10-06T08:45:15.623131Z"
    },
    "scrolled": true
   },
   "outputs": [
    {
     "name": "stdout",
     "output_type": "stream",
     "text": [
      "hello world\n",
      "5\n"
     ]
    }
   ],
   "source": [
    "line = input()\n",
    "word = line.split()\n",
    "print(len(word[-1]))"
   ]
  },
  {
   "cell_type": "markdown",
   "metadata": {},
   "source": [
    "### 题目描述\n",
    "写出一个程序，接受一个由字母和数字组成的字符串，和一个字符，然后输出输入字符串中含有该字符的个数。不区分大小写。\n",
    "#### 输入描述\n",
    "第一行输入一个有字母和数字以及空格组成的字符串，第二行输入一个字符。\n",
    "#### 输出描述\n",
    "输出输入字符串中含有该字符的个数。"
   ]
  },
  {
   "cell_type": "code",
   "execution_count": 3,
   "metadata": {
    "ExecuteTime": {
     "end_time": "2019-10-06T08:47:13.613620Z",
     "start_time": "2019-10-06T08:47:07.001036Z"
    }
   },
   "outputs": [
    {
     "name": "stdout",
     "output_type": "stream",
     "text": [
      "ABCDEF\n",
      "A\n",
      "1\n"
     ]
    }
   ],
   "source": [
    "stri = input().lower()   # 不区分大小写\n",
    "letter = input().lower()\n",
    "num = 0\n",
    "for i in stri:\n",
    "    if i == letter:\n",
    "        num += 1\n",
    "print(num)"
   ]
  },
  {
   "cell_type": "markdown",
   "metadata": {},
   "source": [
    "### 题目描述\n",
    "明明想在学校中请一些同学一起做一项问卷调查，为了实验的客观性，他先用计算机生成了N个1到1000之间的随机整数（N≤1000），对于其中重复的数字，只保留一个，把其余相同的数去掉，不同的数对应着不同的学生的学号。然后再把这些数从小到大排序，按照排好的顺序去找同学做调查。请你协助明明完成“去重”与“排序”的工作(同一个测试用例里可能会有多组数据，希望大家能正确处理)。\n",
    "\n",
    "Input Param\n",
    "n               输入随机数的个数\n",
    "inputArray      n个随机整数组成的数组\n",
    "\n",
    "Return Value\n",
    "OutputArray    输出处理后的随机整数\n",
    "\n",
    "注：测试用例保证输入参数的正确性，答题者无需验证。测试用例不止一组。\n",
    "#### 输入描述:\n",
    "输入多行，先输入随机整数的个数，再输入相应个数的整数\n",
    "#### 输出描述:\n",
    "返回多行，处理后的结果"
   ]
  },
  {
   "cell_type": "code",
   "execution_count": 4,
   "metadata": {
    "ExecuteTime": {
     "end_time": "2019-10-06T08:49:16.695069Z",
     "start_time": "2019-10-06T08:49:08.811252Z"
    },
    "scrolled": true
   },
   "outputs": [
    {
     "name": "stdout",
     "output_type": "stream",
     "text": [
      "11 10 20 40 32 67 40 20 89 300 400 15\n"
     ]
    }
   ],
   "source": [
    "while True:\n",
    "    try:\n",
    "        num = int(input())\n",
    "        array = []\n",
    "        for i in range(num):\n",
    "            array.append(int(input()))\n",
    "        temp = list(sorted(set(array)))  # set去重\n",
    "        for i in temp:\n",
    "            print(i)\n",
    "    except:\n",
    "        break"
   ]
  },
  {
   "cell_type": "markdown",
   "metadata": {},
   "source": [
    "### 题目描述\n",
    "•连续输入字符串，请按长度为8拆分每个字符串后输出到新的字符串数组； \n",
    "•长度不是8整数倍的字符串请在后面补数字0，空字符串不处理。 \n",
    "#### 输入描述：\n",
    "连续输入字符串(输入2次,每个字符串长度小于100)\n",
    "#### 输出描述\n",
    "输出到长度为8的新字符串数组"
   ]
  },
  {
   "cell_type": "code",
   "execution_count": 5,
   "metadata": {
    "ExecuteTime": {
     "end_time": "2019-10-06T08:53:16.988519Z",
     "start_time": "2019-10-06T08:53:07.091654Z"
    }
   },
   "outputs": [
    {
     "name": "stdout",
     "output_type": "stream",
     "text": [
      "abc\n",
      "abc00000\n",
      "123456789\n",
      "12345678\n",
      "90000000\n"
     ]
    }
   ],
   "source": [
    "for i in range(2):\n",
    "    line = input()\n",
    "    while True:\n",
    "        if len(line) >= 8:\n",
    "            print(line[0:8])\n",
    "            line = line[8:]\n",
    "        elif len(line) != 0:\n",
    "            print(line + '0'*(8-len(line)))\n",
    "            break\n",
    "        else:\n",
    "            break"
   ]
  },
  {
   "cell_type": "markdown",
   "metadata": {},
   "source": [
    "### 题目描述\n",
    "写出一个程序，接受一个十六进制的数，输出该数值的十进制表示。（多组同时输入 ） \n",
    "#### 输入描述：\n",
    "输入一个十六进制的数值字符串。\n",
    "#### 输出描述\n",
    "输出该数值的十进制字符串。"
   ]
  },
  {
   "cell_type": "code",
   "execution_count": 6,
   "metadata": {
    "ExecuteTime": {
     "end_time": "2019-10-06T08:55:06.066506Z",
     "start_time": "2019-10-06T08:55:00.326232Z"
    }
   },
   "outputs": [
    {
     "name": "stdout",
     "output_type": "stream",
     "text": [
      "0xA\n",
      "10\n",
      "\n"
     ]
    }
   ],
   "source": [
    "while True:\n",
    "    try:\n",
    "        print(int(input(), 16))  # int(x, base=10)， base：进制\n",
    "    except:\n",
    "        break"
   ]
  },
  {
   "cell_type": "markdown",
   "metadata": {},
   "source": [
    "### 题目描述\n",
    "功能:输入一个正整数，按照从小到大的顺序输出它的所有质数的因子（如180的质数因子为2 2 3 3 5 ）\n",
    "最后一个数后面也要有空格\n",
    "详细描述：\n",
    "\n",
    "函数接口说明：\n",
    "public String getResult(long ulDataInput)\n",
    "输入参数：\n",
    "long ulDataInput：输入的正整数\n",
    "返回值：\n",
    "String\n",
    "#### 输入描述：\n",
    "输入一个long型整数\n",
    "#### 输出描述\n",
    "按照从小到大的顺序输出它的所有质数的因子，以空格隔开。最后一个数后面也要有空格。"
   ]
  },
  {
   "cell_type": "code",
   "execution_count": 7,
   "metadata": {
    "ExecuteTime": {
     "end_time": "2019-10-06T09:10:58.857160Z",
     "start_time": "2019-10-06T09:10:53.107905Z"
    }
   },
   "outputs": [
    {
     "name": "stdout",
     "output_type": "stream",
     "text": [
      "180\n",
      "2 2 3 3 5 \n"
     ]
    }
   ],
   "source": [
    "import math\n",
    "def get_factor(n):\n",
    "    isZhishu = True\n",
    "    for i in range(2, int(math.sqrt(1 + n)) + 1):\n",
    "        if n % i == 0:\n",
    "            factor.append(i)\n",
    "            isZhishu = False\n",
    "            get_factor(int(n/i))  # 递归\n",
    "            break\n",
    "    if isZhishu:\n",
    "        factor.append(n)\n",
    "\n",
    "num, factor = int(input()), []\n",
    "get_factor(num)\n",
    "\n",
    "print(' '.join([str(i) for i in factor])+' ')  # 包含数字的list无法直接join，需转为字符类型"
   ]
  },
  {
   "cell_type": "markdown",
   "metadata": {},
   "source": [
    "### 备注：\n",
    "对于每个数n，其实并不需要从2判断到n-1，我们知道，一个数若可以进行因数分解，那么分解时得到的两个数一定是一个小于等于sqrt(n)，一个大于等于sqrt(n)，据此，上述代码中并不需要遍历到n-1，遍历到sqrt(n)即可，因为若sqrt(n)左侧找不到约数，那么右侧也一定找不到约数。查找到sqrt(n)即可"
   ]
  },
  {
   "cell_type": "markdown",
   "metadata": {},
   "source": [
    "### 题目描述\n",
    "写出一个程序，接受一个正浮点数值，输出该数值的近似整数值。如果小数点后数值大于等于5,向上取整；小于5，则向下取整。\n",
    "#### 输入描述：\n",
    "输入一个正浮点数值\n",
    "#### 输出描述\n",
    "输出该数值的近似整数值"
   ]
  },
  {
   "cell_type": "code",
   "execution_count": 8,
   "metadata": {
    "ExecuteTime": {
     "end_time": "2019-10-06T09:13:03.263492Z",
     "start_time": "2019-10-06T09:13:00.143233Z"
    }
   },
   "outputs": [
    {
     "name": "stdout",
     "output_type": "stream",
     "text": [
      "5.5\n",
      "6\n"
     ]
    }
   ],
   "source": [
    "num = float(input())          # 注：round()有时会不通过，因为python会把4.5存为4.49999999......\n",
    "if num - int(num) >= 0.5:\n",
    "    print(int(num)+1)\n",
    "else:\n",
    "    print(int(num))"
   ]
  },
  {
   "cell_type": "code",
   "execution_count": null,
   "metadata": {},
   "outputs": [],
   "source": []
  }
 ],
 "metadata": {
  "kernelspec": {
   "display_name": "Python 3",
   "language": "python",
   "name": "python3"
  },
  "language_info": {
   "codemirror_mode": {
    "name": "ipython",
    "version": 3
   },
   "file_extension": ".py",
   "mimetype": "text/x-python",
   "name": "python",
   "nbconvert_exporter": "python",
   "pygments_lexer": "ipython3",
   "version": "3.7.0"
  }
 },
 "nbformat": 4,
 "nbformat_minor": 2
}
