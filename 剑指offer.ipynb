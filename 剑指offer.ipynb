{
 "cells": [
  {
   "cell_type": "markdown",
   "metadata": {},
   "source": [
    "# 剑指offer"
   ]
  },
  {
   "cell_type": "markdown",
   "metadata": {},
   "source": [
    "### 数组"
   ]
  },
  {
   "cell_type": "markdown",
   "metadata": {},
   "source": [
    "* 1 在一个长度为n的数组里的所有数字都在0到n-1的范围内。 数组中某些数字是重复的，但不知道有几个数字是重复的。也不知道每个数字重复几次。请找出数组中任意一个重复的数字。 例如，如果输入长度为7的数组{2,3,1,0,2,5,3}"
   ]
  },
  {
   "cell_type": "code",
   "execution_count": 2,
   "metadata": {
    "ExecuteTime": {
     "end_time": "2020-02-10T12:23:39.922868Z",
     "start_time": "2020-02-10T12:23:39.915866Z"
    },
    "code_folding": [
     0
    ]
   },
   "outputs": [],
   "source": [
    "# 解法一：备忘录 时间复杂度O(n) 空间复杂度O(n)\n",
    "# -*- coding:utf-8 -*-\n",
    "class Solution:\n",
    "    # 这里要特别注意~找到任意重复的一个值并赋值到duplication[0]\n",
    "    # 函数返回True/False\n",
    "    def duplicate(self, numbers, duplication):\n",
    "        # write code here\n",
    "        if len(numbers) == 0:\n",
    "            return False\n",
    "        memo = []\n",
    "        for num in numbers:\n",
    "            if num in memo:\n",
    "                duplication[0] = num\n",
    "                return True\n",
    "            memo.append(num)\n",
    "        return False"
   ]
  },
  {
   "cell_type": "code",
   "execution_count": null,
   "metadata": {
    "code_folding": [
     0
    ]
   },
   "outputs": [],
   "source": [
    "# 解法二： 时间复杂度O(nlog(n)) 空间复杂度O(1)\n",
    "# -*- coding:utf-8 -*-\n",
    "class Solution:\n",
    "    # 这里要特别注意~找到任意重复的一个值并赋值到duplication[0]\n",
    "    # 函数返回True/False\n",
    "    def duplicate(self, numbers, duplication):\n",
    "        # write code here\n",
    "        if len(numbers) == 0:\n",
    "            return False\n",
    "        numbers.sort()\n",
    "        for i in range(len(numbers)-1):\n",
    "            if numbers[i] == numbers[i+1]:\n",
    "                duplication[0] = numbers[i]\n",
    "                return True\n",
    "        return False"
   ]
  },
  {
   "cell_type": "code",
   "execution_count": 1,
   "metadata": {
    "ExecuteTime": {
     "end_time": "2020-02-11T06:39:53.578482Z",
     "start_time": "2020-02-11T06:39:53.570504Z"
    },
    "code_folding": [
     0
    ]
   },
   "outputs": [],
   "source": [
    "# 解法三： 时间复杂度O(n) 空间复杂度O(1)\n",
    "# -*- coding:utf-8 -*-\n",
    "class Solution:\n",
    "    # 这里要特别注意~找到任意重复的一个值并赋值到duplication[0]\n",
    "    # 函数返回True/False\n",
    "    def duplicate(self, numbers, duplication):\n",
    "        # write code here\n",
    "        if len(numbers) == 0:\n",
    "            return False\n",
    "        for i in range(len(numbers)):\n",
    "            if i != numbers[i]:\n",
    "                if numbers[i] == numbers[numbers[i]]:\n",
    "                    duplication[0] = numbers[i]\n",
    "                    return True\n",
    "                else:\n",
    "                    temp = numbers[i]\n",
    "                    numbers[i] = numbers[temp]\n",
    "                    numbers[temp] = temp\n",
    "        return False"
   ]
  },
  {
   "cell_type": "code",
   "execution_count": 2,
   "metadata": {
    "ExecuteTime": {
     "end_time": "2020-02-11T06:58:55.770048Z",
     "start_time": "2020-02-11T06:58:55.764036Z"
    },
    "code_folding": [
     0
    ]
   },
   "outputs": [],
   "source": [
    "# 解法四： 时间复杂度O(n) 空间复杂度O(1)\n",
    "# -*- coding:utf-8 -*-\n",
    "class Solution:\n",
    "    # 这里要特别注意~找到任意重复的一个值并赋值到duplication[0]\n",
    "    # 函数返回True/False\n",
    "    def duplicate(self, numbers, duplication):\n",
    "        # write code here\n",
    "        if len(numbers) == 0:\n",
    "            return False\n",
    "        length = len(numbers)\n",
    "        for i in range(length):\n",
    "            m = numbers[i] - length if numbers[i] >= length else numbers[i]\n",
    "            if numbers[m] > length:\n",
    "                duplication[0] = m\n",
    "                return True\n",
    "            else:\n",
    "                numbers[m] += length\n",
    "        return False"
   ]
  },
  {
   "cell_type": "markdown",
   "metadata": {},
   "source": [
    "* 2 不修改数组找出重复数字(leetcode 287)\n",
    "\n",
    "  在一个长度为n+1的数组里的所有数字都在1~n之间，所以数组至少存在一个数字是重复的。请找出数组中任意一个重复的数字，但不能修改输入的数组。\n",
    "  \n",
    "> 关联题目 1：leetcode 141(环形链表): 给定一个链表，判断链表中是否有环。\n",
    "\n",
    "> 关联题目 2：leetcode 142(环形链表 II): 给定一个链表，返回链表开始入环的第一个节点。 如果链表无环，则返回 null。\n"
   ]
  },
  {
   "cell_type": "code",
   "execution_count": 12,
   "metadata": {
    "ExecuteTime": {
     "end_time": "2020-02-11T10:40:08.836871Z",
     "start_time": "2020-02-11T10:40:08.829910Z"
    },
    "code_folding": [
     0
    ]
   },
   "outputs": [],
   "source": [
    "# 本题解法一   二分查找  时间复杂度O(nlog(n)) 空间复杂度O(1)\n",
    "class Solution:\n",
    "    def findDuplicate(self, nums) -> int:\n",
    "        length = len(nums)\n",
    "        if length == 0:\n",
    "            return False\n",
    "        left, right = 1, length-1\n",
    "        while(left < right):\n",
    "            mid = left + (right - left) // 2\n",
    "            cnt = 0\n",
    "            for num in nums:\n",
    "                if num <= mid:\n",
    "                    cnt += 1\n",
    "            if cnt > mid:\n",
    "                right = mid\n",
    "            else:\n",
    "                left = mid + 1\n",
    "        return left"
   ]
  },
  {
   "cell_type": "code",
   "execution_count": 11,
   "metadata": {
    "ExecuteTime": {
     "end_time": "2020-02-11T09:57:52.770832Z",
     "start_time": "2020-02-11T09:57:52.759862Z"
    },
    "code_folding": [
     0
    ]
   },
   "outputs": [],
   "source": [
    "# 本题解法二   时间复杂度O(n) 空间复杂度O(1)\n",
    "class Solution:\n",
    "    def findDuplicate(self, nums) -> int:\n",
    "        length = len(nums)\n",
    "        if length == 0:\n",
    "            return False\n",
    "        slow = 0\n",
    "        fast = 0\n",
    "        while True:\n",
    "            slow = nums[slow]\n",
    "            fast = nums[nums[fast]]\n",
    "            if slow == fast:\n",
    "                before, after = 0, slow\n",
    "                while before != after:\n",
    "                    before, after = nums[before], nums[after]\n",
    "                return before"
   ]
  },
  {
   "cell_type": "code",
   "execution_count": 6,
   "metadata": {
    "ExecuteTime": {
     "end_time": "2020-02-11T08:10:08.338281Z",
     "start_time": "2020-02-11T08:10:08.332309Z"
    },
    "code_folding": [
     0
    ]
   },
   "outputs": [],
   "source": [
    "# 关联题目 1：leetcode 141(环形链表)\n",
    "# 解法一   时间复杂度O(n) 空间复杂度O(n)\n",
    "class Solution:\n",
    "    def hasCycle(self, head) -> bool:\n",
    "        memo = []\n",
    "        while head:\n",
    "            if head in memo:\n",
    "                return True\n",
    "            else:\n",
    "                memo.append(head)\n",
    "                head = head.next\n",
    "        return False\n",
    "# 解法二   时间复杂度O(n) 空间复杂度O(1)\n",
    "class Solution:\n",
    "    def hasCycle(self, head) -> bool:\n",
    "        if not head: return False\n",
    "        slow = head\n",
    "        fast = head.next\n",
    "        while(slow != fast):\n",
    "            if (not fast) or (not fast.next):\n",
    "                return False\n",
    "            slow = slow.next\n",
    "            fast = fast.next.next\n",
    "        return True"
   ]
  },
  {
   "cell_type": "code",
   "execution_count": 9,
   "metadata": {
    "ExecuteTime": {
     "end_time": "2020-02-11T09:47:53.653320Z",
     "start_time": "2020-02-11T09:47:53.641349Z"
    },
    "code_folding": [
     0
    ]
   },
   "outputs": [],
   "source": [
    "# 关联题目 2：leetcode 142(环形链表 II)\n",
    "# 解法一   时间复杂度O(n) 空间复杂度O(n)\n",
    "class Solution:\n",
    "    def detectCycle(self, head):\n",
    "        memo = []\n",
    "        while head:\n",
    "            if head in memo:\n",
    "                return head\n",
    "            else:\n",
    "                memo.append(head)\n",
    "                head = head.next\n",
    "        return None\n",
    "# 解法二   时间复杂度O(n) 空间复杂度O(1)\n",
    "class Solution:\n",
    "    def detectCycle(self, head):\n",
    "        slow = head\n",
    "        fast = head\n",
    "        while True:\n",
    "            if (not fast) or (not fast.next):\n",
    "                return None\n",
    "            slow = slow.next\n",
    "            fast = fast.next.next\n",
    "            if slow == fast:\n",
    "                point = head\n",
    "                while(point != slow):\n",
    "                    slow = slow.next\n",
    "                    point = point.next\n",
    "                return slow"
   ]
  },
  {
   "cell_type": "markdown",
   "metadata": {},
   "source": [
    "* 3 在一个二维数组中（每个一维数组的长度相同），每一行都按照从左到右递增的顺序排序，每一列都按照从上到下递增的顺序排序。请完成一个函数，输入这样的一个二维数组和一个整数，判断数组中是否含有该整数。"
   ]
  },
  {
   "cell_type": "code",
   "execution_count": 1,
   "metadata": {
    "ExecuteTime": {
     "end_time": "2020-02-12T06:39:51.791936Z",
     "start_time": "2020-02-12T06:39:51.764966Z"
    },
    "code_folding": [
     0
    ]
   },
   "outputs": [],
   "source": [
    "# 解法一    时间复杂度O(n*m) 空间复杂度O(1)\n",
    "# -*- coding:utf-8 -*-\n",
    "class Solution:\n",
    "    # array 二维列表\n",
    "    def Find(self, target, array):\n",
    "        # write code here\n",
    "        if not array: return False\n",
    "        m, n = len(array), len(array[0]) \n",
    "        for i in range(m):\n",
    "            for j in range(n):\n",
    "                if array[i][j] == target:\n",
    "                    return True\n",
    "        return False"
   ]
  },
  {
   "cell_type": "code",
   "execution_count": 7,
   "metadata": {
    "ExecuteTime": {
     "end_time": "2020-02-12T06:54:38.020292Z",
     "start_time": "2020-02-12T06:54:38.013300Z"
    },
    "code_folding": [
     0
    ]
   },
   "outputs": [],
   "source": [
    "# 解法二    时间复杂度O(n+m) 空间复杂度O(1)\n",
    "# -*- coding:utf-8 -*-\n",
    "class Solution:\n",
    "    # array 二维列表\n",
    "    def Find(self, target, array):\n",
    "        # write code here\n",
    "        if not array: return False\n",
    "        M, N = len(array), len(array[0])\n",
    "        m, n = 0, N-1 \n",
    "        while ((m < M) and (n >= 0)):\n",
    "            if array[m][n] == target:\n",
    "                return True\n",
    "            elif array[m][n] > target:\n",
    "                n -= 1\n",
    "            else:\n",
    "                m += 1\n",
    "        return False"
   ]
  },
  {
   "cell_type": "markdown",
   "metadata": {},
   "source": [
    "* 4 构建乘积数组  给定一个数组A[0,1,...,n-1],请构建一个数组B[0,1,...,n-1],其中B中的元素B[i]=A[0] * A[1] * ... * A[i-1] * A[i+1] * ... * A[n-1]。不能使用除法。"
   ]
  },
  {
   "cell_type": "code",
   "execution_count": 9,
   "metadata": {
    "ExecuteTime": {
     "end_time": "2020-02-12T07:09:05.721162Z",
     "start_time": "2020-02-12T07:09:05.714193Z"
    },
    "code_folding": [
     0
    ]
   },
   "outputs": [],
   "source": [
    "# 解法一    时间复杂度O(n^2) 空间复杂度O(1)\n",
    "# -*- coding:utf-8 -*-\n",
    "class Solution:\n",
    "    def multiply(self, A):\n",
    "        # write code here\n",
    "        if not A: return []\n",
    "        B = []\n",
    "        for i in range(len(A)):\n",
    "            res = 1\n",
    "            for j in range(len(A)):\n",
    "                if j == i:\n",
    "                    res = res * 1\n",
    "                else:\n",
    "                    res = res * A[j]\n",
    "            B.append(res)\n",
    "        return B"
   ]
  },
  {
   "cell_type": "code",
   "execution_count": 10,
   "metadata": {
    "ExecuteTime": {
     "end_time": "2020-02-12T07:24:09.758787Z",
     "start_time": "2020-02-12T07:24:09.749785Z"
    },
    "code_folding": [
     0
    ]
   },
   "outputs": [],
   "source": [
    "# 解法二    时间复杂度O(n) 空间复杂度O(n)\n",
    "# -*- coding:utf-8 -*-\n",
    "class Solution:\n",
    "    def multiply(self, A):\n",
    "        # write code here\n",
    "        if not A: return []\n",
    "        C = [1]\n",
    "        D = [1]\n",
    "        for i in range(len(A)-1):\n",
    "            C.append(C[i] * A[i])\n",
    "            D.append(D[i] * A[len(A)-i-1])\n",
    "        return [C[i] * D[len(A)-1-i] for i in range(len(A))]"
   ]
  },
  {
   "cell_type": "markdown",
   "metadata": {},
   "source": [
    "### 字符串"
   ]
  },
  {
   "cell_type": "markdown",
   "metadata": {},
   "source": [
    "* 5 替换空格 \n",
    "   \n",
    "   请实现一个函数，将一个字符串中的每个空格替换成“%20”。例如，当字符串为We Are Happy.则经过替换之后的字符串为We%20Are%20Happy。"
   ]
  },
  {
   "cell_type": "code",
   "execution_count": 11,
   "metadata": {
    "ExecuteTime": {
     "end_time": "2020-02-12T07:29:06.451309Z",
     "start_time": "2020-02-12T07:29:06.446291Z"
    },
    "code_folding": [
     0
    ]
   },
   "outputs": [],
   "source": [
    "# python 的两种解法\n",
    "# -*- coding:utf-8 -*-\n",
    "class Solution:\n",
    "    # s 源字符串\n",
    "    def replaceSpace(self, s):\n",
    "        # write code here\n",
    "        return s.replace(\" \", \"%20\")\n",
    "# -*- coding:utf-8 -*-\n",
    "class Solution:\n",
    "    # s 源字符串\n",
    "    def replaceSpace(self, s):\n",
    "        # write code here\n",
    "        return \"%20\".join(s.split(\" \"))"
   ]
  },
  {
   "cell_type": "markdown",
   "metadata": {},
   "source": [
    "*  19 正则表达式匹配（hard）\n",
    "   \n",
    "   请实现一个函数用来匹配包括'.'和 * 的正则表达式。模式中的字符 ' .'表示任意一个字符，而 * 表示它前面的字符可以出现任意次（包含0次）。 在本题中，匹配是指字符串的所有字符匹配整个模式。例如，字符串\"aaa\"与模式\"a.a\"和\"ab * ac * a\"匹配，但是与\"aa.a\"和\"ab*a\"均不匹配"
   ]
  },
  {
   "cell_type": "markdown",
   "metadata": {},
   "source": [
    "分析：\n",
    "\n",
    "当模式中的第二个字符不是*时：\n",
    "1. 如果字符串第一个字符和模式中的第一个字符相匹配，那么字符串和模式都后移一个字符，然后匹配剩余的。\n",
    "2. 如果字符串第一个字符和模式中的第一个字符相不匹配，直接返回false。\n",
    "\n",
    "而当模式中的第二个字符是*时：\n",
    "如果字符串第一个字符跟模式第一个字符不匹配，则模式后移2个字符，继续匹配。如果字符串第一个字符跟模式第一个字符匹配，可以有3种匹配方式：\n",
    "1. 模式后移2字符，相当于x*被忽略；\n",
    "2. 字符串后移1字符，模式后移2字符；\n",
    "3. 字符串后移1字符，模式不变，即继续匹配字符下一位，因为*可以匹配多位；"
   ]
  },
  {
   "cell_type": "code",
   "execution_count": 2,
   "metadata": {},
   "outputs": [],
   "source": [
    "# 解法：有限状态机\n",
    "# -*- coding:utf-8 -*-\n",
    "class Solution:\n",
    "    # s, pattern都是字符串\n",
    "    def match(self, s, pattern):\n",
    "        # write code here\n",
    "        if len(s)==0 and len(pattern)==0:\n",
    "            return True\n",
    "        if len(s)>0 and len(pattern)==0:\n",
    "            return False\n",
    "        if len(pattern)>1 and pattern[1]==\"*\":\n",
    "            if len(s)>0 and (s[0]==pattern[0] or pattern[0]==\".\"):\n",
    "                return (self.match(s, pattern[2:]) or self.match(s[1:], pattern[2:]) or self.match(s[1:], pattern))\n",
    "            else:\n",
    "                return self.match(s, pattern[2:])\n",
    "        if len(s)>0 and (pattern[0]==\".\" or pattern[0]==s[0]):\n",
    "            return self.match(s[1:], pattern[1:])\n",
    "        return False"
   ]
  },
  {
   "cell_type": "markdown",
   "metadata": {},
   "source": [
    "字符串第一个字符跟模式第一个字符匹配，3种匹配方式：\n",
    "1. 模式后移2字符，相当于x*被忽略；\n",
    "2. 字符串后移1字符，模式后移2字符；\n",
    "3. 字符串后移1字符，模式不变，即继续匹配字符下一位，因为*可以匹配多位；\n",
    "\n",
    "2可以由1、3组合而成"
   ]
  },
  {
   "cell_type": "code",
   "execution_count": 3,
   "metadata": {
    "code_folding": [
     0
    ]
   },
   "outputs": [],
   "source": [
    "# 优化：\n",
    "# -*- coding:utf-8 -*-\n",
    "class Solution:\n",
    "    # s, pattern都是字符串\n",
    "    def match(self, s, pattern):\n",
    "        # write code here\n",
    "        if len(s)==0 and len(pattern)==0:\n",
    "            return True\n",
    "        if len(pattern)==0:\n",
    "            return False\n",
    "        if len(pattern)>1 and pattern[1]==\"*\":\n",
    "            if len(s)>0 and (s[0]==pattern[0] or pattern[0]==\".\"):\n",
    "                return (self.match(s, pattern[2:]) or self.match(s[1:], pattern))\n",
    "            else:\n",
    "                return self.match(s, pattern[2:])\n",
    "        if len(s)>0 and (pattern[0]==\".\" or pattern[0]==s[0]):\n",
    "            return self.match(s[1:], pattern[1:])\n",
    "        return False"
   ]
  },
  {
   "attachments": {
    "image.png": {
     "image/png": "[encoded data removed]"
    }
   },
   "cell_type": "markdown",
   "metadata": {},
   "source": [
    "动态规划解法：\n",
    "\n",
    "1. 状态\n",
    "\n",
    "   dp[i][j] 表示的状态是 s 的前 i 项和 p 的前 j 项是否匹配。\n",
    "\n",
    "2.  转移方程\n",
    "\n",
    "    现在如果已知了 dp[i-1][j-1] 的状态，我们该如何确定 dp[i][j] 的状态呢？我们可以分三种情况讨论，其中，前两种情况考虑了所有能匹配的情况，剩下的就是不能匹配的情况了：\n",
    "\n",
    "    1. s[i] == p[j] or p[j] == '.'：比如 abb 和 abb，或者 abb 和 ab. ，很容易得到 dp[i][j] = dp[i-1][j-1] = True。因为 ab 和 ab 是匹配的，如果后面分别加一个 b，或者 s 加一个 b 而 p 加一个 . ，仍然是匹配的。\n",
    "\n",
    "    2. p[j] == '*'：当 p[j] 为星号时，由于星号与前面的字符相关，因此我们比较星号前面的字符 p[j-1] 和 s[i] 的关系。根据星号前面的字符与 s[i] 是否相等，又可分为以下两种情况：\n",
    "\n",
    "       1. p[j-1] != s[i]：如果星号前一个字符匹配不上，星号匹配了 0 次，应忽略这两个字符，看 p[j-2] 和 s[i] 是否匹配。 这时 dp[i][j] = dp[i][j-2]。\n",
    "\n",
    "       2. p[j-1] == s[i] or p[j-1] == '.':星号前面的字符可以与 s[i] 匹配，这种情况下，星号可能匹配了前面的字符的 0 个，也可能匹配了前面字符的多个，当匹配 0 个时，如 ab 和 a b b * ，或者 ab 和 a b . * ，这时我们需要去掉 p 中的 b * 或 . * 后进行比较，即 dp[i][j] = dp[i][j-2]；当匹配多个时，如 abbb 和 ab*，或者 abbb 和 a . * ，我们需要将 s[i] 前面的与 p 重新比较，即 dp[i][j] = dp[i-1][j]\n",
    "\n",
    "    其他情况：以上两种情况把能匹配的都考虑全面了，所以其他情况为不匹配，即 dp[i][j] = False\n",
    "\n",
    "![image.png](attachment:image.png)"
   ]
  },
  {
   "cell_type": "code",
   "execution_count": 1,
   "metadata": {
    "code_folding": [
     0
    ]
   },
   "outputs": [],
   "source": [
    "class Solution:\n",
    "    def isMatch(self, s: str, p: str) -> bool:\n",
    "        # 边界条件，考虑 s 或 p 分别为空的情况\n",
    "        if not p: return not s\n",
    "        if not s and len(p) == 1: return False\n",
    "\n",
    "        m, n = len(s) + 1, len(p) + 1\n",
    "        dp = [[False for _ in range(n)] for _ in range(m)]\n",
    "        # 初始状态\n",
    "        dp[0][0] = True\n",
    "        dp[0][1] = False\n",
    "\n",
    "        for c in range(2, n):\n",
    "            j = c - 1\n",
    "            if p[j] == '*':\n",
    "                dp[0][c] = dp[0][c - 2]\n",
    "        \n",
    "        for r in range(1,m):\n",
    "            i = r - 1\n",
    "            for c in range(1, n):\n",
    "                j = c - 1\n",
    "                if s[i] == p[j] or p[j] == '.':\n",
    "                    dp[r][c] = dp[r - 1][c - 1]\n",
    "                elif p[j] == '*':       # ‘*’前面的字符匹配s[i] 或者为'.'\n",
    "                    if p[j - 1] == s[i] or p[j - 1] == '.':\n",
    "                        dp[r][c] = dp[r - 1][c] or dp[r][c - 2]\n",
    "                    else:                       # ‘*’匹配了0次前面的字符\n",
    "                        dp[r][c] = dp[r][c - 2] \n",
    "                else:\n",
    "                    dp[r][c] = False\n",
    "        return dp[m - 1][n - 1]"
   ]
  },
  {
   "cell_type": "markdown",
   "metadata": {},
   "source": [
    "[回溯：](https://leetcode-cn.com/problems/regular-expression-matching/solution/hui-su-he-dong-tai-gui-hua-by-ml-zimingmeng/)"
   ]
  },
  {
   "cell_type": "code",
   "execution_count": 2,
   "metadata": {
    "code_folding": [
     0
    ]
   },
   "outputs": [],
   "source": [
    "class Solution:\n",
    "    def isMatch(self, s: str, p: str) -> bool:\n",
    "        if not p: return not s\n",
    "        # 第一个字母是否匹配\n",
    "        first_match = bool(s and p[0] in {s[0],'.'})\n",
    "        # 如果 p 第二个字母是 *\n",
    "        if len(p) >= 2 and p[1] == \"*\":\n",
    "            return self.isMatch(s, p[2:]) or \\\n",
    "            first_match and self.isMatch(s[1:], p)\n",
    "        else:\n",
    "            return first_match and self.isMatch(s[1:], p[1:])"
   ]
  },
  {
   "cell_type": "markdown",
   "metadata": {},
   "source": [
    "*  表示数值的字符串（hard）\n",
    "  \n",
    "  请实现一个函数用来判断字符串是否表示数值（包括整数和小数）。例如，字符串\"+100\",\"5e2\",\"-123\",\"3.1416\"和\"-1E-16\"都表示数值。 但是\"12e\",\"1a3.14\",\"1.2.3\",\"+-5\"和\"12e+4.3\"都不是。\n",
    "  * 数字 0-9\n",
    "  * 指数 - \"e\"\n",
    "  * 正/负号 - \"+\"/\"-\"\n",
    "  * 小数点 - \".\"\n",
    "  \n",
    "  当然，在输入中，这些字符的上下文也很重要。"
   ]
  },
  {
   "cell_type": "code",
   "execution_count": 12,
   "metadata": {
    "ExecuteTime": {
     "end_time": "2020-02-12T07:58:06.313151Z",
     "start_time": "2020-02-12T07:58:06.307167Z"
    },
    "code_folding": [
     0
    ]
   },
   "outputs": [],
   "source": [
    "# 解法一：python偷鸡\n",
    "# -*- coding:utf-8 -*-\n",
    "class Solution:\n",
    "    # s字符串\n",
    "    def isNumeric(self, s):\n",
    "        # write code here\n",
    "        try:\n",
    "            num = float(s)\n",
    "            return True\n",
    "        except:\n",
    "            return False"
   ]
  },
  {
   "cell_type": "markdown",
   "metadata": {},
   "source": [
    "*  在字符串 s 中找出第一个只出现一次的字符。如果没有，返回一个单空格。"
   ]
  },
  {
   "cell_type": "code",
   "execution_count": 13,
   "metadata": {
    "ExecuteTime": {
     "end_time": "2020-02-12T08:05:35.163006Z",
     "start_time": "2020-02-12T08:05:35.158045Z"
    },
    "code_folding": [
     0
    ]
   },
   "outputs": [],
   "source": [
    "# 解法一    时间复杂度O(n) 空间复杂度O(n)\n",
    "class Solution:\n",
    "    def firstUniqChar(self, s: str) -> int:\n",
    "        from collections import Counter\n",
    "        count = Counter(s)\n",
    "        for c in s:\n",
    "            if count[c] == 1:\n",
    "                return c\n",
    "        return \" \"\n",
    "# 不使用Counter\n",
    "class Solution:\n",
    "    def firstUniqChar(self, s: str) -> int:\n",
    "        hash_map = {}\n",
    "        for c in s:\n",
    "            hash_map[c] = hash_map.get(c,0) + 1\n",
    "        for c in s:\n",
    "            if hash_map[c] == 1:\n",
    "                return c\n",
    "        return \" \"\n",
    "\n",
    "# 牛客网的字符流\n",
    "# -*- coding:utf-8 -*-\n",
    "class Solution:\n",
    "    # 返回对应char\n",
    "    def __init__(self):\n",
    "        self.s = \"\"\n",
    "    def FirstAppearingOnce(self):\n",
    "        # write code here\n",
    "        s = self.s\n",
    "        hash_map = {}\n",
    "        for c in s:\n",
    "            hash_map[c] = hash_map.get(c,0) + 1\n",
    "        for c in s:\n",
    "            if hash_map[c] == 1:\n",
    "                return c\n",
    "        return \"#\"\n",
    "    def Insert(self, char):\n",
    "        # write code here\n",
    "        self.s += char"
   ]
  },
  {
   "cell_type": "markdown",
   "metadata": {},
   "source": [
    "### 链表"
   ]
  },
  {
   "cell_type": "markdown",
   "metadata": {},
   "source": [
    "* 6 从尾到头打印链表\n",
    "\n",
    "  输入一个链表，按链表从尾到头的顺序返回一个ArrayList。\n",
    "  \n",
    "  > 关联题目:leetcode 206 (反转链表)"
   ]
  },
  {
   "cell_type": "code",
   "execution_count": 1,
   "metadata": {
    "ExecuteTime": {
     "end_time": "2020-02-13T09:02:05.672158Z",
     "start_time": "2020-02-13T09:02:05.625308Z"
    },
    "code_folding": [
     0
    ]
   },
   "outputs": [],
   "source": [
    "# 解法一    时间复杂度O(n) 空间复杂度O(n)\n",
    "# 栈\n",
    "class Solution:\n",
    "    # 返回从尾部到头部的列表值序列，例如[1,2,3]\n",
    "    def printListFromTailToHead(self, listNode):\n",
    "        # write code here\n",
    "        if not listNode: return[]\n",
    "        stack = []\n",
    "        arrayList = []\n",
    "        node = listNode\n",
    "        while node:\n",
    "            stack.append(node.val)\n",
    "            node = node.next\n",
    "        while stack:\n",
    "            arrayList.append(stack.pop())\n",
    "        return arrayList"
   ]
  },
  {
   "cell_type": "code",
   "execution_count": 2,
   "metadata": {
    "ExecuteTime": {
     "end_time": "2020-02-13T09:02:09.004240Z",
     "start_time": "2020-02-13T09:02:08.998275Z"
    },
    "code_folding": [
     0
    ]
   },
   "outputs": [],
   "source": [
    "# 解法二    时间复杂度O(n) 空间复杂度O(n)\n",
    "# 递归\n",
    "class Solution:\n",
    "    # 返回从尾部到头部的列表值序列，例如[1,2,3]\n",
    "    def printListFromTailToHead(self, listNode):\n",
    "        # write code here\n",
    "        if not listNode: return[]\n",
    "        arrayList = []\n",
    "        def get_nextVal(node):\n",
    "            if node:\n",
    "                if node.next:\n",
    "                    get_nextVal(node.next)\n",
    "                arrayList.append(node.val)\n",
    "        get_nextVal(listNode)\n",
    "        return arrayList"
   ]
  },
  {
   "cell_type": "code",
   "execution_count": 4,
   "metadata": {
    "ExecuteTime": {
     "end_time": "2020-02-13T09:43:00.554074Z",
     "start_time": "2020-02-13T09:43:00.546121Z"
    },
    "code_folding": [
     0
    ]
   },
   "outputs": [],
   "source": [
    "# 关联题目 反转链表解法\n",
    "# 解法一：栈，同上\n",
    "# 解法二：双指针\n",
    "class Solution:\n",
    "    def reverseList(self, head):\n",
    "        if not head: return None\n",
    "        pre = None\n",
    "        cur = head\n",
    "        while cur:\n",
    "            temp = cur.next\n",
    "            cur.next = pre\n",
    "            pre = cur\n",
    "            cur = temp\n",
    "        return pre\n",
    "# 解法三：递归\n",
    "class Solution:\n",
    "    def reverseList(self, head):\n",
    "        if (not head) or (not head.next):\n",
    "            return head\n",
    "        last = self.reverseList(head.next)\n",
    "        head.next.next = head\n",
    "        head.next = None\n",
    "        return last"
   ]
  },
  {
   "cell_type": "markdown",
   "metadata": {},
   "source": [
    "* 18 (2)删除链表中重复元素\n",
    "\n",
    "  在一个排序的链表中，存在重复的结点，请删除该链表中重复的结点，重复的结点不保留，返回链表头指针。 例如，链表1->2->3->3->4->4->5 处理后为 1->2->5\n",
    "\n",
    "> 关联题目：leetcode83（删除排序链表中的重复元素）：给定一个排序链表，删除所有重复的元素，使得每个元素只出现一次。比如输入: 1->1->2->3->3  输出: 1->2->3"
   ]
  },
  {
   "cell_type": "code",
   "execution_count": 1,
   "metadata": {
    "ExecuteTime": {
     "end_time": "2020-02-14T09:29:08.338699Z",
     "start_time": "2020-02-14T09:29:08.332715Z"
    },
    "code_folding": [
     0
    ]
   },
   "outputs": [],
   "source": [
    "# 关联题目解法\n",
    "class Solution:\n",
    "    def deleteDuplicates(self, head):\n",
    "        cur = head\n",
    "        while(cur and cur.next):\n",
    "            if cur.val == cur.next.val:\n",
    "                cur.next = cur.next.next\n",
    "            else:\n",
    "                cur = cur.next\n",
    "        return head"
   ]
  },
  {
   "cell_type": "code",
   "execution_count": 4,
   "metadata": {
    "ExecuteTime": {
     "end_time": "2020-02-14T09:58:34.094161Z",
     "start_time": "2020-02-14T09:58:34.084161Z"
    },
    "code_folding": [
     0
    ]
   },
   "outputs": [],
   "source": [
    "# 解法一：时间复杂度O（n） 空间复杂度O（n）\n",
    "# 哈希表\n",
    "class Solution:\n",
    "    def deleteDuplication(self, pHead):\n",
    "        # write code here\n",
    "        if not pHead or not pHead.next:\n",
    "            return pHead\n",
    "        hash_map = {}\n",
    "        cur = pHead\n",
    "        while(cur):\n",
    "            hash_map[cur.val] = hash_map.get(cur.val, 0) + 1\n",
    "            cur = cur.next\n",
    "        new_head = ListNode(0)\n",
    "        tail = new_head\n",
    "        cur = pHead\n",
    "        while(cur):\n",
    "            if hash_map[cur.val] == 1:\n",
    "                tail.next = ListNode(cur.val)\n",
    "                tail = tail.next\n",
    "            cur = cur.next\n",
    "        return new_head.next"
   ]
  },
  {
   "cell_type": "code",
   "execution_count": 2,
   "metadata": {
    "ExecuteTime": {
     "end_time": "2020-02-14T09:53:03.948929Z",
     "start_time": "2020-02-14T09:53:03.937984Z"
    },
    "code_folding": [
     0
    ]
   },
   "outputs": [],
   "source": [
    "# 解法二：时间复杂度O（n） 空间复杂度O（1）\n",
    "class Solution:\n",
    "    def deleteDuplicates(self, head):\n",
    "        if not head or not head.next:\n",
    "            return head\n",
    "        dummy = ListNode(None)\n",
    "        dummy.next = head\n",
    "        pre = dummy\n",
    "        cur = head\n",
    "        while(cur and cur.next):\n",
    "            if cur.val != cur.next.val:\n",
    "                pre = cur\n",
    "                cur = cur.next\n",
    "            else:\n",
    "                while((cur.next) and (cur.val == cur.next.val)):\n",
    "                    cur = cur.next\n",
    "                pre.next = cur.next\n",
    "                cur = cur.next\n",
    "        return dummy.next"
   ]
  },
  {
   "cell_type": "code",
   "execution_count": 3,
   "metadata": {
    "ExecuteTime": {
     "end_time": "2020-02-14T09:58:23.557327Z",
     "start_time": "2020-02-14T09:58:23.547354Z"
    },
    "code_folding": [
     0
    ]
   },
   "outputs": [],
   "source": [
    "# 解法三：时间复杂度O（n） 空间复杂度O（1）\n",
    "# 递归\n",
    "class Solution:\n",
    "    def deleteDuplicates(self, head):\n",
    "        if not head: \n",
    "            return head\n",
    "        if head.next and head.val == head.next.val:\n",
    "            while head.next and head.val == head.next.val:\n",
    "                head = head.next\n",
    "            return self.deleteDuplicates(head.next)\n",
    "        else:\n",
    "            head.next = self.deleteDuplicates(head.next)\n",
    "        return head"
   ]
  },
  {
   "cell_type": "markdown",
   "metadata": {},
   "source": [
    "### 树"
   ]
  },
  {
   "cell_type": "markdown",
   "metadata": {},
   "source": [
    "* 7 重建二叉树\n",
    "\n",
    "  输入某二叉树的前序遍历和中序遍历的结果，请重建出该二叉树。假设输入的前序遍历和中序遍历的结果中都不含重复的数字。例如输入前序遍历序列{1,2,4,7,3,5,6,8}和中序遍历序列{4,7,2,1,5,3,8,6}，则重建二叉树并返回。\n",
    "                      1\n",
    "                     /  \\\n",
    "                    2    3\n",
    "                   /    /  \\\n",
    "                  4    5   6\n",
    "                   \\      /\n",
    "                    7    8"
   ]
  },
  {
   "cell_type": "code",
   "execution_count": 3,
   "metadata": {
    "ExecuteTime": {
     "end_time": "2020-02-16T08:51:26.199795Z",
     "start_time": "2020-02-16T08:51:26.192814Z"
    },
    "code_folding": [
     0
    ]
   },
   "outputs": [],
   "source": [
    "# 解法：\n",
    "class Solution:\n",
    "    # 返回构造的TreeNode根节点\n",
    "    def reConstructBinaryTree(self, pre, tin):\n",
    "        # write code here\n",
    "        if not pre:\n",
    "            return None\n",
    "        root = TreeNode(pre[0])\n",
    "        loc = tin.index(pre[0])\n",
    "        root.left = self.reConstructBinaryTree(pre[1:loc+1], tin[:loc])\n",
    "        root.right = self.reConstructBinaryTree(pre[loc+1:], tin[loc+1:])\n",
    "        return root"
   ]
  },
  {
   "cell_type": "markdown",
   "metadata": {},
   "source": [
    "* 8 二叉树的下一个节点\n",
    "\n",
    "  给定一个二叉树和其中的一个结点，请找出中序遍历顺序的下一个结点并且返回。注意，树中的结点不仅包含左右子结点，同时包含指向父结点的指针。\n",
    "  \n",
    "```\n",
    "# -*- coding:utf-8 -*-\n",
    "class TreeLinkNode:\n",
    "    def __init__(self, x):\n",
    "        self.val = x\n",
    "        self.left = None\n",
    "        self.right = None\n",
    "        self.next = None\n",
    "```"
   ]
  },
  {
   "cell_type": "code",
   "execution_count": 4,
   "metadata": {
    "ExecuteTime": {
     "end_time": "2020-02-16T08:57:42.985867Z",
     "start_time": "2020-02-16T08:57:42.976917Z"
    },
    "code_folding": [
     0
    ]
   },
   "outputs": [],
   "source": [
    "# 解法：\n",
    "class Solution:\n",
    "    def GetNext(self, pNode):\n",
    "        # write code here\n",
    "        if not pNode:\n",
    "            return None\n",
    "        if pNode.right:\n",
    "            pNode = pNode.right\n",
    "            while pNode.left:\n",
    "                pNode = pNode.left\n",
    "            return pNode\n",
    "        while pNode.next:\n",
    "            if pNode == pNode.next.left:\n",
    "                return pNode.next\n",
    "            pNode = pNode.next\n",
    "        return None"
   ]
  },
  {
   "cell_type": "markdown",
   "metadata": {},
   "source": [
    "* 对称的二叉树\n",
    "\n",
    "  请实现一个函数，用来判断一颗二叉树是不是对称的。注意，如果一个二叉树同此二叉树的镜像是同样的，定义其为对称的。\n",
    "                  \n",
    "                      1\n",
    "                    /    \\\n",
    "                   2      2\n",
    "                  / \\     /  \\\n",
    "                 3   4    4   3\n",
    "  "
   ]
  },
  {
   "cell_type": "code",
   "execution_count": 1,
   "metadata": {
    "ExecuteTime": {
     "end_time": "2020-02-17T12:04:37.912943Z",
     "start_time": "2020-02-17T12:04:37.907951Z"
    },
    "code_folding": [
     0
    ]
   },
   "outputs": [],
   "source": [
    "# 解法一： 时间复杂度O（n） 空间复杂度O（n）\n",
    "# 递归\n",
    "class Solution:\n",
    "    def isSymmetrical(self, pRoot):\n",
    "        # write code here\n",
    "        def check(node1, node2):\n",
    "            if not node1 and not node2:\n",
    "                return True\n",
    "            if not node1 or not node2:\n",
    "                return False\n",
    "            if node1.val != node2.val:\n",
    "                return False\n",
    "            return check(node1.left, node2.right) and check(node1.right, node2.left)\n",
    "        return check(pRoot, pRoot)"
   ]
  },
  {
   "cell_type": "code",
   "execution_count": 2,
   "metadata": {
    "ExecuteTime": {
     "end_time": "2020-02-17T12:17:37.798021Z",
     "start_time": "2020-02-17T12:17:37.790069Z"
    },
    "code_folding": [
     0
    ]
   },
   "outputs": [],
   "source": [
    "# 解法二： 时间复杂度O（n） 空间复杂度O（n）\n",
    "# 队列\n",
    "class Solution:\n",
    "    def isSymmetrical(self, pRoot):\n",
    "        # write code here\n",
    "        if not pRoot or not (pRoot.left or pRoot.right):\n",
    "            return True\n",
    "        # 用队列保存节点\n",
    "        queue = [pRoot.left, pRoot.right]\n",
    "        while queue:\n",
    "            # 从队列中取出两个节点，再比较这两个节点\n",
    "            left = queue.pop(0)\n",
    "            right = queue.pop(0)\n",
    "            # 如果两个节点都为空就继续循环，两者有一个为空就返回false\n",
    "            if not (left or right):\n",
    "                continue\n",
    "            if not (left and right):\n",
    "                return False\n",
    "            if left.val!=right.val:\n",
    "                return False\n",
    "            # 将左节点的左孩子， 右节点的右孩子放入队列\n",
    "            queue.append(left.left)\n",
    "            queue.append(right.right)\n",
    "            # 将左节点的右孩子，右节点的左孩子放入队列\n",
    "            queue.append(left.right)\n",
    "            queue.append(right.left)\n",
    "        return True"
   ]
  },
  {
   "cell_type": "markdown",
   "metadata": {},
   "source": [
    "* 按之字形顺序打印二叉树\n",
    "\n",
    "   请实现一个函数按照之字形打印二叉树，即第一行按照从左到右的顺序打印，第二层按照从右至左的顺序打印，第三行按照从左到右的顺序打印，其他行以此类推。"
   ]
  },
  {
   "cell_type": "code",
   "execution_count": 1,
   "metadata": {
    "code_folding": [
     0
    ]
   },
   "outputs": [],
   "source": [
    "# 解法一  \n",
    "# 类似于双栈的思想\n",
    "class Solution:\n",
    "    def Print(self, pRoot):\n",
    "        # write code here\n",
    "        if not pRoot: return []\n",
    "        res = []\n",
    "        cur = [pRoot]\n",
    "        depth = 0\n",
    "        while cur:\n",
    "            tmp = []\n",
    "            next_level = []\n",
    "            for node in cur:\n",
    "                tmp.append(node.val)\n",
    "                if node.left:\n",
    "                    next_level.append(node.left)\n",
    "                if node.right:\n",
    "                    next_level.append(node.right)\n",
    "            if depth % 2 == 1:\n",
    "                res.append(tmp[::-1])\n",
    "            else:\n",
    "                res.append(tmp)\n",
    "            depth += 1\n",
    "            cur = next_level\n",
    "        return res"
   ]
  },
  {
   "cell_type": "code",
   "execution_count": 3,
   "metadata": {
    "code_folding": [
     0
    ]
   },
   "outputs": [],
   "source": [
    "# 解法二：递归\n",
    "class Solution:\n",
    "    def Print(self, pRoot):\n",
    "        # write code here\n",
    "        res = []\n",
    "        def helper(node, depth):\n",
    "            if not node: return\n",
    "            if len(res) == depth:\n",
    "                res.append([])\n",
    "            if depth % 2 == 1:\n",
    "                res[depth].insert(0, node.val)\n",
    "            else:\n",
    "                res[depth].append(node.val)\n",
    "            helper(node.left, depth+1)\n",
    "            helper(node.right, depth+1)\n",
    "        helper(pRoot, 0)\n",
    "        return res"
   ]
  },
  {
   "cell_type": "markdown",
   "metadata": {},
   "source": [
    "* 把二叉树打印成多行\n",
    "\n",
    "  从上到下按层打印二叉树，同一层结点从左至右输出。每一层输出一行。"
   ]
  },
  {
   "cell_type": "code",
   "execution_count": 1,
   "metadata": {
    "code_folding": [
     0
    ]
   },
   "outputs": [],
   "source": [
    "# 解法一 \n",
    "class Solution:\n",
    "    # 返回二维列表[[1,2],[4,5]]\n",
    "    def Print(self, pRoot):\n",
    "        # write code here\n",
    "        res = []\n",
    "        if not pRoot: return res\n",
    "        cur = [pRoot]\n",
    "        while cur:\n",
    "            tmp = []\n",
    "            next_level = []\n",
    "            for node in cur:\n",
    "                tmp.append(node.val)\n",
    "                if node.left: next_level.append(node.left)\n",
    "                if node.right: next_level.append(node.right)\n",
    "            res.append(tmp)\n",
    "            cur = next_level\n",
    "        return res"
   ]
  },
  {
   "cell_type": "code",
   "execution_count": 2,
   "metadata": {
    "code_folding": [
     0
    ]
   },
   "outputs": [],
   "source": [
    "# 解法二  递归\n",
    "class Solution:\n",
    "    # 返回二维列表[[1,2],[4,5]]\n",
    "    def Print(self, pRoot):\n",
    "        # write code here\n",
    "        res = []\n",
    "        depth = 0\n",
    "        def helper(node, depth):\n",
    "            if not node: return\n",
    "            if len(res) == depth:\n",
    "                res.append([])\n",
    "            res[depth].append(node.val)\n",
    "            helper(node.left, depth + 1)\n",
    "            helper(node.right, depth + 1)\n",
    "        helper(pRoot, 0)\n",
    "        return res"
   ]
  },
  {
   "cell_type": "markdown",
   "metadata": {},
   "source": [
    "* 序列化二叉树\n",
    "\n",
    "  请实现两个函数，分别用来序列化和反序列化二叉树\n",
    "\n",
    "  二叉树的序列化是指：把一棵二叉树按照某种遍历方式的结果以某种格式保存为字符串，从而使得内存中建立起来的二叉树可以持久保存。序列化可以基于先序、中序、后序、层序的二叉树遍历方式来进行修改，序列化的结果是一个字符串，序列化时通过 某种符号表示空节点（#），以 ！ 表示一个结点值的结束（value!）。\n",
    "\n",
    "  二叉树的反序列化是指：根据某种遍历顺序得到的序列化字符串结果str，重构二叉树。\n",
    "  \n",
    "  \n",
    "  > 序列化是将一个数据结构或者对象转换为连续的比特位的操作，进而可以将转换后的数据存储在一个文件或者内存中，同时也可以通过网络传输到另一个计算机环境，采取相反方式重构得到原数据。\n",
    "\n",
    "  > 请设计一个算法来实现二叉树的序列化与反序列化。这里不限定你的序列 / 反序列化算法执行逻辑，你只需要保证一个二叉树可以被序列化为一个字符串并且将这个字符串反序列化为原始的树结构。\n"
   ]
  },
  {
   "cell_type": "code",
   "execution_count": 1,
   "metadata": {
    "code_folding": [
     0
    ]
   },
   "outputs": [],
   "source": [
    "# 解法一：\n",
    "# 前序\n",
    "class Solution:\n",
    "    def Serialize(self, root):\n",
    "        def helper(node, res):\n",
    "            if not node:\n",
    "                res += \"# \"\n",
    "            else:\n",
    "                res += str(node.val) + \" \"\n",
    "                res = helper(node.left, res)\n",
    "                res = helper(node.right, res)\n",
    "            return res\n",
    "        s = helper(root, \"\")\n",
    "        return s\n",
    "    \n",
    "    def Deserialize(self, data):\n",
    "        if not data: return None\n",
    "        lis = data.split()\n",
    "        def helper(lis):\n",
    "            if len(lis) == 0:\n",
    "                return None\n",
    "            val = lis.pop(0)\n",
    "            root = None\n",
    "            if val != '#':\n",
    "                root = TreeNode(int(val))\n",
    "                root.left = helper(lis)\n",
    "                root.right = helper(lis)\n",
    "            return root\n",
    "        return helper(lis)"
   ]
  },
  {
   "cell_type": "code",
   "execution_count": 5,
   "metadata": {
    "code_folding": [
     0
    ]
   },
   "outputs": [],
   "source": [
    "# 解法二：\n",
    "# 层序\n",
    "class Solution:\n",
    "    def Serialize(self, root):\n",
    "\n",
    "        s = \"\"\n",
    "        queue = []\n",
    "        queue.append(root)\n",
    "        while queue:\n",
    "            root = queue.pop(0)\n",
    "            if root:\n",
    "                s += str(root.val)\n",
    "                queue.append(root.left)\n",
    "                queue.append(root.right)\n",
    "            else:\n",
    "                s += \"#\"\n",
    "            s += \" \"\n",
    "        print(s)       \n",
    "        return s\n",
    "\n",
    "    def Deserialize(self, data):\n",
    "        lis = data.split()\n",
    "        if lis[0] == \"#\": return None\n",
    "        root = TreeNode(int(lis[0]))\n",
    "        queue = [root]\n",
    "        i = 1\n",
    "        while queue:\n",
    "            node = queue.pop(0)\n",
    "            if node == None:\n",
    "                continue\n",
    "            node.left = TreeNode(int(lis[i])) if lis[i] != \"#\" else None\n",
    "            node.right = TreeNode(int(lis[i+1])) if lis[i+1] != \"#\" else None\n",
    "            i += 2\n",
    "            queue.append(node.left)\n",
    "            queue.append(node.right)\n",
    "        return root"
   ]
  },
  {
   "cell_type": "code",
   "execution_count": 3,
   "metadata": {
    "code_folding": [
     0
    ]
   },
   "outputs": [],
   "source": [
    "# 解法三：\n",
    "# 偷鸡\n",
    "class Solution:\n",
    "    def Serialize(self, root):\n",
    "        # write code here\n",
    "        return root\n",
    "    def Deserialize(self, s):\n",
    "        # write code here\n",
    "        return s"
   ]
  },
  {
   "cell_type": "markdown",
   "metadata": {},
   "source": [
    "* 二叉搜索树的第k个结点\n",
    "\n",
    "  给定一棵二叉搜索树，请找出其中的第k小的结点。例如， （5，3，7，2，4，6，8）    中，按结点数值大小顺序第三小结点的值为4。"
   ]
  },
  {
   "cell_type": "code",
   "execution_count": 2,
   "metadata": {
    "code_folding": [
     0
    ]
   },
   "outputs": [],
   "source": [
    "# 解法一：时间复杂度O（n） 空间复杂度O（n）\n",
    "# 中序遍历 递归\n",
    "class Solution:\n",
    "    # 返回对应节点TreeNode\n",
    "    def KthNode(self, pRoot, k):\n",
    "        # write code here \n",
    "        res = []\n",
    "        def helper(node):\n",
    "            if not node:\n",
    "                return None\n",
    "            helper(node.left)\n",
    "            res.append(node)\n",
    "            helper(node.right)\n",
    "        helper(pRoot)\n",
    "        if k<=0 or k > len(res): return None\n",
    "        return res[k-1]"
   ]
  },
  {
   "cell_type": "code",
   "execution_count": 3,
   "metadata": {
    "code_folding": [
     0
    ]
   },
   "outputs": [],
   "source": [
    "# 解法二：\n",
    "# 中序遍历 栈\n",
    "class Solution:\n",
    "    # 返回对应节点TreeNode\n",
    "    def KthNode(self, pRoot, k):\n",
    "        # write code here \n",
    "        stack = []\n",
    "        cur = pRoot\n",
    "        while cur or stack:\n",
    "            if cur:\n",
    "                stack.append(cur)\n",
    "                cur = cur.left\n",
    "            else:\n",
    "                if stack:\n",
    "                    cur = stack.pop()\n",
    "                else:\n",
    "                    return None\n",
    "                k -= 1\n",
    "                if not k: return cur\n",
    "                cur = cur.right\n",
    "        return None"
   ]
  },
  {
   "cell_type": "markdown",
   "metadata": {},
   "source": [
    "* 数据流中的中位数\n",
    "\n",
    "  如何得到一个数据流中的中位数？如果从数据流中读出奇数个数值，那么中位数就是所有数值排序之后位于中间的数值。如果从数据流中读出偶数个数值，那么中位数就是所有数值排序之后中间两个数的平均值。我们使用Insert()方法读取数据流，使用GetMedian()方法获取当前读取数据的中位数。"
   ]
  },
  {
   "cell_type": "code",
   "execution_count": 7,
   "metadata": {
    "code_folding": [
     0
    ]
   },
   "outputs": [],
   "source": [
    "# 解法一：时间复杂度O(nlogn) 空间复杂度O（n）\n",
    "class MedianFinder:\n",
    "    def __init__(self):\n",
    "        \"\"\"\n",
    "        initialize your data structure here.\n",
    "        \"\"\"\n",
    "        self.data = []\n",
    "\n",
    "    def addNum(self, num: int) -> None:\n",
    "        self.data.append(num)\n",
    "        self.data.sort()\n",
    "\n",
    "    def findMedian(self) -> float:\n",
    "        length = len(self.data)\n",
    "        if length % 2 == 0:\n",
    "            return (self.data[length//2-1] + self.data[length//2]) / 2  # py2 / 2.0\n",
    "        else:\n",
    "            return self.data[length//2]"
   ]
  },
  {
   "cell_type": "code",
   "execution_count": 8,
   "metadata": {
    "code_folding": [
     0
    ]
   },
   "outputs": [],
   "source": [
    "# 解法二：时间复杂度O(n) 空间复杂度O（n）\n",
    "class MedianFinder:\n",
    "    def __init__(self):\n",
    "        \"\"\"\n",
    "        initialize your data structure here.\n",
    "        \"\"\"\n",
    "        self.data = []\n",
    "\n",
    "    def addNum(self, num: int) -> None:\n",
    "        import bisect\n",
    "        if not self.data: \n",
    "            self.data.append(num)\n",
    "        else:\n",
    "            bisect.insort(self.data, num)\n",
    "\n",
    "    def findMedian(self) -> float:\n",
    "        length = len(self.data)\n",
    "        if length % 2 == 0:\n",
    "            return (self.data[length//2-1] + self.data[length//2]) / 2\n",
    "        else:\n",
    "            return self.data[length//2]"
   ]
  },
  {
   "cell_type": "code",
   "execution_count": 9,
   "metadata": {
    "code_folding": [
     0
    ]
   },
   "outputs": [],
   "source": [
    "# 解法三：时间复杂度O(logn) 空间复杂度O（n）\n",
    "# 堆\n",
    "class MedianFinder:\n",
    "    def __init__(self):\n",
    "        \"\"\"\n",
    "        initialize your data structure here.\n",
    "        \"\"\"\n",
    "        self.max_heap = []\n",
    "        self.min_heap = []\n",
    "\n",
    "    def addNum(self, num: int) -> None:\n",
    "        from heapq import heappush, heappop\n",
    "        if not self.max_heap or num<=(-self.max_heap[0]):\n",
    "            heappush(self.max_heap, -num)\n",
    "            if len(self.max_heap) - len(self.min_heap) > 1:\n",
    "                heappush(self.min_heap, -heappop(self.max_heap))\n",
    "        else:\n",
    "            heappush(self.min_heap, num)\n",
    "            if len(self.max_heap) - len(self.min_heap) < 0:\n",
    "                heappush(self.max_heap, -heappop(self.min_heap))\n",
    "\n",
    "    def findMedian(self) -> float:\n",
    "        if len(self.max_heap) == len(self.min_heap):\n",
    "            return (-self.max_heap[0] + self.min_heap[0]) / 2\n",
    "        else:\n",
    "            return -self.max_heap[0]"
   ]
  },
  {
   "cell_type": "code",
   "execution_count": 10,
   "metadata": {
    "code_folding": [
     0
    ]
   },
   "outputs": [],
   "source": [
    "# 解法四：时间复杂度O(logn) 空间复杂度O（n）\n",
    "# 堆2\n",
    "class MedianFinder:\n",
    "    def __init__(self):\n",
    "        \"\"\"\n",
    "        initialize your data structure here.\n",
    "        \"\"\"\n",
    "        self.max_heap = []\n",
    "        self.min_heap = []\n",
    "\n",
    "    def addNum(self, num: int) -> None:\n",
    "        from heapq import heappush, heappushpop\n",
    "        if len(self.max_heap)==len(self.min_heap):\n",
    "            heappush(self.min_heap, -heappushpop(self.max_heap, -num))\n",
    "        else:\n",
    "            heappush(self.max_heap, -heappushpop(self.min_heap, num))\n",
    "\n",
    "    def findMedian(self) -> float:\n",
    "        if len(self.max_heap) == len(self.min_heap):\n",
    "            return (-self.max_heap[0] + self.min_heap[0]) / 2\n",
    "        else:\n",
    "            return self.min_heap[0]"
   ]
  },
  {
   "cell_type": "markdown",
   "metadata": {},
   "source": [
    "## 栈和队列"
   ]
  },
  {
   "cell_type": "markdown",
   "metadata": {},
   "source": [
    "* 9 用两个栈实现队列\n",
    "\n",
    "  用两个栈来实现一个队列，完成队列的Push和Pop操作。 队列中的元素为int类型。"
   ]
  },
  {
   "cell_type": "code",
   "execution_count": 2,
   "metadata": {
    "code_folding": [
     0
    ]
   },
   "outputs": [],
   "source": [
    "# 解法：\n",
    "# -*- coding:utf-8 -*-\n",
    "class Solution:\n",
    "    def __init__(self):\n",
    "        self.stack1 = []\n",
    "        self.stack2 = []\n",
    "    def push(self, node):\n",
    "        # write code here\n",
    "        self.stack1.append(node)\n",
    "    def pop(self):\n",
    "        # return xx\n",
    "        if not self.stack1 and not self.stack2: return None\n",
    "        if not self.stack2:\n",
    "            while self.stack1:\n",
    "                self.stack2.append(self.stack1.pop())\n",
    "        return self.stack2.pop()"
   ]
  },
  {
   "cell_type": "markdown",
   "metadata": {},
   "source": [
    "* 滑动窗口的最大值 （hard）\n",
    "  \n",
    "  给定一个数组和滑动窗口的大小，找出所有滑动窗口里数值的最大值。\n",
    "  \n",
    "  例如，如果输入数组{2,3,4,2,6,2,5,1}及滑动窗口的大小3，那么一共存在6个滑动窗口，\n",
    "  \n",
    "  他们的最大值分别为{4,4,6,6,6,5}； \n",
    "  \n",
    "  针对数组{2,3,4,2,6,2,5,1}的滑动窗口有以下6个： \n",
    "  \n",
    "  {[2,3,4],2,6,2,5,1}， \n",
    "  \n",
    "  {2,[3,4,2],6,2,5,1}，\n",
    "  \n",
    "  {2,3,[4,2,6],2,5,1}， \n",
    "  \n",
    "  {2,3,4,[2,6,2],5,1}， \n",
    "  \n",
    "  {2,3,4,2,[6,2,5],1}，\n",
    "  \n",
    "  {2,3,4,2,6,[2,5,1]}"
   ]
  },
  {
   "cell_type": "code",
   "execution_count": 3,
   "metadata": {
    "code_folding": [
     0
    ]
   },
   "outputs": [],
   "source": [
    "# 解法一：时间复杂度O(N*k) \n",
    "class Solution:\n",
    "    def maxInWindows(self, num, size):\n",
    "        # write code here\n",
    "        res = []\n",
    "        if not size or not num: return res\n",
    "        num_windows = len(num) - size + 1\n",
    "        for i in range(num_windows):\n",
    "            res.append(max(num[i:i+size]))\n",
    "        return res"
   ]
  },
  {
   "cell_type": "code",
   "execution_count": 2,
   "metadata": {
    "code_folding": [
     0
    ]
   },
   "outputs": [],
   "source": [
    "# 解法二：时间复杂度O(Nlog(k)\n",
    "# 最大堆\n",
    "class Solution:\n",
    "    def maxSlidingWindow(self, nums, k):\n",
    "        res = []\n",
    "        if not k or not nums or k>len(nums): return res\n",
    "        from heapq import heappush, heappop\n",
    "        max_heap = []\n",
    "        for i in range(k):\n",
    "            heappush(max_heap, -nums[i])\n",
    "        res.append(-max_heap[0])\n",
    "        for i in range(1, len(nums)-k+1):\n",
    "            print(max_heap, nums[i-1])\n",
    "            heapdelete(max_heap, -nums[i-1])   # 不支持\n",
    "            heappush(max_heap, -nums[i+k-1])\n",
    "            res.append(-max_heap[0])\n",
    "        return res"
   ]
  },
  {
   "cell_type": "code",
   "execution_count": 4,
   "metadata": {
    "code_folding": [
     0
    ]
   },
   "outputs": [],
   "source": [
    "# 解法三：时间复杂度O(N)\n",
    "# 双向队列  维护一个单调队列\n",
    "# -*- coding:utf-8 -*-\n",
    "class Solution:\n",
    "    def maxInWindows(self, num, size):\n",
    "        # write code here\n",
    "        res = []\n",
    "        if not size or not num or size > len(num): return res\n",
    "        from collections import deque\n",
    "        deq = deque()\n",
    "        for i in range(size):\n",
    "            while deq and num[i] >= num[deq[-1]]:\n",
    "                deq.pop()\n",
    "            deq.append(i)\n",
    "        for i in range(size, len(num)):\n",
    "            res.append(num[deq[0]])\n",
    "            while deq and num[i] >= num[deq[-1]]:\n",
    "                deq.pop()\n",
    "            while deq and deq[0] <= i-size:\n",
    "                deq.popleft()\n",
    "            deq.append(i)\n",
    "        res.append(num[deq[0]])\n",
    "        return res\n",
    "    \n",
    "# 大佬写法\n",
    "# -*- coding:utf-8 -*-\n",
    "class Solution:\n",
    "    def maxInWindows(self, num, size):\n",
    "        # write code here\n",
    "        res = []\n",
    "        if not size or not num or size > len(num): return res\n",
    "        win, res = [], []\n",
    "        for i, v in enumerate(num):\n",
    "            if i >= size and win[0] <= i - size: win.pop(0)\n",
    "            while win and num[win[-1]] <= v: win.pop()\n",
    "            win.append(i)\n",
    "            if i >= size - 1: res.append(num[win[0]])\n",
    "        return res"
   ]
  },
  {
   "cell_type": "code",
   "execution_count": 5,
   "metadata": {
    "code_folding": [
     0
    ]
   },
   "outputs": [],
   "source": [
    "# 解法四：时间复杂度O(N)\n",
    "# 动态规划  分块\n",
    "class Solution:\n",
    "    def maxInWindows(self, num, size):\n",
    "        # write code here\n",
    "        res = []\n",
    "        if not size or not num or size > len(num): return res\n",
    "        \n",
    "        n = len(num)\n",
    "        left = [0] * n\n",
    "        left[0] = num[0]\n",
    "        right = [0] * n\n",
    "        right[n - 1] = num[n - 1]\n",
    "        for i in range(1, n):\n",
    "            # from left to right\n",
    "            if i % size == 0:\n",
    "                # block start\n",
    "                left[i] = num[i]\n",
    "            else:\n",
    "                left[i] = max(left[i - 1], num[i])\n",
    "            # from right to left\n",
    "            j = n - i - 1\n",
    "            if (j + 1) % size == 0:\n",
    "                # block end\n",
    "                right[j] = num[j]\n",
    "            else:\n",
    "                right[j] = max(right[j + 1], num[j])\n",
    "        \n",
    "        output = []\n",
    "        for i in range(n - size + 1):\n",
    "            output.append(max(left[i + size - 1], right[i]))\n",
    "            \n",
    "        return output"
   ]
  },
  {
   "cell_type": "markdown",
   "metadata": {},
   "source": [
    "## 递归和循环"
   ]
  },
  {
   "cell_type": "markdown",
   "metadata": {},
   "source": [
    "* 10 斐波那契数列\n",
    "  \n",
    "  大家都知道斐波那契数列，现在要求输入一个整数n，请你输出斐波那契数列的第n项（从0开始，第0项为0）。\n",
    "  \n",
    "$\n",
    "f(i) = \n",
    "\\begin{cases}\n",
    "0, & \\text{if $n=0$} \\\\\n",
    "1, & \\text{if $n=1$} \\\\\n",
    "f(n-1) + f(n-2), & \\text{if $n>1$}\n",
    "\\end{cases}\n",
    "$\n"
   ]
  },
  {
   "cell_type": "code",
   "execution_count": 4,
   "metadata": {
    "code_folding": []
   },
   "outputs": [],
   "source": [
    "# 解法\n",
    "class Solution:\n",
    "    def Fibonacci(self, n):\n",
    "        # write code here\n",
    "        if n == 0: return 0\n",
    "        dp_table = [0 for _ in range(n+1)]\n",
    "        dp_table[1] = 1\n",
    "        for i in range(2, n+1):\n",
    "            dp_table[i] = dp_table[i-1] + dp_table[i-2]\n",
    "        return dp_table[n]"
   ]
  },
  {
   "cell_type": "markdown",
   "metadata": {},
   "source": [
    "* 跳台阶\n",
    "\n",
    "  一只青蛙一次可以跳上1级台阶，也可以跳上2级。求该青蛙跳上一个n级的台阶总共有多少种跳法（先后次序不同算不同的结果）。"
   ]
  },
  {
   "cell_type": "code",
   "execution_count": 10,
   "metadata": {
    "code_folding": [
     0
    ]
   },
   "outputs": [],
   "source": [
    "# 解法\n",
    "class Solution:\n",
    "    def jumpFloor(self, number):\n",
    "        # write code here\n",
    "        if number == 1: return 1\n",
    "        dp_table = [1 for i in range(number+1)]\n",
    "        dp_table[2] = 2\n",
    "        for i in range(3, number+1):\n",
    "            dp_table[i] = dp_table[i-1] + dp_table[i-2]\n",
    "        return dp_table[number]"
   ]
  },
  {
   "cell_type": "markdown",
   "metadata": {},
   "source": [
    "* 变态跳台阶\n",
    "\n",
    "  一只青蛙一次可以跳上1级台阶，也可以跳上2级……它也可以跳上n级。求该青蛙跳上一个n级的台阶总共有多少种跳法。"
   ]
  },
  {
   "cell_type": "code",
   "execution_count": 7,
   "metadata": {
    "code_folding": [
     0
    ]
   },
   "outputs": [],
   "source": [
    "# 解法一：\n",
    "# -*- coding:utf-8 -*-\n",
    "class Solution:\n",
    "    def jumpFloorII(self, number):\n",
    "        # write code here\n",
    "        if number == 1: return 1\n",
    "        dp_table = [1 for i in range(number+1)]\n",
    "        for i in range(2, number+1):\n",
    "            dp_table[i] = 2 * dp_table[i-1]\n",
    "        return dp_table[number]"
   ]
  },
  {
   "cell_type": "code",
   "execution_count": 8,
   "metadata": {
    "code_folding": [
     0
    ]
   },
   "outputs": [],
   "source": [
    "# 解法二：\n",
    "class Solution:\n",
    "    def jumpFloorII(self, number):\n",
    "        # write code here\n",
    "        return 2 ** (number-1)"
   ]
  },
  {
   "attachments": {
    "image.png": {
     "image/png": "[encoded data removed]"
    }
   },
   "cell_type": "markdown",
   "metadata": {},
   "source": [
    "* 矩形覆盖\n",
    "\n",
    "  我们可以用2* 1的小矩形横着或者竖着去覆盖更大的矩形。请问用n个2* 1的小矩形无重叠地覆盖一个2* n的大矩形，总共有多少种方法？\n",
    "  \n",
    "  比如n=3时，2*3的矩形块有3种覆盖方法：\n",
    "  ![image.png](attachment:image.png)"
   ]
  },
  {
   "cell_type": "code",
   "execution_count": 9,
   "metadata": {
    "code_folding": [
     0
    ]
   },
   "outputs": [],
   "source": [
    "# 解法：\n",
    "class Solution:\n",
    "    def rectCover(self, number):\n",
    "        # write code here\n",
    "        if number <= 1: return number\n",
    "        dp_table = [1 for i in range(number+1)]\n",
    "        dp_table[2] = 2\n",
    "        for i in range(3, number+1):\n",
    "            dp_table[i] = dp_table[i-1] + dp_table[i-2]\n",
    "        return dp_table[number]"
   ]
  },
  {
   "cell_type": "markdown",
   "metadata": {},
   "source": [
    "## 查找和排序"
   ]
  },
  {
   "cell_type": "markdown",
   "metadata": {},
   "source": [
    "* 11 旋转数组的最小数字\n",
    "\n",
    "   把一个数组最开始的若干个元素搬到数组的末尾，我们称之为数组的旋转。输入一个非递减排序的数组的一个旋转，输出旋转数组的最小元素。\n",
    "   \n",
    "   例如数组{3,4,5,1,2}为{1,2,3,4,5}的一个旋转，该数组的最小值为1。\n",
    "   \n",
    "   NOTE：给出的所有元素都大于0，若数组大小为0，请返回0。"
   ]
  },
  {
   "cell_type": "code",
   "execution_count": 2,
   "metadata": {
    "code_folding": []
   },
   "outputs": [],
   "source": [
    "# 解法一：时间复杂度O(N)\n",
    "# -*- coding:utf-8 -*-\n",
    "class Solution:\n",
    "    def minNumberInRotateArray(self, rotateArray):\n",
    "        # write code here\n",
    "        if not rotateArray: return 0\n",
    "        min_num = rotateArray[0]\n",
    "        for i in rotateArray[1:]:\n",
    "            if i < min_num: min_num = i\n",
    "        return min_num"
   ]
  },
  {
   "cell_type": "code",
   "execution_count": 4,
   "metadata": {
    "code_folding": []
   },
   "outputs": [],
   "source": [
    "# 解法二：时间复杂度O(log(N))\n",
    "# 二分查找\n",
    "# -*- coding:utf-8 -*-\n",
    "class Solution:\n",
    "    def minNumberInRotateArray(self, rotateArray):\n",
    "        # write code here\n",
    "        if not rotateArray: return 0\n",
    "        left, right = 0, len(rotateArray) - 1\n",
    "        while left < right:\n",
    "            mid = (left + right) >> 1\n",
    "            if rotateArray[mid] > rotateArray[right]:\n",
    "                left = left + 1\n",
    "            else:\n",
    "                right = mid\n",
    "        return rotateArray[left]"
   ]
  },
  {
   "cell_type": "markdown",
   "metadata": {},
   "source": [
    "## 回溯法"
   ]
  },
  {
   "cell_type": "markdown",
   "metadata": {},
   "source": [
    "* 12 矩阵中的路径\n",
    "\n",
    "  请设计一个函数，用来判断在一个矩阵中是否存在一条包含某字符串所有字符的路径。路径可以从矩阵中的任意一个格子开始，每一步可以在矩阵中向左，向右，向上，向下移动一个格子。如果一条路径经过了矩阵中的某一个格子，则该路径不能再进入该格子。 例如 \n",
    "\n",
    "  [a b c e]\n",
    "\n",
    "  [s f c s]\n",
    "\n",
    "  [a d e e]\n",
    "\n",
    "   矩阵中包含一条字符串\"bcced\"的路径，但是矩阵中不包含\"abcb\"路径，因为字符串的第一个字符b占据了矩阵中的第一行第二个格子之后，路径不能再次进入该格子。"
   ]
  },
  {
   "cell_type": "code",
   "execution_count": 2,
   "metadata": {
    "code_folding": []
   },
   "outputs": [],
   "source": [
    "# 解法：回溯+DFS\n",
    "# -*- coding:utf-8 -*-\n",
    "class Solution:\n",
    "    directions = {(0, 1), (0, -1), (1, 0), (-1, 0)}\n",
    "    def hasPath(self, matrix, rows, cols, path):\n",
    "        # write code here\n",
    "        if not rows: return False\n",
    "        visited = [[False for _ in range(cols)] for _ in range(rows)]\n",
    "        for i in range(rows):\n",
    "            for j in range(cols): \n",
    "                if  matrix[i*cols+j] == path[0]:\n",
    "                    if self.DFS(matrix, i, j, rows, cols, visited, path, 1):\n",
    "                        return True\n",
    "        return False\n",
    "        \n",
    "    def DFS(self, matrix, i, j, rows, cols, visited, path, k):\n",
    "        if k == len(path):\n",
    "            return True\n",
    "        visited[i][j] = True\n",
    "        for di, dj in self.directions:\n",
    "            if 0<=i+di<rows and 0<=j+dj<cols and not visited[i+di][j+dj] and matrix[(i+di)*cols+j+dj] == path[k]:\n",
    "                if self.DFS(matrix, i+di, j+dj, rows, cols, visited, path, k+1):\n",
    "                    return True\n",
    "        visited[i][j] = False\n",
    "        return False"
   ]
  },
  {
   "cell_type": "markdown",
   "metadata": {},
   "source": [
    "* 13 机器人的运动范围\n",
    "\n",
    "  地上有一个m行和n列的方格。一个机器人从坐标0,0的格子开始移动，每一次只能向左，右，上，下四个方向移动一格，但是不能进入行坐标和列坐标的数位之和大于k的格子。 例如，当k为18时，机器人能够进入方格（35,37），因为3+5+3+7 = 18。但是，它不能进入方格（35,38），因为3+5+3+8 = 19。请问该机器人能够达到多少个格子？"
   ]
  },
  {
   "cell_type": "code",
   "execution_count": 2,
   "metadata": {
    "code_folding": [
     0
    ]
   },
   "outputs": [],
   "source": [
    "# 解法一：回溯+DFS\n",
    "class Solution:\n",
    "    directions = {(0, 1), (0, -1), (1, 0), (-1, 0)}\n",
    "    cnt = 0\n",
    "    def movingCount(self, threshold, rows, cols):\n",
    "        # write code here\n",
    "        if not rows or not cols or threshold<0:\n",
    "            return 0\n",
    "        visited = [[False for _ in range(cols)] for _  in range(rows)]\n",
    "        self.DFS(rows, cols, 0, 0, threshold, visited)\n",
    "        return self.cnt\n",
    "    \n",
    "    def DFS(self, m, n, i, j, k, visited):\n",
    "        self.cnt += 1\n",
    "        visited[i][j]=True\n",
    "        for (di, dj) in self.directions:\n",
    "            if 0<=i+di<m and 0<=j+dj<n and not visited[i+di][j+dj] and self.get_sum(i+di, j+dj)<=k:\n",
    "                self.DFS(m, n, i+di, j+dj, k, visited)\n",
    "\n",
    "    def get_sum(self, i, j):\n",
    "        return sum(map(int, str(i)+str(j)))"
   ]
  },
  {
   "cell_type": "code",
   "execution_count": 3,
   "metadata": {
    "code_folding": [
     0
    ]
   },
   "outputs": [],
   "source": [
    "# 解法二：回溯+BFS\n",
    "# -*- coding:utf-8 -*-\n",
    "class Solution:\n",
    "    directions = {(0, 1), (0, -1), (1, 0), (-1, 0)}\n",
    "    cnt = 0\n",
    "    def movingCount(self, threshold, rows, cols):\n",
    "        # write code here\n",
    "        if not rows or not cols or threshold<0:\n",
    "            return 0\n",
    "        visited = [[False for _ in range(cols)] for _  in range(rows)]\n",
    "        self.BFS(rows, cols, 0, 0, threshold, visited)\n",
    "        return self.cnt\n",
    "    \n",
    "    def BFS(self, m, n, i, j, k, visited):\n",
    "        visited[i][j]=True\n",
    "        queue = [(i, j)]\n",
    "        self.cnt += 1\n",
    "        while queue:\n",
    "            i, j = queue.pop(0)\n",
    "            for di, dj in self.directions:\n",
    "                if 0<=i+di<m and 0<=j+dj<n and not visited[i+di][j+dj] and self.get_sum(i+di, j+dj)<=k:\n",
    "                    visited[i+di][j+dj] = True\n",
    "                    queue.append((i+di, j+dj))\n",
    "                    self.cnt += 1\n",
    "\n",
    "    def get_sum(self, i, j):\n",
    "        return sum(map(int, str(i)+str(j)))"
   ]
  },
  {
   "cell_type": "markdown",
   "metadata": {},
   "source": [
    "## 动态规划与贪婪算法"
   ]
  },
  {
   "cell_type": "markdown",
   "metadata": {},
   "source": [
    "* 14 剪绳子\n",
    "\n",
    "  给你一根长度为n的绳子，请把绳子剪成整数长的m段（m、n都是整数，n>1并且m>1），每段绳子的长度记为k[0],k[1],...,k[m]。请问k[0]xk[1]x...xk[m]可能的最大乘积是多少？例如，当绳子的长度是8时，我们把它剪成长度分别为2、3、3的三段，此时得到的最大乘积是18。\n",
    "  \n",
    "  输入描述:\n",
    "  \n",
    "  > 输入一个数n，意义见题面。（2 <= n <= 60）\n",
    "  \n",
    "  输出描述:\n",
    "  \n",
    "  >输出答案。\n",
    "  "
   ]
  },
  {
   "cell_type": "code",
   "execution_count": 2,
   "metadata": {
    "code_folding": [
     0
    ]
   },
   "outputs": [],
   "source": [
    "# 解法一：动态规划（动态规划专题中有更详尽描述）\n",
    "# -*- coding:utf-8 -*-\n",
    "class Solution:\n",
    "    def cutRope(self, number):\n",
    "        # write code here\n",
    "        if number <= 1: return 0\n",
    "        if number == 2: return 1\n",
    "        dp_table = [0 for _ in range(number+1)]\n",
    "        dp_table[2] = 1\n",
    "        for i in range(3, number+1):\n",
    "            for j in range(1, i//2+1):\n",
    "                dp_table[i] = max(dp_table[i], max((i-j)*j, j*dp_table[i-j]))\n",
    "        return dp_table[number]"
   ]
  },
  {
   "cell_type": "code",
   "execution_count": 4,
   "metadata": {
    "code_folding": []
   },
   "outputs": [],
   "source": [
    "# 解法二：找规律，贪心思想\n",
    "# -*- coding:utf-8 -*-\n",
    "class Solution:\n",
    "    def cutRope(self, number):\n",
    "        # write code here\n",
    "        if number < 4: return number - 1\n",
    "        a, b = number // 3, number % 3\n",
    "        if b == 0: \n",
    "            return math.pow(3, a)\n",
    "        elif b == 1:\n",
    "            return math.pow(3, a - 1) * 4\n",
    "        else: \n",
    "            return math.pow(3, a) * 2"
   ]
  },
  {
   "cell_type": "markdown",
   "metadata": {},
   "source": [
    "> Python 中常见有三种幂计算函数： ** 和 pow() 的时间复杂度均为 O(log a) ；而 math.pow() 始终调用 C 库的 pow() 函数，其执行浮点取幂，时间复杂度为 O(1)。"
   ]
  },
  {
   "cell_type": "markdown",
   "metadata": {},
   "source": [
    "## 位运算"
   ]
  },
  {
   "cell_type": "markdown",
   "metadata": {},
   "source": [
    "* 15 二进制中1的个数\n",
    "\n",
    "输入一个整数，输出该数二进制表示中1的个数。其中负数用补码表示。"
   ]
  },
  {
   "cell_type": "code",
   "execution_count": 5,
   "metadata": {
    "code_folding": [
     0
    ]
   },
   "outputs": [],
   "source": [
    "# 不正确的解法\n",
    "# 无符号整数可以\n",
    "# -*- coding:utf-8 -*-\n",
    "class Solution:\n",
    "    def NumberOf1(self, n):\n",
    "        # write code here\n",
    "        cnt = 0\n",
    "        while n:\n",
    "            if (n&1):\n",
    "                cnt += 1\n",
    "            n = n >> 1\n",
    "        return cnt"
   ]
  },
  {
   "cell_type": "code",
   "execution_count": 4,
   "metadata": {
    "code_folding": [
     0
    ]
   },
   "outputs": [],
   "source": [
    "# 修正，计数\n",
    "# -*- coding:utf-8 -*-\n",
    "class Solution:\n",
    "    def NumberOf1(self, n):\n",
    "        # write code here\n",
    "        return sum([(n>>i & 1) for i in range(0,32)])"
   ]
  },
  {
   "cell_type": "code",
   "execution_count": null,
   "metadata": {
    "code_folding": [
     0
    ]
   },
   "outputs": [],
   "source": [
    "# 解法一： \n",
    "# py 不行，py 整形无限大 得计数\n",
    "class Solution {\n",
    "public:\n",
    "     int  NumberOf1(int n) {\n",
    "         int cnt = 0;\n",
    "         unsigned int flag = 1;\n",
    "         while (flag) {\n",
    "             if(n&flag)\n",
    "                 cnt++;\n",
    "             flag = flag << 1;\n",
    "         }\n",
    "         return cnt;\n",
    "     }\n",
    "};"
   ]
  },
  {
   "cell_type": "code",
   "execution_count": 3,
   "metadata": {
    "code_folding": [
     0
    ]
   },
   "outputs": [],
   "source": [
    "# 解法一 py\n",
    "# -*- coding:utf-8 -*-\n",
    "class Solution:\n",
    "    def NumberOf1(self, n):\n",
    "        # write code here\n",
    "        cnt = 0\n",
    "        flag = 1\n",
    "        for _ in range(32):\n",
    "            if (n&flag):\n",
    "                cnt += 1\n",
    "            flag = flag << 1\n",
    "        return cnt"
   ]
  },
  {
   "cell_type": "code",
   "execution_count": null,
   "metadata": {
    "code_folding": [
     0
    ]
   },
   "outputs": [],
   "source": [
    "# 解法二：\n",
    "# py 不行 无限大\n",
    "class Solution {\n",
    "public:\n",
    "     int  NumberOf1(int n) {\n",
    "         int cnt = 0;\n",
    "         while (n) {\n",
    "             cnt++;\n",
    "             n = (n-1) & n;\n",
    "         }\n",
    "         return cnt;\n",
    "     }\n",
    "};"
   ]
  },
  {
   "cell_type": "markdown",
   "metadata": {},
   "source": [
    "## 代码的完整性"
   ]
  },
  {
   "cell_type": "markdown",
   "metadata": {},
   "source": [
    "* 16 数值的整数次方\n",
    "\n",
    "给定一个double类型的浮点数base和int类型的整数exponent。求base的exponent次方。\n",
    "\n",
    "保证base和exponent不同时为0"
   ]
  },
  {
   "cell_type": "code",
   "execution_count": 3,
   "metadata": {
    "code_folding": [
     0
    ]
   },
   "outputs": [],
   "source": [
    "# 解法一：时间复杂度O(n) \n",
    "# leetcode超时\n",
    "# -*- coding:utf-8 -*-\n",
    "class Solution:\n",
    "    def Power(self, base, exponent):\n",
    "        # write code here\n",
    "        if base==0: return 0\n",
    "        \n",
    "        res = 1\n",
    "        times = -exponent if exponent<0 else exponent\n",
    "        for i in range(times):\n",
    "            res *= base\n",
    "        return 1/res if exponent<0 else res"
   ]
  },
  {
   "cell_type": "markdown",
   "metadata": {},
   "source": [
    "解法二：时间复杂度O(log(n))\n",
    "\n",
    "[二进制或二分思想](https://leetcode-cn.com/problems/shu-zhi-de-zheng-shu-ci-fang-lcof/solution/mian-shi-ti-16-shu-zhi-de-zheng-shu-ci-fang-kuai-s/)"
   ]
  },
  {
   "cell_type": "code",
   "execution_count": 4,
   "metadata": {
    "code_folding": [
     0
    ]
   },
   "outputs": [],
   "source": [
    "# -*- coding:utf-8 -*-\n",
    "class Solution:\n",
    "    def Power(self, base, exponent):\n",
    "        # write code here\n",
    "        if base==0: return 0\n",
    "        \n",
    "        res = 1\n",
    "        times = -exponent if exponent<0 else exponent\n",
    "        while times:\n",
    "            if times&1: \n",
    "                res *= base\n",
    "            base *= base\n",
    "            times >>= 1\n",
    "        return 1/res if exponent<0 else res"
   ]
  },
  {
   "cell_type": "markdown",
   "metadata": {},
   "source": [
    "如果是非负数次幂，可以用动态规划思想"
   ]
  },
  {
   "cell_type": "code",
   "execution_count": 5,
   "metadata": {
    "code_folding": []
   },
   "outputs": [],
   "source": [
    "# -*- coding:utf-8 -*-\n",
    "class Solution:\n",
    "    def Power(self, base, exponent):\n",
    "        # write code here\n",
    "        if exponent==0: return 0\n",
    "        if exponent==1: return base\n",
    "        \n",
    "        result = self.Power(base, exponent>>1);\n",
    "        result *= result\n",
    "        if exponent&1:\n",
    "            result *= base\n",
    "            \n",
    "        return result"
   ]
  },
  {
   "cell_type": "markdown",
   "metadata": {},
   "source": [
    "* 17 打印从1到最大的n位数\n",
    "\n",
    "输入数字 n，按顺序打印出从 1 到最大的 n 位十进制数。比如输入 3，则打印出 1、2、3 一直到最大的 3 位数 999。"
   ]
  },
  {
   "cell_type": "code",
   "execution_count": 3,
   "metadata": {
    "code_folding": [
     0
    ]
   },
   "outputs": [],
   "source": [
    "# 解法一：不太符合题意的解法\n",
    "# 普通写法\n",
    "class Solution:\n",
    "    def printNumbers(self, n: int):\n",
    "        res = []\n",
    "        upper = math.pow(10, n)\n",
    "        i=1\n",
    "        while(i<upper):\n",
    "            res.append(i)\n",
    "            i += 1\n",
    "        return res\n",
    "# 自己写快速幂算法\n",
    "class Solution:\n",
    "    def printNumbers(self, n: int):\n",
    "        res = []\n",
    "        max_ = 1\n",
    "        base = 10\n",
    "        while n:\n",
    "            if n&1: \n",
    "                max_ *= base\n",
    "            base *= base\n",
    "            n >>= 1\n",
    "        i=1\n",
    "        while(i<max_):\n",
    "            res.append(i)\n",
    "            i += 1\n",
    "        return res\n",
    "# 优美的py写法\n",
    "class Solution:\n",
    "    def printNumbers(self, n: int) -> List[int]:\n",
    "        return list(range(1, 10**n))"
   ]
  },
  {
   "cell_type": "code",
   "execution_count": 4,
   "metadata": {
    "code_folding": [
     0
    ]
   },
   "outputs": [],
   "source": [
    "# 解法二：数字全排列  递归\n",
    "class Solution:\n",
    "    def __init__(self):\n",
    "        self.res = []\n",
    "    def printNumbers(self, n: int):\n",
    "        if n==0: return self.res\n",
    "        nums = ['' for i in range(n)]\n",
    "        def printNum(nums, index):\n",
    "            if index == n:\n",
    "                self.res.append(int(''.join(nums)))\n",
    "                return None\n",
    "            for i in range(0, 10):\n",
    "                nums[index] = str(i)\n",
    "                printNum(nums, index+1)\n",
    "        \n",
    "        for i in range(0, 10):\n",
    "            nums[0] = str(i)\n",
    "            printNum(nums, 1)\n",
    "        return self.res[1:]"
   ]
  },
  {
   "cell_type": "code",
   "execution_count": 13,
   "metadata": {
    "code_folding": [
     0
    ]
   },
   "outputs": [],
   "source": [
    "# ....解法\n",
    "class Solution:\n",
    "    def printNumbers(self, n):\n",
    "        if n <= 0:\n",
    "            return\n",
    "        list_num =[\"0\"]* n\n",
    "        while Increament(list_num) is False: # 判断时候已经去到最大值了，是的话停止\n",
    "            PrintNumber(list_num)\n",
    "\n",
    "    def PrintNumber(number):\n",
    "        isBegin = False\n",
    "        for i in range(len(number)):\n",
    "            if number[i]!=\"0\" and isBegin is False:\n",
    "                isBegin = True\n",
    "            if isBegin:\n",
    "                tmp = (\"\".join(number[i:]))\n",
    "                print(tmp)\n",
    "                break\n",
    "\n",
    "\n",
    "    def Increament(number):\n",
    "        isOverFlow = False\n",
    "        isIncre = 0 # 是够归零进一\n",
    "        len_num = len(number)\n",
    "        n = len_num-1# 因为从最后一位开始而不是0位\n",
    "        while n >= 0:\n",
    "            nsum = int(number[n])+isIncre\n",
    "            if n == len_num-1:\n",
    "                nsum += 1  # 就是最后一位加一\n",
    "            if nsum == 10:\n",
    "                if n == 0:\n",
    "                    isOverFlow = True #  如果是最后的一个9999加一 那说明已经移除  例如 2位 的是 99 再加一就是溢出了\n",
    "                else:\n",
    "                    isIncre = 1 # 如果不是那么就前面一位加一,自己变为0\n",
    "                    number[n] = \"0\"\n",
    "            else:\n",
    "                number[n] = str(nsum)\n",
    "            n -= 1\n",
    "        return isOverFlow"
   ]
  },
  {
   "cell_type": "markdown",
   "metadata": {},
   "source": [
    "* 18 (1)删除链表的节点\n",
    "\n",
    "给定单向链表的头指针和一个要删除的节点(的值)，定义一个函数删除该节点。\n",
    "\n",
    "返回删除后的链表的头节点。"
   ]
  },
  {
   "cell_type": "code",
   "execution_count": 3,
   "metadata": {
    "code_folding": [
     0
    ]
   },
   "outputs": [],
   "source": [
    "# 值解法 O(N)\n",
    "class Solution:\n",
    "    def deleteNode(self, head, val: int):\n",
    "        dummy = ListNode(-1)\n",
    "        dummy.next = head\n",
    "        if head.val == val: return head.next\n",
    "        while head and head.next:\n",
    "            if head.next.val == val: \n",
    "                head.next = head.next.next\n",
    "            head = head.next\n",
    "        return dummy.next"
   ]
  },
  {
   "cell_type": "code",
   "execution_count": 4,
   "metadata": {
    "code_folding": [
     0
    ]
   },
   "outputs": [],
   "source": [
    "# 节点解法 O(1)\n",
    "class Solution:\n",
    "    def deleteNode(self, head, val):\n",
    "        if head is None or val is None:\n",
    "            return None\n",
    "        if val.next is not None:\n",
    "            tmp = val.next\n",
    "            val.val = tmp.val\n",
    "            val.next = tmp.next\n",
    "        elif head == val:\n",
    "            head = None\n",
    "        else:\n",
    "            cur = head \n",
    "            while cur.next != val:\n",
    "                cur = cur.next\n",
    "            cur.next = None\n",
    "        return head"
   ]
  },
  {
   "cell_type": "code",
   "execution_count": null,
   "metadata": {},
   "outputs": [],
   "source": []
  },
  {
   "cell_type": "markdown",
   "metadata": {},
   "source": [
    "## 举例让抽象问题具体化"
   ]
  },
  {
   "cell_type": "markdown",
   "metadata": {},
   "source": [
    "* 30 栈的压入、弹出序列\n",
    "\n",
    "输入两个整数序列，第一个序列表示栈的压入顺序，请判断第二个序列是否可能为该栈的弹出顺序。假设压入栈的所有数字均不相等。例如序列1,2,3,4,5是某栈的压入顺序，序列4,5,3,2,1是该压栈序列对应的一个弹出序列，但4,3,5,1,2就不可能是该压栈序列的弹出序列。（注意：这两个序列的长度是相等的）"
   ]
  },
  {
   "cell_type": "code",
   "execution_count": 1,
   "metadata": {
    "code_folding": []
   },
   "outputs": [],
   "source": [
    "# 解法\n",
    "# -*- coding:utf-8 -*-\n",
    "class Solution:\n",
    "    def IsPopOrder(self, pushV, popV):\n",
    "        # write code here\n",
    "        if not pushV or len(pushV)!=len(popV):\n",
    "            return False\n",
    "        stack = [pushV.pop(0)]\n",
    "        while pushV or popV:\n",
    "            while stack[-1]!=popV[0]:\n",
    "                if pushV:\n",
    "                    stack.append(pushV.pop(0))\n",
    "                else:\n",
    "                    return False\n",
    "            stack.pop()\n",
    "            popV.pop(0)\n",
    "        return True"
   ]
  },
  {
   "cell_type": "code",
   "execution_count": null,
   "metadata": {},
   "outputs": [],
   "source": []
  }
 ],
 "metadata": {
  "kernelspec": {
   "display_name": "Python 3",
   "language": "python",
   "name": "python3"
  },
  "language_info": {
   "codemirror_mode": {
    "name": "ipython",
    "version": 3
   },
   "file_extension": ".py",
   "mimetype": "text/x-python",
   "name": "python",
   "nbconvert_exporter": "python",
   "pygments_lexer": "ipython3",
   "version": "3.5.4"
  }
 },
 "nbformat": 4,
 "nbformat_minor": 2
}
