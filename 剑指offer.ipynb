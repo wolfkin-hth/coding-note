{
 "cells": [
  {
   "cell_type": "markdown",
   "metadata": {},
   "source": [
    "# 剑指offer"
   ]
  },
  {
   "cell_type": "markdown",
   "metadata": {},
   "source": [
    "### 数组"
   ]
  },
  {
   "cell_type": "markdown",
   "metadata": {},
   "source": [
    "* 1 在一个长度为n的数组里的所有数字都在0到n-1的范围内。 数组中某些数字是重复的，但不知道有几个数字是重复的。也不知道每个数字重复几次。请找出数组中任意一个重复的数字。 例如，如果输入长度为7的数组{2,3,1,0,2,5,3}，那么对应的输出是第一个重复的数字2。"
   ]
  },
  {
   "cell_type": "code",
   "execution_count": 2,
   "metadata": {
    "ExecuteTime": {
     "end_time": "2020-02-10T12:23:39.922868Z",
     "start_time": "2020-02-10T12:23:39.915866Z"
    },
    "code_folding": [
     0
    ]
   },
   "outputs": [],
   "source": [
    "# 解法一：备忘录\n",
    "# 时间复杂度O(n)\n",
    "# 空间复杂度O(n)\n",
    "# -*- coding:utf-8 -*-\n",
    "class Solution:\n",
    "    # 这里要特别注意~找到任意重复的一个值并赋值到duplication[0]\n",
    "    # 函数返回True/False\n",
    "    def duplicate(self, numbers, duplication):\n",
    "        # write code here\n",
    "        if len(numbers) == 0:\n",
    "            return False\n",
    "        memo = []\n",
    "        for num in numbers:\n",
    "            if num in memo:\n",
    "                duplication[0] = num\n",
    "                return True\n",
    "            memo.append(num)\n",
    "        return False"
   ]
  },
  {
   "cell_type": "code",
   "execution_count": null,
   "metadata": {
    "code_folding": [
     0
    ]
   },
   "outputs": [],
   "source": [
    "# 解法二：\n",
    "# 时间复杂度O(nlog(n))\n",
    "# 空间复杂度O(1)\n",
    "# -*- coding:utf-8 -*-\n",
    "class Solution:\n",
    "    # 这里要特别注意~找到任意重复的一个值并赋值到duplication[0]\n",
    "    # 函数返回True/False\n",
    "    def duplicate(self, numbers, duplication):\n",
    "        # write code here\n",
    "        if len(numbers) == 0:\n",
    "            return False\n",
    "        numbers.sort()\n",
    "        for i in range(len(numbers)-1):\n",
    "            if numbers[i] == numbers[i+1]:\n",
    "                duplication[0] = numbers[i]\n",
    "                return True\n",
    "        return False"
   ]
  },
  {
   "cell_type": "code",
   "execution_count": 1,
   "metadata": {
    "ExecuteTime": {
     "end_time": "2020-02-11T06:39:53.578482Z",
     "start_time": "2020-02-11T06:39:53.570504Z"
    },
    "code_folding": [
     0
    ]
   },
   "outputs": [],
   "source": [
    "# 解法三：\n",
    "# 时间复杂度O(n)\n",
    "# 空间复杂度O(1)\n",
    "# -*- coding:utf-8 -*-\n",
    "class Solution:\n",
    "    # 这里要特别注意~找到任意重复的一个值并赋值到duplication[0]\n",
    "    # 函数返回True/False\n",
    "    def duplicate(self, numbers, duplication):\n",
    "        # write code here\n",
    "        if len(numbers) == 0:\n",
    "            return False\n",
    "        for i in range(len(numbers)):\n",
    "            if i != numbers[i]:\n",
    "                if numbers[i] == numbers[numbers[i]]:\n",
    "                    duplication[0] = numbers[i]\n",
    "                    return True\n",
    "                else:\n",
    "                    temp = numbers[i]\n",
    "                    numbers[i] = numbers[temp]\n",
    "                    numbers[temp] = temp\n",
    "        return False"
   ]
  },
  {
   "cell_type": "code",
   "execution_count": 2,
   "metadata": {
    "ExecuteTime": {
     "end_time": "2020-02-11T06:58:55.770048Z",
     "start_time": "2020-02-11T06:58:55.764036Z"
    },
    "code_folding": [
     0
    ]
   },
   "outputs": [],
   "source": [
    "# 解法四：\n",
    "# 时间复杂度O(n)\n",
    "# 空间复杂度O(1)\n",
    "# -*- coding:utf-8 -*-\n",
    "class Solution:\n",
    "    # 这里要特别注意~找到任意重复的一个值并赋值到duplication[0]\n",
    "    # 函数返回True/False\n",
    "    def duplicate(self, numbers, duplication):\n",
    "        # write code here\n",
    "        if len(numbers) == 0:\n",
    "            return False\n",
    "        length = len(numbers)\n",
    "        for i in range(length):\n",
    "            m = numbers[i] - length if numbers[i] >= length else numbers[i]\n",
    "            if numbers[m] > length:\n",
    "                duplication[0] = m\n",
    "                return True\n",
    "            else:\n",
    "                numbers[m] += length\n",
    "        return False"
   ]
  },
  {
   "cell_type": "markdown",
   "metadata": {},
   "source": [
    "* 2 不修改数组找出重复数字(leetcode 287)\n",
    "\n",
    "  在一个长度为n+1的数组里的所有数字都在1~n之间，所以数组至少存在一个数字是重复的。请找出数组中任意一个重复的数字，但不能修改输入的数组。\n",
    "  \n",
    "> 关联题目 1：leetcode 141(环形链表): 给定一个链表，判断链表中是否有环。\n",
    "\n",
    "> 关联题目 2：leetcode 142(环形链表 II): 给定一个链表，返回链表开始入环的第一个节点。 如果链表无环，则返回 null。\n"
   ]
  },
  {
   "cell_type": "code",
   "execution_count": 12,
   "metadata": {
    "ExecuteTime": {
     "end_time": "2020-02-11T10:40:08.836871Z",
     "start_time": "2020-02-11T10:40:08.829910Z"
    },
    "code_folding": [
     0
    ]
   },
   "outputs": [],
   "source": [
    "# 本题解法一   二分查找  时间复杂度O(nlog(n)) 空间复杂度O(1)\n",
    "class Solution:\n",
    "    def findDuplicate(self, nums) -> int:\n",
    "        length = len(nums)\n",
    "        if length == 0:\n",
    "            return False\n",
    "        left, right = 1, length-1\n",
    "        while(left < right):\n",
    "            mid = left + (right - left) // 2\n",
    "            cnt = 0\n",
    "            for num in nums:\n",
    "                if num <= mid:\n",
    "                    cnt += 1\n",
    "            if cnt > mid:\n",
    "                right = mid\n",
    "            else:\n",
    "                left = mid + 1\n",
    "        return left"
   ]
  },
  {
   "cell_type": "code",
   "execution_count": 11,
   "metadata": {
    "ExecuteTime": {
     "end_time": "2020-02-11T09:57:52.770832Z",
     "start_time": "2020-02-11T09:57:52.759862Z"
    },
    "code_folding": [
     0
    ]
   },
   "outputs": [],
   "source": [
    "# 本题解法二   时间复杂度O(n) 空间复杂度O(1)\n",
    "class Solution:\n",
    "    def findDuplicate(self, nums) -> int:\n",
    "        length = len(nums)\n",
    "        if length == 0:\n",
    "            return False\n",
    "        slow = 0\n",
    "        fast = 0\n",
    "        while True:\n",
    "            slow = nums[slow]\n",
    "            fast = nums[nums[fast]]\n",
    "            if slow == fast:\n",
    "                before, after = 0, slow\n",
    "                while before != after:\n",
    "                    before, after = nums[before], nums[after]\n",
    "                return before"
   ]
  },
  {
   "cell_type": "code",
   "execution_count": 6,
   "metadata": {
    "ExecuteTime": {
     "end_time": "2020-02-11T08:10:08.338281Z",
     "start_time": "2020-02-11T08:10:08.332309Z"
    },
    "code_folding": [
     0
    ]
   },
   "outputs": [],
   "source": [
    "# 关联题目 1：leetcode 141(环形链表)\n",
    "# 解法一   时间复杂度O(n) 空间复杂度O(n)\n",
    "class Solution:\n",
    "    def hasCycle(self, head) -> bool:\n",
    "        memo = []\n",
    "        while head:\n",
    "            if head in memo:\n",
    "                return True\n",
    "            else:\n",
    "                memo.append(head)\n",
    "                head = head.next\n",
    "        return False\n",
    "# 解法二   时间复杂度O(n) 空间复杂度O(1)\n",
    "class Solution:\n",
    "    def hasCycle(self, head) -> bool:\n",
    "        if not head: return False\n",
    "        slow = head\n",
    "        fast = head.next\n",
    "        while(slow != fast):\n",
    "            if (not fast) or (not fast.next):\n",
    "                return False\n",
    "            slow = slow.next\n",
    "            fast = fast.next.next\n",
    "        return True"
   ]
  },
  {
   "cell_type": "code",
   "execution_count": 9,
   "metadata": {
    "ExecuteTime": {
     "end_time": "2020-02-11T09:47:53.653320Z",
     "start_time": "2020-02-11T09:47:53.641349Z"
    },
    "code_folding": [
     0
    ]
   },
   "outputs": [],
   "source": [
    "# 关联题目 2：leetcode 142(环形链表 II)\n",
    "# 解法一   时间复杂度O(n) 空间复杂度O(n)\n",
    "class Solution:\n",
    "    def detectCycle(self, head):\n",
    "        memo = []\n",
    "        while head:\n",
    "            if head in memo:\n",
    "                return head\n",
    "            else:\n",
    "                memo.append(head)\n",
    "                head = head.next\n",
    "        return None\n",
    "# 解法二   时间复杂度O(n) 空间复杂度O(1)\n",
    "class Solution:\n",
    "    def detectCycle(self, head):\n",
    "        slow = head\n",
    "        fast = head\n",
    "        while True:\n",
    "            if (not fast) or (not fast.next):\n",
    "                return None\n",
    "            slow = slow.next\n",
    "            fast = fast.next.next\n",
    "            if slow == fast:\n",
    "                point = head\n",
    "                while(point != slow):\n",
    "                    slow = slow.next\n",
    "                    point = point.next\n",
    "                return slow"
   ]
  },
  {
   "cell_type": "code",
   "execution_count": null,
   "metadata": {},
   "outputs": [],
   "source": []
  }
 ],
 "metadata": {
  "kernelspec": {
   "display_name": "Python 3",
   "language": "python",
   "name": "python3"
  },
  "language_info": {
   "codemirror_mode": {
    "name": "ipython",
    "version": 3
   },
   "file_extension": ".py",
   "mimetype": "text/x-python",
   "name": "python",
   "nbconvert_exporter": "python",
   "pygments_lexer": "ipython3",
   "version": "3.5.4"
  }
 },
 "nbformat": 4,
 "nbformat_minor": 2
}
