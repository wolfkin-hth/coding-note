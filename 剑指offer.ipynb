{
 "cells": [
  {
   "cell_type": "markdown",
   "metadata": {},
   "source": [
    "# 剑指offer"
   ]
  },
  {
   "cell_type": "markdown",
   "metadata": {},
   "source": [
    "### 数组"
   ]
  },
  {
   "cell_type": "markdown",
   "metadata": {},
   "source": [
    "* 1 在一个长度为n的数组里的所有数字都在0到n-1的范围内。 数组中某些数字是重复的，但不知道有几个数字是重复的。也不知道每个数字重复几次。请找出数组中任意一个重复的数字。 例如，如果输入长度为7的数组{2,3,1,0,2,5,3}"
   ]
  },
  {
   "cell_type": "code",
   "execution_count": 2,
   "metadata": {
    "ExecuteTime": {
     "end_time": "2020-02-10T12:23:39.922868Z",
     "start_time": "2020-02-10T12:23:39.915866Z"
    },
    "code_folding": [
     0
    ]
   },
   "outputs": [],
   "source": [
    "# 解法一：备忘录 时间复杂度O(n) 空间复杂度O(n)\n",
    "# -*- coding:utf-8 -*-\n",
    "class Solution:\n",
    "    # 这里要特别注意~找到任意重复的一个值并赋值到duplication[0]\n",
    "    # 函数返回True/False\n",
    "    def duplicate(self, numbers, duplication):\n",
    "        # write code here\n",
    "        if len(numbers) == 0:\n",
    "            return False\n",
    "        memo = []\n",
    "        for num in numbers:\n",
    "            if num in memo:\n",
    "                duplication[0] = num\n",
    "                return True\n",
    "            memo.append(num)\n",
    "        return False"
   ]
  },
  {
   "cell_type": "code",
   "execution_count": null,
   "metadata": {
    "code_folding": [
     0
    ]
   },
   "outputs": [],
   "source": [
    "# 解法二： 时间复杂度O(nlog(n)) 空间复杂度O(1)\n",
    "# -*- coding:utf-8 -*-\n",
    "class Solution:\n",
    "    # 这里要特别注意~找到任意重复的一个值并赋值到duplication[0]\n",
    "    # 函数返回True/False\n",
    "    def duplicate(self, numbers, duplication):\n",
    "        # write code here\n",
    "        if len(numbers) == 0:\n",
    "            return False\n",
    "        numbers.sort()\n",
    "        for i in range(len(numbers)-1):\n",
    "            if numbers[i] == numbers[i+1]:\n",
    "                duplication[0] = numbers[i]\n",
    "                return True\n",
    "        return False"
   ]
  },
  {
   "cell_type": "code",
   "execution_count": 1,
   "metadata": {
    "ExecuteTime": {
     "end_time": "2020-02-11T06:39:53.578482Z",
     "start_time": "2020-02-11T06:39:53.570504Z"
    },
    "code_folding": [
     0
    ]
   },
   "outputs": [],
   "source": [
    "# 解法三： 时间复杂度O(n) 空间复杂度O(1)\n",
    "# -*- coding:utf-8 -*-\n",
    "class Solution:\n",
    "    # 这里要特别注意~找到任意重复的一个值并赋值到duplication[0]\n",
    "    # 函数返回True/False\n",
    "    def duplicate(self, numbers, duplication):\n",
    "        # write code here\n",
    "        if len(numbers) == 0:\n",
    "            return False\n",
    "        for i in range(len(numbers)):\n",
    "            if i != numbers[i]:\n",
    "                if numbers[i] == numbers[numbers[i]]:\n",
    "                    duplication[0] = numbers[i]\n",
    "                    return True\n",
    "                else:\n",
    "                    temp = numbers[i]\n",
    "                    numbers[i] = numbers[temp]\n",
    "                    numbers[temp] = temp\n",
    "        return False"
   ]
  },
  {
   "cell_type": "code",
   "execution_count": 2,
   "metadata": {
    "ExecuteTime": {
     "end_time": "2020-02-11T06:58:55.770048Z",
     "start_time": "2020-02-11T06:58:55.764036Z"
    },
    "code_folding": [
     0
    ]
   },
   "outputs": [],
   "source": [
    "# 解法四： 时间复杂度O(n) 空间复杂度O(1)\n",
    "# -*- coding:utf-8 -*-\n",
    "class Solution:\n",
    "    # 这里要特别注意~找到任意重复的一个值并赋值到duplication[0]\n",
    "    # 函数返回True/False\n",
    "    def duplicate(self, numbers, duplication):\n",
    "        # write code here\n",
    "        if len(numbers) == 0:\n",
    "            return False\n",
    "        length = len(numbers)\n",
    "        for i in range(length):\n",
    "            m = numbers[i] - length if numbers[i] >= length else numbers[i]\n",
    "            if numbers[m] > length:\n",
    "                duplication[0] = m\n",
    "                return True\n",
    "            else:\n",
    "                numbers[m] += length\n",
    "        return False"
   ]
  },
  {
   "cell_type": "markdown",
   "metadata": {},
   "source": [
    "* 2 不修改数组找出重复数字(leetcode 287)\n",
    "\n",
    "  在一个长度为n+1的数组里的所有数字都在1~n之间，所以数组至少存在一个数字是重复的。请找出数组中任意一个重复的数字，但不能修改输入的数组。\n",
    "  \n",
    "> 关联题目 1：leetcode 141(环形链表): 给定一个链表，判断链表中是否有环。\n",
    "\n",
    "> 关联题目 2：leetcode 142(环形链表 II): 给定一个链表，返回链表开始入环的第一个节点。 如果链表无环，则返回 null。\n"
   ]
  },
  {
   "cell_type": "code",
   "execution_count": 12,
   "metadata": {
    "ExecuteTime": {
     "end_time": "2020-02-11T10:40:08.836871Z",
     "start_time": "2020-02-11T10:40:08.829910Z"
    },
    "code_folding": [
     0
    ]
   },
   "outputs": [],
   "source": [
    "# 本题解法一   二分查找  时间复杂度O(nlog(n)) 空间复杂度O(1)\n",
    "class Solution:\n",
    "    def findDuplicate(self, nums) -> int:\n",
    "        length = len(nums)\n",
    "        if length == 0:\n",
    "            return False\n",
    "        left, right = 1, length-1\n",
    "        while(left < right):\n",
    "            mid = left + (right - left) // 2\n",
    "            cnt = 0\n",
    "            for num in nums:\n",
    "                if num <= mid:\n",
    "                    cnt += 1\n",
    "            if cnt > mid:\n",
    "                right = mid\n",
    "            else:\n",
    "                left = mid + 1\n",
    "        return left"
   ]
  },
  {
   "cell_type": "code",
   "execution_count": 11,
   "metadata": {
    "ExecuteTime": {
     "end_time": "2020-02-11T09:57:52.770832Z",
     "start_time": "2020-02-11T09:57:52.759862Z"
    },
    "code_folding": [
     0
    ]
   },
   "outputs": [],
   "source": [
    "# 本题解法二   时间复杂度O(n) 空间复杂度O(1)\n",
    "class Solution:\n",
    "    def findDuplicate(self, nums) -> int:\n",
    "        length = len(nums)\n",
    "        if length == 0:\n",
    "            return False\n",
    "        slow = 0\n",
    "        fast = 0\n",
    "        while True:\n",
    "            slow = nums[slow]\n",
    "            fast = nums[nums[fast]]\n",
    "            if slow == fast:\n",
    "                before, after = 0, slow\n",
    "                while before != after:\n",
    "                    before, after = nums[before], nums[after]\n",
    "                return before"
   ]
  },
  {
   "cell_type": "code",
   "execution_count": 6,
   "metadata": {
    "ExecuteTime": {
     "end_time": "2020-02-11T08:10:08.338281Z",
     "start_time": "2020-02-11T08:10:08.332309Z"
    },
    "code_folding": [
     0
    ]
   },
   "outputs": [],
   "source": [
    "# 关联题目 1：leetcode 141(环形链表)\n",
    "# 解法一   时间复杂度O(n) 空间复杂度O(n)\n",
    "class Solution:\n",
    "    def hasCycle(self, head) -> bool:\n",
    "        memo = []\n",
    "        while head:\n",
    "            if head in memo:\n",
    "                return True\n",
    "            else:\n",
    "                memo.append(head)\n",
    "                head = head.next\n",
    "        return False\n",
    "# 解法二   时间复杂度O(n) 空间复杂度O(1)\n",
    "class Solution:\n",
    "    def hasCycle(self, head) -> bool:\n",
    "        if not head: return False\n",
    "        slow = head\n",
    "        fast = head.next\n",
    "        while(slow != fast):\n",
    "            if (not fast) or (not fast.next):\n",
    "                return False\n",
    "            slow = slow.next\n",
    "            fast = fast.next.next\n",
    "        return True"
   ]
  },
  {
   "cell_type": "code",
   "execution_count": 9,
   "metadata": {
    "ExecuteTime": {
     "end_time": "2020-02-11T09:47:53.653320Z",
     "start_time": "2020-02-11T09:47:53.641349Z"
    },
    "code_folding": []
   },
   "outputs": [],
   "source": [
    "# 关联题目 2：leetcode 142(环形链表 II)\n",
    "# 解法一   时间复杂度O(n) 空间复杂度O(n)\n",
    "class Solution:\n",
    "    def detectCycle(self, head):\n",
    "        memo = []\n",
    "        while head:\n",
    "            if head in memo:\n",
    "                return head\n",
    "            else:\n",
    "                memo.append(head)\n",
    "                head = head.next\n",
    "        return None\n",
    "# 解法二   时间复杂度O(n) 空间复杂度O(1)\n",
    "class Solution:\n",
    "    def detectCycle(self, head):\n",
    "        slow = head\n",
    "        fast = head\n",
    "        while True:\n",
    "            if (not fast) or (not fast.next):\n",
    "                return None\n",
    "            slow = slow.next\n",
    "            fast = fast.next.next\n",
    "            if slow == fast:\n",
    "                point = head\n",
    "                while(point != slow):\n",
    "                    slow = slow.next\n",
    "                    point = point.next\n",
    "                return slow"
   ]
  },
  {
   "cell_type": "markdown",
   "metadata": {},
   "source": [
    "* 3 在一个二维数组中（每个一维数组的长度相同），每一行都按照从左到右递增的顺序排序，每一列都按照从上到下递增的顺序排序。请完成一个函数，输入这样的一个二维数组和一个整数，判断数组中是否含有该整数。"
   ]
  },
  {
   "cell_type": "code",
   "execution_count": 1,
   "metadata": {
    "ExecuteTime": {
     "end_time": "2020-02-12T06:39:51.791936Z",
     "start_time": "2020-02-12T06:39:51.764966Z"
    },
    "code_folding": [
     0
    ]
   },
   "outputs": [],
   "source": [
    "# 解法一    时间复杂度O(n*m) 空间复杂度O(1)\n",
    "# -*- coding:utf-8 -*-\n",
    "class Solution:\n",
    "    # array 二维列表\n",
    "    def Find(self, target, array):\n",
    "        # write code here\n",
    "        if not array: return False\n",
    "        m, n = len(array), len(array[0]) \n",
    "        for i in range(m):\n",
    "            for j in range(n):\n",
    "                if array[i][j] == target:\n",
    "                    return True\n",
    "        return False"
   ]
  },
  {
   "cell_type": "code",
   "execution_count": 7,
   "metadata": {
    "ExecuteTime": {
     "end_time": "2020-02-12T06:54:38.020292Z",
     "start_time": "2020-02-12T06:54:38.013300Z"
    },
    "code_folding": [
     0
    ]
   },
   "outputs": [],
   "source": [
    "# 解法二    时间复杂度O(n+m) 空间复杂度O(1)\n",
    "# -*- coding:utf-8 -*-\n",
    "class Solution:\n",
    "    # array 二维列表\n",
    "    def Find(self, target, array):\n",
    "        # write code here\n",
    "        if not array: return False\n",
    "        M, N = len(array), len(array[0])\n",
    "        m, n = 0, N-1 \n",
    "        while ((m < M) and (n >= 0)):\n",
    "            if array[m][n] == target:\n",
    "                return True\n",
    "            elif array[m][n] > target:\n",
    "                n -= 1\n",
    "            else:\n",
    "                m += 1\n",
    "        return False"
   ]
  },
  {
   "cell_type": "markdown",
   "metadata": {},
   "source": [
    "* 4 构建乘积数组  给定一个数组A[0,1,...,n-1],请构建一个数组B[0,1,...,n-1],其中B中的元素B[i]=A[0] * A[1] * ... * A[i-1] * A[i+1] * ... * A[n-1]。不能使用除法。"
   ]
  },
  {
   "cell_type": "code",
   "execution_count": 9,
   "metadata": {
    "ExecuteTime": {
     "end_time": "2020-02-12T07:09:05.721162Z",
     "start_time": "2020-02-12T07:09:05.714193Z"
    },
    "code_folding": [
     0
    ]
   },
   "outputs": [],
   "source": [
    "# 解法一    时间复杂度O(n^2) 空间复杂度O(1)\n",
    "# -*- coding:utf-8 -*-\n",
    "class Solution:\n",
    "    def multiply(self, A):\n",
    "        # write code here\n",
    "        if not A: return []\n",
    "        B = []\n",
    "        for i in range(len(A)):\n",
    "            res = 1\n",
    "            for j in range(len(A)):\n",
    "                if j == i:\n",
    "                    res = res * 1\n",
    "                else:\n",
    "                    res = res * A[j]\n",
    "            B.append(res)\n",
    "        return B"
   ]
  },
  {
   "cell_type": "code",
   "execution_count": 10,
   "metadata": {
    "ExecuteTime": {
     "end_time": "2020-02-12T07:24:09.758787Z",
     "start_time": "2020-02-12T07:24:09.749785Z"
    },
    "code_folding": [
     0
    ]
   },
   "outputs": [],
   "source": [
    "# 解法二    时间复杂度O(n) 空间复杂度O(n)\n",
    "# -*- coding:utf-8 -*-\n",
    "class Solution:\n",
    "    def multiply(self, A):\n",
    "        # write code here\n",
    "        if not A: return []\n",
    "        C = [1]\n",
    "        D = [1]\n",
    "        for i in range(len(A)-1):\n",
    "            C.append(C[i] * A[i])\n",
    "            D.append(D[i] * A[len(A)-i-1])\n",
    "        return [C[i] * D[len(A)-1-i] for i in range(len(A))]"
   ]
  },
  {
   "cell_type": "markdown",
   "metadata": {},
   "source": [
    "### 字符串"
   ]
  },
  {
   "cell_type": "markdown",
   "metadata": {},
   "source": [
    "* 5 替换空格 \n",
    "   \n",
    "   请实现一个函数，将一个字符串中的每个空格替换成“%20”。例如，当字符串为We Are Happy.则经过替换之后的字符串为We%20Are%20Happy。"
   ]
  },
  {
   "cell_type": "code",
   "execution_count": 11,
   "metadata": {
    "ExecuteTime": {
     "end_time": "2020-02-12T07:29:06.451309Z",
     "start_time": "2020-02-12T07:29:06.446291Z"
    },
    "code_folding": [
     0
    ]
   },
   "outputs": [],
   "source": [
    "# python 的两种解法\n",
    "# -*- coding:utf-8 -*-\n",
    "class Solution:\n",
    "    # s 源字符串\n",
    "    def replaceSpace(self, s):\n",
    "        # write code here\n",
    "        return s.replace(\" \", \"%20\")\n",
    "# -*- coding:utf-8 -*-\n",
    "class Solution:\n",
    "    # s 源字符串\n",
    "    def replaceSpace(self, s):\n",
    "        # write code here\n",
    "        return \"%20\".join(s.split(\" \"))"
   ]
  },
  {
   "cell_type": "markdown",
   "metadata": {},
   "source": [
    "*  正则表达式匹配（hard）\n",
    "   \n",
    "   请实现一个函数用来匹配包括'.'和 * 的正则表达式。模式中的字符 ' .'表示任意一个字符，而 * 表示它前面的字符可以出现任意次（包含0次）。 在本题中，匹配是指字符串的所有字符匹配整个模式。例如，字符串\"aaa\"与模式\"a.a\"和\"ab * ac * a\"匹配，但是与\"aa.a\"和\"ab*a\"均不匹配"
   ]
  },
  {
   "cell_type": "code",
   "execution_count": null,
   "metadata": {},
   "outputs": [],
   "source": []
  },
  {
   "cell_type": "markdown",
   "metadata": {},
   "source": [
    "*  表示数值的字符串（hard）\n",
    "  \n",
    "  请实现一个函数用来判断字符串是否表示数值（包括整数和小数）。例如，字符串\"+100\",\"5e2\",\"-123\",\"3.1416\"和\"-1E-16\"都表示数值。 但是\"12e\",\"1a3.14\",\"1.2.3\",\"+-5\"和\"12e+4.3\"都不是。\n",
    "  * 数字 0-9\n",
    "  * 指数 - \"e\"\n",
    "  * 正/负号 - \"+\"/\"-\"\n",
    "  * 小数点 - \".\"\n",
    "  \n",
    "  当然，在输入中，这些字符的上下文也很重要。"
   ]
  },
  {
   "cell_type": "code",
   "execution_count": 12,
   "metadata": {
    "ExecuteTime": {
     "end_time": "2020-02-12T07:58:06.313151Z",
     "start_time": "2020-02-12T07:58:06.307167Z"
    },
    "code_folding": [
     0
    ]
   },
   "outputs": [],
   "source": [
    "# 解法一：python偷鸡\n",
    "# -*- coding:utf-8 -*-\n",
    "class Solution:\n",
    "    # s字符串\n",
    "    def isNumeric(self, s):\n",
    "        # write code here\n",
    "        try:\n",
    "            num = float(s)\n",
    "            return True\n",
    "        except:\n",
    "            return False"
   ]
  },
  {
   "cell_type": "markdown",
   "metadata": {},
   "source": [
    "*  在字符串 s 中找出第一个只出现一次的字符。如果没有，返回一个单空格。"
   ]
  },
  {
   "cell_type": "code",
   "execution_count": 13,
   "metadata": {
    "ExecuteTime": {
     "end_time": "2020-02-12T08:05:35.163006Z",
     "start_time": "2020-02-12T08:05:35.158045Z"
    },
    "code_folding": [
     0
    ]
   },
   "outputs": [],
   "source": [
    "# 解法一    时间复杂度O(n) 空间复杂度O(n)\n",
    "class Solution:\n",
    "    def firstUniqChar(self, s: str) -> int:\n",
    "        from collections import Counter\n",
    "        count = Counter(s)\n",
    "        for c in s:\n",
    "            if count[c] == 1:\n",
    "                return c\n",
    "        return \" \"\n",
    "# 不使用Counter\n",
    "class Solution:\n",
    "    def firstUniqChar(self, s: str) -> int:\n",
    "        hash_map = {}\n",
    "        for c in s:\n",
    "            hash_map[c] = hash_map.get(c,0) + 1\n",
    "        for c in s:\n",
    "            if hash_map[c] == 1:\n",
    "                return c\n",
    "        return \" \"\n",
    "\n",
    "# 牛客网的字符流\n",
    "# -*- coding:utf-8 -*-\n",
    "class Solution:\n",
    "    # 返回对应char\n",
    "    def __init__(self):\n",
    "        self.s = \"\"\n",
    "    def FirstAppearingOnce(self):\n",
    "        # write code here\n",
    "        s = self.s\n",
    "        hash_map = {}\n",
    "        for c in s:\n",
    "            hash_map[c] = hash_map.get(c,0) + 1\n",
    "        for c in s:\n",
    "            if hash_map[c] == 1:\n",
    "                return c\n",
    "        return \"#\"\n",
    "    def Insert(self, char):\n",
    "        # write code here\n",
    "        self.s += char"
   ]
  },
  {
   "cell_type": "markdown",
   "metadata": {},
   "source": [
    "### 链表"
   ]
  },
  {
   "cell_type": "markdown",
   "metadata": {},
   "source": [
    "* 6 从尾到头打印链表\n",
    "\n",
    "  输入一个链表，按链表从尾到头的顺序返回一个ArrayList。\n",
    "  \n",
    "  > 关联题目:leetcode 206 (反转链表)"
   ]
  },
  {
   "cell_type": "code",
   "execution_count": 1,
   "metadata": {
    "ExecuteTime": {
     "end_time": "2020-02-13T09:02:05.672158Z",
     "start_time": "2020-02-13T09:02:05.625308Z"
    },
    "code_folding": [
     0
    ]
   },
   "outputs": [],
   "source": [
    "# 解法一    时间复杂度O(n) 空间复杂度O(n)\n",
    "# 栈\n",
    "class Solution:\n",
    "    # 返回从尾部到头部的列表值序列，例如[1,2,3]\n",
    "    def printListFromTailToHead(self, listNode):\n",
    "        # write code here\n",
    "        if not listNode: return[]\n",
    "        stack = []\n",
    "        arrayList = []\n",
    "        node = listNode\n",
    "        while node:\n",
    "            stack.append(node.val)\n",
    "            node = node.next\n",
    "        while stack:\n",
    "            arrayList.append(stack.pop())\n",
    "        return arrayList"
   ]
  },
  {
   "cell_type": "code",
   "execution_count": 2,
   "metadata": {
    "ExecuteTime": {
     "end_time": "2020-02-13T09:02:09.004240Z",
     "start_time": "2020-02-13T09:02:08.998275Z"
    },
    "code_folding": [
     0
    ]
   },
   "outputs": [],
   "source": [
    "# 解法二    时间复杂度O(n) 空间复杂度O(n)\n",
    "# 递归\n",
    "class Solution:\n",
    "    # 返回从尾部到头部的列表值序列，例如[1,2,3]\n",
    "    def printListFromTailToHead(self, listNode):\n",
    "        # write code here\n",
    "        if not listNode: return[]\n",
    "        arrayList = []\n",
    "        def get_nextVal(node):\n",
    "            if node:\n",
    "                if node.next:\n",
    "                    get_nextVal(node.next)\n",
    "                arrayList.append(node.val)\n",
    "        get_nextVal(listNode)\n",
    "        return arrayList"
   ]
  },
  {
   "cell_type": "code",
   "execution_count": 4,
   "metadata": {
    "ExecuteTime": {
     "end_time": "2020-02-13T09:43:00.554074Z",
     "start_time": "2020-02-13T09:43:00.546121Z"
    },
    "code_folding": [
     0
    ]
   },
   "outputs": [],
   "source": [
    "# 关联题目 反转链表解法\n",
    "# 解法一：栈，同上\n",
    "# 解法二：双指针\n",
    "class Solution:\n",
    "    def reverseList(self, head):\n",
    "        if not head: return None\n",
    "        pre = None\n",
    "        cur = head\n",
    "        while cur:\n",
    "            temp = cur.next\n",
    "            cur.next = pre\n",
    "            pre = cur\n",
    "            cur = temp\n",
    "        return pre\n",
    "# 解法三：递归\n",
    "class Solution:\n",
    "    def reverseList(self, head):\n",
    "        if (not head) or (not head.next):\n",
    "            return head\n",
    "        last = self.reverseList(head.next)\n",
    "        head.next.next = head\n",
    "        head.next = None\n",
    "        return last"
   ]
  },
  {
   "cell_type": "markdown",
   "metadata": {},
   "source": [
    "* 删除链表中重复元素\n",
    "\n",
    "  在一个排序的链表中，存在重复的结点，请删除该链表中重复的结点，重复的结点不保留，返回链表头指针。 例如，链表1->2->3->3->4->4->5 处理后为 1->2->5\n",
    "\n",
    "> 关联题目：leetcode83（删除排序链表中的重复元素）：给定一个排序链表，删除所有重复的元素，使得每个元素只出现一次。比如输入: 1->1->2->3->3  输出: 1->2->3"
   ]
  },
  {
   "cell_type": "code",
   "execution_count": 1,
   "metadata": {
    "ExecuteTime": {
     "end_time": "2020-02-14T09:29:08.338699Z",
     "start_time": "2020-02-14T09:29:08.332715Z"
    },
    "code_folding": [
     0
    ]
   },
   "outputs": [],
   "source": [
    "# 关联题目解法\n",
    "class Solution:\n",
    "    def deleteDuplicates(self, head):\n",
    "        cur = head\n",
    "        while(cur and cur.next):\n",
    "            if cur.val == cur.next.val:\n",
    "                cur.next = cur.next.next\n",
    "            else:\n",
    "                cur = cur.next\n",
    "        return head"
   ]
  },
  {
   "cell_type": "code",
   "execution_count": 4,
   "metadata": {
    "ExecuteTime": {
     "end_time": "2020-02-14T09:58:34.094161Z",
     "start_time": "2020-02-14T09:58:34.084161Z"
    },
    "code_folding": [
     0
    ]
   },
   "outputs": [],
   "source": [
    "# 解法一：时间复杂度O（n） 空间复杂度O（n）\n",
    "# 哈希表\n",
    "class Solution:\n",
    "    def deleteDuplication(self, pHead):\n",
    "        # write code here\n",
    "        if not pHead or not pHead.next:\n",
    "            return pHead\n",
    "        hash_map = {}\n",
    "        cur = pHead\n",
    "        while(cur):\n",
    "            hash_map[cur.val] = hash_map.get(cur.val, 0) + 1\n",
    "            cur = cur.next\n",
    "        new_head = ListNode(0)\n",
    "        tail = new_head\n",
    "        cur = pHead\n",
    "        while(cur):\n",
    "            if hash_map[cur.val] == 1:\n",
    "                tail.next = ListNode(cur.val)\n",
    "                tail = tail.next\n",
    "            cur = cur.next\n",
    "        return new_head.next"
   ]
  },
  {
   "cell_type": "code",
   "execution_count": 2,
   "metadata": {
    "ExecuteTime": {
     "end_time": "2020-02-14T09:53:03.948929Z",
     "start_time": "2020-02-14T09:53:03.937984Z"
    },
    "code_folding": [
     0
    ]
   },
   "outputs": [],
   "source": [
    "# 解法二：时间复杂度O（n） 空间复杂度O（1）\n",
    "class Solution:\n",
    "    def deleteDuplicates(self, head):\n",
    "        if not head or not head.next:\n",
    "            return head\n",
    "        dummy = ListNode(None)\n",
    "        dummy.next = head\n",
    "        pre = dummy\n",
    "        cur = head\n",
    "        while(cur and cur.next):\n",
    "            if cur.val != cur.next.val:\n",
    "                pre = cur\n",
    "                cur = cur.next\n",
    "            else:\n",
    "                while((cur.next) and (cur.val == cur.next.val)):\n",
    "                    cur = cur.next\n",
    "                pre.next = cur.next\n",
    "                cur = cur.next\n",
    "        return dummy.next"
   ]
  },
  {
   "cell_type": "code",
   "execution_count": 3,
   "metadata": {
    "ExecuteTime": {
     "end_time": "2020-02-14T09:58:23.557327Z",
     "start_time": "2020-02-14T09:58:23.547354Z"
    },
    "code_folding": [
     0
    ]
   },
   "outputs": [],
   "source": [
    "# 解法三：时间复杂度O（n） 空间复杂度O（1）\n",
    "# 递归\n",
    "class Solution:\n",
    "    def deleteDuplicates(self, head):\n",
    "        if not head: \n",
    "            return head\n",
    "        if head.next and head.val == head.next.val:\n",
    "            while head.next and head.val == head.next.val:\n",
    "                head = head.next\n",
    "            return self.deleteDuplicates(head.next)\n",
    "        else:\n",
    "            head.next = self.deleteDuplicates(head.next)\n",
    "        return head"
   ]
  },
  {
   "cell_type": "markdown",
   "metadata": {},
   "source": [
    "### 树"
   ]
  },
  {
   "cell_type": "markdown",
   "metadata": {},
   "source": [
    "* 7 重建二叉树\n",
    "\n",
    "  输入某二叉树的前序遍历和中序遍历的结果，请重建出该二叉树。假设输入的前序遍历和中序遍历的结果中都不含重复的数字。例如输入前序遍历序列{1,2,4,7,3,5,6,8}和中序遍历序列{4,7,2,1,5,3,8,6}，则重建二叉树并返回。\n",
    "                      1\n",
    "                     /  \\\n",
    "                    2    3\n",
    "                   /    /  \\\n",
    "                  4    5   6\n",
    "                   \\      /\n",
    "                    7    8"
   ]
  },
  {
   "cell_type": "code",
   "execution_count": 1,
   "metadata": {
    "ExecuteTime": {
     "end_time": "2020-02-15T08:58:17.841146Z",
     "start_time": "2020-02-15T08:58:17.830174Z"
    }
   },
   "outputs": [],
   "source": [
    "# 解法一：\n",
    "class Solution:\n",
    "    # 返回构造的TreeNode根节点\n",
    "    def reConstructBinaryTree(self, pre, tin):\n",
    "        # write code here\n",
    "        if not pre:\n",
    "            return None\n",
    "        root = TreeNode(pre[0])\n",
    "        loc = tin.index(pre[0])\n",
    "        root.left = self.reConstructBinaryTree(pre[1:loc+1], tin[:loc])\n",
    "        root.right = self.reConstructBinaryTree(pre[loc+1:], tin[loc+1:])\n",
    "        return root"
   ]
  },
  {
   "cell_type": "code",
   "execution_count": null,
   "metadata": {},
   "outputs": [],
   "source": []
  }
 ],
 "metadata": {
  "kernelspec": {
   "display_name": "Python 3",
   "language": "python",
   "name": "python3"
  },
  "language_info": {
   "codemirror_mode": {
    "name": "ipython",
    "version": 3
   },
   "file_extension": ".py",
   "mimetype": "text/x-python",
   "name": "python",
   "nbconvert_exporter": "python",
   "pygments_lexer": "ipython3",
   "version": "3.5.4"
  }
 },
 "nbformat": 4,
 "nbformat_minor": 2
}
