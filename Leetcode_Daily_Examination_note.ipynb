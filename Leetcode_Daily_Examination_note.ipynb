{
 "cells": [
  {
   "cell_type": "markdown",
   "metadata": {},
   "source": [
    "# Leetcode每日一题"
   ]
  },
  {
   "cell_type": "markdown",
   "metadata": {},
   "source": [
    "# 3.03  [合并排序的数组](https://leetcode-cn.com/problems/sorted-merge-lcci/)\n",
    "\n",
    "给定两个排序后的数组 A 和 B，其中 A 的末端有足够的缓冲空间容纳 B。 编写一个方法，将 B 合并入 A 并排序。\n",
    "\n",
    "初始化 A 和 B 的元素数量分别为 m 和 n。"
   ]
  },
  {
   "cell_type": "markdown",
   "metadata": {},
   "source": [
    "解法一：排序\n",
    "\n",
    "时间复杂度：*O*((*m*+*n*)log(*m*+*n*))\n",
    "\n",
    "空间复杂度：O(log(m+n))*O*(log(*m*+*n*))\n"
   ]
  },
  {
   "cell_type": "code",
   "execution_count": 2,
   "metadata": {},
   "outputs": [],
   "source": [
    "class Solution:\n",
    "    def merge(self, A, m, B, n):\n",
    "        \"\"\"\n",
    "        Do not return anything, modify A in-place instead.\n",
    "        \"\"\"\n",
    "        A[m:] = B\n",
    "        A.sort()"
   ]
  },
  {
   "cell_type": "markdown",
   "metadata": {},
   "source": [
    "解法二：双指针\n",
    "\n",
    "时间复杂度：O*(*m*+*n)\n",
    "\n",
    "空间复杂度：O*(*m*+*n)"
   ]
  },
  {
   "cell_type": "code",
   "execution_count": 3,
   "metadata": {},
   "outputs": [],
   "source": [
    "class Solution:\n",
    "    def merge(self, A, m, B, n):\n",
    "        \"\"\"\n",
    "        Do not return anything, modify A in-place instead.\n",
    "        \"\"\"\n",
    "        i, j = 0, 0\n",
    "        sort_lis = []\n",
    "        while i < m or j < n:\n",
    "            if i == m:\n",
    "                sort_lis.append(B[j])\n",
    "                j += 1\n",
    "            elif j == n:\n",
    "                sort_lis.append(A[i])\n",
    "                i += 1\n",
    "            elif A[i] < B[j]:\n",
    "                sort_lis.append(A[i])\n",
    "                i += 1\n",
    "            else:\n",
    "                sort_lis.append(B[j])\n",
    "                j += 1\n",
    "        A[:] = sort_lis"
   ]
  },
  {
   "cell_type": "markdown",
   "metadata": {},
   "source": [
    "解法三：逆序双指针\n",
    "\n",
    "时间复杂度：O*(*m*+*n)\n",
    "\n",
    "空间复杂度：O(1)"
   ]
  },
  {
   "cell_type": "code",
   "execution_count": 4,
   "metadata": {},
   "outputs": [],
   "source": [
    "class Solution:\n",
    "    def merge(self, A, m, B, n):\n",
    "        \"\"\"\n",
    "        Do not return anything, modify A in-place instead.\n",
    "        \"\"\"\n",
    "        i, j = m-1, n-1\n",
    "        tail = m+n-1\n",
    "        while i >= 0 or j >= 0:\n",
    "            if i == -1:\n",
    "                A[tail] = B[j]\n",
    "                j -= 1\n",
    "            elif j == -1:\n",
    "                A[tail] = A[i]\n",
    "                i -= 1\n",
    "            elif A[i] > B[j]:\n",
    "                A[tail] = A[i]\n",
    "                i -= 1\n",
    "            else:\n",
    "                A[tail] = B[j]\n",
    "                j -= 1\n",
    "            tail -= 1"
   ]
  },
  {
   "cell_type": "markdown",
   "metadata": {},
   "source": [
    "# 3.04 [腐烂的橘子](https://leetcode-cn.com/problems/rotting-oranges/)\n",
    "\n",
    "在给定的网格中，每个单元格可以有以下三个值之一：\n",
    "\n",
    "值 0 代表空单元格；\n",
    "值 1 代表新鲜橘子；\n",
    "值 2 代表腐烂的橘子。\n",
    "每分钟，任何与腐烂的橘子（在 4 个正方向上）相邻的新鲜橘子都会腐烂。\n",
    "\n",
    "返回直到单元格中没有新鲜橘子为止所必须经过的最小分钟数。如果不可能，返回 -1。"
   ]
  },
  {
   "cell_type": "markdown",
   "metadata": {},
   "source": [
    "解法：BFS"
   ]
  },
  {
   "cell_type": "code",
   "execution_count": 6,
   "metadata": {},
   "outputs": [],
   "source": [
    "# 写法一：BFS标准模板：用队列\n",
    "class Solution:\n",
    "    def orangesRotting(self, grid):\n",
    "        row, col, time = len(grid), len(grid[0]), 0\n",
    "        direction = [(0, 1), (0, -1), (1, 0), (-1, 0)]\n",
    "        queue = []\n",
    "        # 将坏橘子入队列\n",
    "        for i in range(row):\n",
    "            for j in range(col):\n",
    "                if grid[i][j] == 2:\n",
    "                    queue.append((i, j ,time))\n",
    "        # BFS\n",
    "        while queue:\n",
    "            i, j, time = queue.pop(0)\n",
    "            print(grid)\n",
    "            for di, dj in direction:\n",
    "                if 0<=i+di<row and 0<=j+dj<col and grid[i+di][j+dj] == 1:\n",
    "                    grid[i+di][j+dj] = 2\n",
    "                    queue.append((i+di, j+dj ,time+1))\n",
    "        # 坏的感染能力都结束了还存在好的橘子\n",
    "        for row in grid:\n",
    "            if 1 in row: return -1\n",
    "        return time"
   ]
  },
  {
   "cell_type": "code",
   "execution_count": 7,
   "metadata": {},
   "outputs": [],
   "source": [
    "# 写法二：利用集合\n",
    "class Solution:\n",
    "    def orangesRotting(self, grid):\n",
    "        row, col, time = len(grid), len(grid[0]), 0\n",
    "        direction = [(0, 1), (0, -1), (1, 0), (-1, 0)]\n",
    "        bad = {(i, j) for i in range(row) for j in range(col) if grid[i][j]==2}\n",
    "        good = {(i, j) for i in range(row) for j in range(col) if grid[i][j]==1}\n",
    "        while good:\n",
    "            if not bad: return -1  # 坏的感染能力都结束了还存在好的橘子\n",
    "            bad = {(i+di, j+dj) for i, j in bad for di, dj in direction if (i+di, j+dj) in good}\n",
    "            good -= bad   # 差集\n",
    "            time += 1\n",
    "        return time"
   ]
  },
  {
   "cell_type": "markdown",
   "metadata": {},
   "source": [
    "# 3.05 [分糖果 II](https://leetcode-cn.com/problems/distribute-candies-to-people/)\n",
    "\n",
    "排排坐，分糖果。\n",
    "\n",
    "我们买了一些糖果 candies，打算把它们分给排好队的 n = num_people 个小朋友。\n",
    "\n",
    "给第一个小朋友 1 颗糖果，第二个小朋友 2 颗，依此类推，直到给最后一个小朋友 n 颗糖果。\n",
    "\n",
    "然后，我们再回到队伍的起点，给第一个小朋友 n + 1 颗糖果，第二个小朋友 n + 2 颗，依此类推，直到给最后一个小朋友 2 * n 颗糖果。\n",
    "\n",
    "重复上述过程（每次都比上一次多给出一颗糖果，当到达队伍终点后再次从队伍起点开始），直到我们分完所有的糖果。注意，就算我们手中的剩下糖果数不够（不比前一次发出的糖果多），这些糖果也会全部发给当前的小朋友。\n",
    "\n",
    "返回一个长度为 num_people、元素之和为 candies 的数组，以表示糖果的最终分发情况（即 ans[i] 表示第 i 个小朋友分到的糖果数）。"
   ]
  },
  {
   "cell_type": "markdown",
   "metadata": {},
   "source": [
    "解法一： 暴力，挨个发"
   ]
  },
  {
   "cell_type": "code",
   "execution_count": 1,
   "metadata": {},
   "outputs": [],
   "source": [
    "class Solution:\n",
    "    def distributeCandies(self, candies: int, num_people: int):\n",
    "        res = [0 for _ in range(num_people)]\n",
    "        i = 0\n",
    "        while candies:\n",
    "            res[i % num_people] += min(i+1, candies)\n",
    "            candies -= min(i+1, candies)\n",
    "            i += 1\n",
    "        return res"
   ]
  },
  {
   "cell_type": "markdown",
   "metadata": {},
   "source": [
    "解法二：暴力，先发再要"
   ]
  },
  {
   "cell_type": "code",
   "execution_count": 2,
   "metadata": {},
   "outputs": [],
   "source": [
    "class Solution:\n",
    "    def distributeCandies(self, candies: int, num_people: int):\n",
    "        res = [0 for _ in range(num_people)]\n",
    "        n = 1\n",
    "        i = 0\n",
    "        while candies > 0:\n",
    "            res[i % num_people] += i+1 \n",
    "            candies -= i+1 \n",
    "            i += 1\n",
    "        res[(i-1) % num_people] += candies\n",
    "        return res"
   ]
  },
  {
   "cell_type": "markdown",
   "metadata": {},
   "source": [
    "解法三：[数学法](https://leetcode-cn.com/problems/distribute-candies-to-people/solution/xiang-xi-jie-shi-shu-xue-fang-fa-zen-yao-zuo-gao-z/)"
   ]
  },
  {
   "cell_type": "code",
   "execution_count": 3,
   "metadata": {},
   "outputs": [],
   "source": [
    "class Solution:\n",
    "    def distributeCandies(self, candies: int, num_people: int):\n",
    "        # 为了方便理解，把num_people赋值给n，即n个小朋友\n",
    "        n = num_people\n",
    "        # 套用上面推出来的公式，直接计算可以完整发放糖果的次数p\n",
    "        p = int((2 * candies + 0.25)**0.5 - 0.5) \n",
    "        # 继续套用公式，算出完整发放糖果以后剩余的糖果数量\n",
    "        R = int(candies - (p + 1) * p * 0.5)\n",
    "        # 迭代rows轮，cols是倒霉孩子的下标\n",
    "        rows, cols = p // n, p % n\n",
    "        \n",
    "        # 小朋友们端好了碗，等你发糖\n",
    "        kids = [0] * n\n",
    "        for i in range(n):\n",
    "            # 性感coder，在线发糖\n",
    "            kids[i] = (i + 1) * rows + int(rows * (rows - 1) * 0.5) * n\n",
    "            # 最后一轮or在p<n时的第一轮\n",
    "            if i < cols:\n",
    "                kids[i] += i + 1 + rows * n\n",
    "        # 最后的那个倒霉孩子开心的拿到了R颗糖       \n",
    "        kids[cols] += R\n",
    "        return kids"
   ]
  },
  {
   "cell_type": "code",
   "execution_count": null,
   "metadata": {},
   "outputs": [],
   "source": []
  }
 ],
 "metadata": {
  "kernelspec": {
   "display_name": "Python 3",
   "language": "python",
   "name": "python3"
  },
  "language_info": {
   "codemirror_mode": {
    "name": "ipython",
    "version": 3
   },
   "file_extension": ".py",
   "mimetype": "text/x-python",
   "name": "python",
   "nbconvert_exporter": "python",
   "pygments_lexer": "ipython3",
   "version": "3.5.4"
  }
 },
 "nbformat": 4,
 "nbformat_minor": 2
}
