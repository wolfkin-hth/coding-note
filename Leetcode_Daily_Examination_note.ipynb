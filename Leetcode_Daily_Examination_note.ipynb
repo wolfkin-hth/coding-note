{
 "cells": [
  {
   "cell_type": "markdown",
   "metadata": {},
   "source": [
    "# Leetcode每日一题"
   ]
  },
  {
   "cell_type": "markdown",
   "metadata": {},
   "source": [
    "# 3.03  [合并排序的数组](https://leetcode-cn.com/problems/sorted-merge-lcci/)\n",
    "\n",
    "给定两个排序后的数组 A 和 B，其中 A 的末端有足够的缓冲空间容纳 B。 编写一个方法，将 B 合并入 A 并排序。\n",
    "\n",
    "初始化 A 和 B 的元素数量分别为 m 和 n。"
   ]
  },
  {
   "cell_type": "markdown",
   "metadata": {},
   "source": [
    "解法一：排序\n",
    "\n",
    "时间复杂度：*O*((*m*+*n*)log(*m*+*n*))\n",
    "\n",
    "空间复杂度：O(log(m+n))*O*(log(*m*+*n*))\n"
   ]
  },
  {
   "cell_type": "code",
   "execution_count": 2,
   "metadata": {},
   "outputs": [],
   "source": [
    "class Solution:\n",
    "    def merge(self, A, m, B, n):\n",
    "        \"\"\"\n",
    "        Do not return anything, modify A in-place instead.\n",
    "        \"\"\"\n",
    "        A[m:] = B\n",
    "        A.sort()"
   ]
  },
  {
   "cell_type": "markdown",
   "metadata": {},
   "source": [
    "解法二：双指针\n",
    "\n",
    "时间复杂度：O*(*m*+*n)\n",
    "\n",
    "空间复杂度：O*(*m*+*n)"
   ]
  },
  {
   "cell_type": "code",
   "execution_count": 3,
   "metadata": {},
   "outputs": [],
   "source": [
    "class Solution:\n",
    "    def merge(self, A, m, B, n):\n",
    "        \"\"\"\n",
    "        Do not return anything, modify A in-place instead.\n",
    "        \"\"\"\n",
    "        i, j = 0, 0\n",
    "        sort_lis = []\n",
    "        while i < m or j < n:\n",
    "            if i == m:\n",
    "                sort_lis.append(B[j])\n",
    "                j += 1\n",
    "            elif j == n:\n",
    "                sort_lis.append(A[i])\n",
    "                i += 1\n",
    "            elif A[i] < B[j]:\n",
    "                sort_lis.append(A[i])\n",
    "                i += 1\n",
    "            else:\n",
    "                sort_lis.append(B[j])\n",
    "                j += 1\n",
    "        A[:] = sort_lis"
   ]
  },
  {
   "cell_type": "markdown",
   "metadata": {},
   "source": [
    "解法三：逆序双指针\n",
    "\n",
    "时间复杂度：O*(*m*+*n)\n",
    "\n",
    "空间复杂度：O(1)"
   ]
  },
  {
   "cell_type": "code",
   "execution_count": 4,
   "metadata": {},
   "outputs": [],
   "source": [
    "class Solution:\n",
    "    def merge(self, A, m, B, n):\n",
    "        \"\"\"\n",
    "        Do not return anything, modify A in-place instead.\n",
    "        \"\"\"\n",
    "        i, j = m-1, n-1\n",
    "        tail = m+n-1\n",
    "        while i >= 0 or j >= 0:\n",
    "            if i == -1:\n",
    "                A[tail] = B[j]\n",
    "                j -= 1\n",
    "            elif j == -1:\n",
    "                A[tail] = A[i]\n",
    "                i -= 1\n",
    "            elif A[i] > B[j]:\n",
    "                A[tail] = A[i]\n",
    "                i -= 1\n",
    "            else:\n",
    "                A[tail] = B[j]\n",
    "                j -= 1\n",
    "            tail -= 1"
   ]
  },
  {
   "cell_type": "markdown",
   "metadata": {},
   "source": [
    "# 3.04 [腐烂的橘子](https://leetcode-cn.com/problems/rotting-oranges/)\n",
    "\n",
    "在给定的网格中，每个单元格可以有以下三个值之一：\n",
    "\n",
    "值 0 代表空单元格；\n",
    "值 1 代表新鲜橘子；\n",
    "值 2 代表腐烂的橘子。\n",
    "每分钟，任何与腐烂的橘子（在 4 个正方向上）相邻的新鲜橘子都会腐烂。\n",
    "\n",
    "返回直到单元格中没有新鲜橘子为止所必须经过的最小分钟数。如果不可能，返回 -1。"
   ]
  },
  {
   "cell_type": "markdown",
   "metadata": {},
   "source": [
    "解法：BFS"
   ]
  },
  {
   "cell_type": "code",
   "execution_count": 6,
   "metadata": {},
   "outputs": [],
   "source": [
    "# 写法一：BFS标准模板：用队列\n",
    "class Solution:\n",
    "    def orangesRotting(self, grid):\n",
    "        row, col, time = len(grid), len(grid[0]), 0\n",
    "        direction = [(0, 1), (0, -1), (1, 0), (-1, 0)]\n",
    "        queue = []\n",
    "        # 将坏橘子入队列\n",
    "        for i in range(row):\n",
    "            for j in range(col):\n",
    "                if grid[i][j] == 2:\n",
    "                    queue.append((i, j ,time))\n",
    "        # BFS\n",
    "        while queue:\n",
    "            i, j, time = queue.pop(0)\n",
    "            print(grid)\n",
    "            for di, dj in direction:\n",
    "                if 0<=i+di<row and 0<=j+dj<col and grid[i+di][j+dj] == 1:\n",
    "                    grid[i+di][j+dj] = 2\n",
    "                    queue.append((i+di, j+dj ,time+1))\n",
    "        # 坏的感染能力都结束了还存在好的橘子\n",
    "        for row in grid:\n",
    "            if 1 in row: return -1\n",
    "        return time"
   ]
  },
  {
   "cell_type": "code",
   "execution_count": 7,
   "metadata": {},
   "outputs": [],
   "source": [
    "# 写法二：利用集合\n",
    "class Solution:\n",
    "    def orangesRotting(self, grid):\n",
    "        row, col, time = len(grid), len(grid[0]), 0\n",
    "        direction = [(0, 1), (0, -1), (1, 0), (-1, 0)]\n",
    "        bad = {(i, j) for i in range(row) for j in range(col) if grid[i][j]==2}\n",
    "        good = {(i, j) for i in range(row) for j in range(col) if grid[i][j]==1}\n",
    "        while good:\n",
    "            if not bad: return -1  # 坏的感染能力都结束了还存在好的橘子\n",
    "            bad = {(i+di, j+dj) for i, j in bad for di, dj in direction if (i+di, j+dj) in good}\n",
    "            good -= bad   # 差集\n",
    "            time += 1\n",
    "        return time"
   ]
  },
  {
   "cell_type": "code",
   "execution_count": null,
   "metadata": {},
   "outputs": [],
   "source": []
  }
 ],
 "metadata": {
  "kernelspec": {
   "display_name": "Python 3",
   "language": "python",
   "name": "python3"
  },
  "language_info": {
   "codemirror_mode": {
    "name": "ipython",
    "version": 3
   },
   "file_extension": ".py",
   "mimetype": "text/x-python",
   "name": "python",
   "nbconvert_exporter": "python",
   "pygments_lexer": "ipython3",
   "version": "3.5.4"
  }
 },
 "nbformat": 4,
 "nbformat_minor": 2
}
