{
 "cells": [
  {
   "cell_type": "markdown",
   "metadata": {},
   "source": [
    "# Leetcode每日一题"
   ]
  },
  {
   "cell_type": "markdown",
   "metadata": {},
   "source": [
    "# 3.03  [合并排序的数组](https://leetcode-cn.com/problems/sorted-merge-lcci/)\n",
    "\n",
    "给定两个排序后的数组 A 和 B，其中 A 的末端有足够的缓冲空间容纳 B。 编写一个方法，将 B 合并入 A 并排序。\n",
    "\n",
    "初始化 A 和 B 的元素数量分别为 m 和 n。"
   ]
  },
  {
   "cell_type": "markdown",
   "metadata": {},
   "source": [
    "解法一：排序\n",
    "\n",
    "时间复杂度：*O*((*m*+*n*)log(*m*+*n*))\n",
    "\n",
    "空间复杂度：O(log(m+n))*O*(log(*m*+*n*))\n"
   ]
  },
  {
   "cell_type": "code",
   "execution_count": 2,
   "metadata": {},
   "outputs": [],
   "source": [
    "class Solution:\n",
    "    def merge(self, A, m, B, n):\n",
    "        \"\"\"\n",
    "        Do not return anything, modify A in-place instead.\n",
    "        \"\"\"\n",
    "        A[m:] = B\n",
    "        A.sort()"
   ]
  },
  {
   "cell_type": "markdown",
   "metadata": {},
   "source": [
    "解法二：双指针\n",
    "\n",
    "时间复杂度：O*(*m*+*n)\n",
    "\n",
    "空间复杂度：O*(*m*+*n)"
   ]
  },
  {
   "cell_type": "code",
   "execution_count": 3,
   "metadata": {},
   "outputs": [],
   "source": [
    "class Solution:\n",
    "    def merge(self, A, m, B, n):\n",
    "        \"\"\"\n",
    "        Do not return anything, modify A in-place instead.\n",
    "        \"\"\"\n",
    "        i, j = 0, 0\n",
    "        sort_lis = []\n",
    "        while i < m or j < n:\n",
    "            if i == m:\n",
    "                sort_lis.append(B[j])\n",
    "                j += 1\n",
    "            elif j == n:\n",
    "                sort_lis.append(A[i])\n",
    "                i += 1\n",
    "            elif A[i] < B[j]:\n",
    "                sort_lis.append(A[i])\n",
    "                i += 1\n",
    "            else:\n",
    "                sort_lis.append(B[j])\n",
    "                j += 1\n",
    "        A[:] = sort_lis"
   ]
  },
  {
   "cell_type": "markdown",
   "metadata": {},
   "source": [
    "解法三：逆序双指针\n",
    "\n",
    "时间复杂度：O*(*m*+*n)\n",
    "\n",
    "空间复杂度：O(1)"
   ]
  },
  {
   "cell_type": "code",
   "execution_count": 4,
   "metadata": {},
   "outputs": [],
   "source": [
    "class Solution:\n",
    "    def merge(self, A, m, B, n):\n",
    "        \"\"\"\n",
    "        Do not return anything, modify A in-place instead.\n",
    "        \"\"\"\n",
    "        i, j = m-1, n-1\n",
    "        tail = m+n-1\n",
    "        while i >= 0 or j >= 0:\n",
    "            if i == -1:\n",
    "                A[tail] = B[j]\n",
    "                j -= 1\n",
    "            elif j == -1:\n",
    "                A[tail] = A[i]\n",
    "                i -= 1\n",
    "            elif A[i] > B[j]:\n",
    "                A[tail] = A[i]\n",
    "                i -= 1\n",
    "            else:\n",
    "                A[tail] = B[j]\n",
    "                j -= 1\n",
    "            tail -= 1"
   ]
  },
  {
   "cell_type": "markdown",
   "metadata": {},
   "source": [
    "# 3.04 [腐烂的橘子](https://leetcode-cn.com/problems/rotting-oranges/)\n",
    "\n",
    "在给定的网格中，每个单元格可以有以下三个值之一：\n",
    "\n",
    "值 0 代表空单元格；\n",
    "值 1 代表新鲜橘子；\n",
    "值 2 代表腐烂的橘子。\n",
    "每分钟，任何与腐烂的橘子（在 4 个正方向上）相邻的新鲜橘子都会腐烂。\n",
    "\n",
    "返回直到单元格中没有新鲜橘子为止所必须经过的最小分钟数。如果不可能，返回 -1。"
   ]
  },
  {
   "cell_type": "markdown",
   "metadata": {},
   "source": [
    "解法：BFS"
   ]
  },
  {
   "cell_type": "code",
   "execution_count": 6,
   "metadata": {},
   "outputs": [],
   "source": [
    "# 写法一：BFS标准模板：用队列\n",
    "class Solution:\n",
    "    def orangesRotting(self, grid):\n",
    "        row, col, time = len(grid), len(grid[0]), 0\n",
    "        direction = [(0, 1), (0, -1), (1, 0), (-1, 0)]\n",
    "        queue = []\n",
    "        # 将坏橘子入队列\n",
    "        for i in range(row):\n",
    "            for j in range(col):\n",
    "                if grid[i][j] == 2:\n",
    "                    queue.append((i, j ,time))\n",
    "        # BFS\n",
    "        while queue:\n",
    "            i, j, time = queue.pop(0)\n",
    "            print(grid)\n",
    "            for di, dj in direction:\n",
    "                if 0<=i+di<row and 0<=j+dj<col and grid[i+di][j+dj] == 1:\n",
    "                    grid[i+di][j+dj] = 2\n",
    "                    queue.append((i+di, j+dj ,time+1))\n",
    "        # 坏的感染能力都结束了还存在好的橘子\n",
    "        for row in grid:\n",
    "            if 1 in row: return -1\n",
    "        return time"
   ]
  },
  {
   "cell_type": "code",
   "execution_count": 7,
   "metadata": {},
   "outputs": [],
   "source": [
    "# 写法二：利用集合\n",
    "class Solution:\n",
    "    def orangesRotting(self, grid):\n",
    "        row, col, time = len(grid), len(grid[0]), 0\n",
    "        direction = [(0, 1), (0, -1), (1, 0), (-1, 0)]\n",
    "        bad = {(i, j) for i in range(row) for j in range(col) if grid[i][j]==2}\n",
    "        good = {(i, j) for i in range(row) for j in range(col) if grid[i][j]==1}\n",
    "        while good:\n",
    "            if not bad: return -1  # 坏的感染能力都结束了还存在好的橘子\n",
    "            bad = {(i+di, j+dj) for i, j in bad for di, dj in direction if (i+di, j+dj) in good}\n",
    "            good -= bad   # 差集\n",
    "            time += 1\n",
    "        return time"
   ]
  },
  {
   "cell_type": "markdown",
   "metadata": {},
   "source": [
    "# 3.05 [分糖果 II](https://leetcode-cn.com/problems/distribute-candies-to-people/)\n",
    "\n",
    "排排坐，分糖果。\n",
    "\n",
    "我们买了一些糖果 candies，打算把它们分给排好队的 n = num_people 个小朋友。\n",
    "\n",
    "给第一个小朋友 1 颗糖果，第二个小朋友 2 颗，依此类推，直到给最后一个小朋友 n 颗糖果。\n",
    "\n",
    "然后，我们再回到队伍的起点，给第一个小朋友 n + 1 颗糖果，第二个小朋友 n + 2 颗，依此类推，直到给最后一个小朋友 2 * n 颗糖果。\n",
    "\n",
    "重复上述过程（每次都比上一次多给出一颗糖果，当到达队伍终点后再次从队伍起点开始），直到我们分完所有的糖果。注意，就算我们手中的剩下糖果数不够（不比前一次发出的糖果多），这些糖果也会全部发给当前的小朋友。\n",
    "\n",
    "返回一个长度为 num_people、元素之和为 candies 的数组，以表示糖果的最终分发情况（即 ans[i] 表示第 i 个小朋友分到的糖果数）。"
   ]
  },
  {
   "cell_type": "markdown",
   "metadata": {},
   "source": [
    "解法一： 暴力，挨个发"
   ]
  },
  {
   "cell_type": "code",
   "execution_count": 1,
   "metadata": {},
   "outputs": [],
   "source": [
    "class Solution:\n",
    "    def distributeCandies(self, candies: int, num_people: int):\n",
    "        res = [0 for _ in range(num_people)]\n",
    "        i = 0\n",
    "        while candies:\n",
    "            res[i % num_people] += min(i+1, candies)\n",
    "            candies -= min(i+1, candies)\n",
    "            i += 1\n",
    "        return res"
   ]
  },
  {
   "cell_type": "markdown",
   "metadata": {},
   "source": [
    "解法二：暴力，先发再要"
   ]
  },
  {
   "cell_type": "code",
   "execution_count": 2,
   "metadata": {},
   "outputs": [],
   "source": [
    "class Solution:\n",
    "    def distributeCandies(self, candies: int, num_people: int):\n",
    "        res = [0 for _ in range(num_people)]\n",
    "        n = 1\n",
    "        i = 0\n",
    "        while candies > 0:\n",
    "            res[i % num_people] += i+1 \n",
    "            candies -= i+1 \n",
    "            i += 1\n",
    "        res[(i-1) % num_people] += candies\n",
    "        return res"
   ]
  },
  {
   "cell_type": "markdown",
   "metadata": {},
   "source": [
    "解法三：[数学法](https://leetcode-cn.com/problems/distribute-candies-to-people/solution/xiang-xi-jie-shi-shu-xue-fang-fa-zen-yao-zuo-gao-z/)"
   ]
  },
  {
   "cell_type": "code",
   "execution_count": 3,
   "metadata": {},
   "outputs": [],
   "source": [
    "class Solution:\n",
    "    def distributeCandies(self, candies: int, num_people: int):\n",
    "        # 为了方便理解，把num_people赋值给n，即n个小朋友\n",
    "        n = num_people\n",
    "        # 套用上面推出来的公式，直接计算可以完整发放糖果的次数p\n",
    "        p = int((2 * candies + 0.25)**0.5 - 0.5) \n",
    "        # 继续套用公式，算出完整发放糖果以后剩余的糖果数量\n",
    "        R = int(candies - (p + 1) * p * 0.5)\n",
    "        # 迭代rows轮，cols是倒霉孩子的下标\n",
    "        rows, cols = p // n, p % n\n",
    "        \n",
    "        # 小朋友们端好了碗，等你发糖\n",
    "        kids = [0] * n\n",
    "        for i in range(n):\n",
    "            # 性感coder，在线发糖\n",
    "            kids[i] = (i + 1) * rows + int(rows * (rows - 1) * 0.5) * n\n",
    "            # 最后一轮or在p<n时的第一轮\n",
    "            if i < cols:\n",
    "                kids[i] += i + 1 + rows * n\n",
    "        # 最后的那个倒霉孩子开心的拿到了R颗糖       \n",
    "        kids[cols] += R\n",
    "        return kids"
   ]
  },
  {
   "cell_type": "markdown",
   "metadata": {},
   "source": [
    "# 3.06 [和为s的连续正数序列](https://leetcode-cn.com/problems/he-wei-sde-lian-xu-zheng-shu-xu-lie-lcof/)\n",
    "\n",
    "输入一个正整数 target ，输出所有和为 target 的连续正整数序列（至少含有两个数）。\n",
    "\n",
    "序列内的数字由小到大排列，不同序列按照首个数字从小到大排列。"
   ]
  },
  {
   "cell_type": "markdown",
   "metadata": {},
   "source": [
    "解法一：暴力枚举\n",
    "\n",
    "时间复杂度：O（Nsqrt(N)） 空间复杂度：O（1）"
   ]
  },
  {
   "cell_type": "code",
   "execution_count": 1,
   "metadata": {},
   "outputs": [],
   "source": [
    "class Solution:\n",
    "    def findContinuousSequence(self, target: int):\n",
    "        res = []\n",
    "        for i in range(1, target//2+1):\n",
    "            tmp_sum = 0\n",
    "            for j in range(i, target//2+2):\n",
    "                tmp_sum += j\n",
    "                if tmp_sum == target:\n",
    "                    res.append(list(range(i, j+1)))\n",
    "                    tmp = 0\n",
    "                    break\n",
    "                elif tmp_sum > target:\n",
    "                    tmp = 0\n",
    "                    break\n",
    "                else:\n",
    "                    continue\n",
    "        return res"
   ]
  },
  {
   "cell_type": "markdown",
   "metadata": {},
   "source": [
    "解法二：双指针滑窗\n",
    "\n",
    "时间复杂度：O（N） 空间复杂度：O（1）"
   ]
  },
  {
   "cell_type": "code",
   "execution_count": 2,
   "metadata": {},
   "outputs": [],
   "source": [
    "class Solution:\n",
    "    def findContinuousSequence(self, target: int):\n",
    "        res = []\n",
    "        left, right = 1, 1\n",
    "        tmp_sum = 1\n",
    "        while left < target//2 + 1:\n",
    "            if tmp_sum < target:\n",
    "                right += 1\n",
    "                tmp_sum += right\n",
    "            elif tmp_sum > target:\n",
    "                tmp_sum -= left\n",
    "                left += 1\n",
    "            else:\n",
    "                res.append(list(range(left, right+1)))\n",
    "                tmp_sum -= left\n",
    "                left += 1\n",
    "        return res"
   ]
  },
  {
   "cell_type": "markdown",
   "metadata": {},
   "source": [
    "解法三：[数学优化的暴力枚举](https://leetcode-cn.com/problems/he-wei-sde-lian-xu-zheng-shu-xu-lie-lcof/solution/xiang-jie-hua-dong-chuang-kou-fa-qiu-gen-fa-jian-g/)\n",
    "\n",
    "时间复杂度：O（N） 空间复杂度：O（1）"
   ]
  },
  {
   "cell_type": "code",
   "execution_count": 3,
   "metadata": {},
   "outputs": [],
   "source": [
    "class Solution:\n",
    "    def findContinuousSequence(self, target: int):\n",
    "        res = []\n",
    "        # y不能超过target的中值,即y<=target//2 + 1,range函数左开右闭,所以这里是+2\n",
    "        for y in range(1, target//2+2):\n",
    "            # 应用我们的求根公式\n",
    "            x = (1/4 + y**2 + y - 2 * target) ** (1/2) + 0.5\n",
    "            # 我们要确保x不能是复数，且x必须是整数\n",
    "            if type(x) != complex and x - int(x) == 0:\n",
    "                res.append(list(range(int(x),y+1)))\n",
    "        return res"
   ]
  },
  {
   "cell_type": "markdown",
   "metadata": {},
   "source": [
    "# 3.07 [队列的最大值](https://leetcode-cn.com/problems/dui-lie-de-zui-da-zhi-lcof/)\n",
    "\n",
    "请定义一个队列并实现函数 max_value 得到队列里的最大值，要求函数max_value、push_back 和 pop_front 的均摊时间复杂度都是O(1)。\n",
    "\n",
    "若队列为空，pop_front 和 max_value 需要返回 -1"
   ]
  },
  {
   "cell_type": "markdown",
   "metadata": {},
   "source": [
    "解法一：暴力：\n",
    "\n",
    "时间复杂度：O(1)（插入，删除），O(n)（求最大值）\n",
    "\n",
    "空间复杂度：O(n)"
   ]
  },
  {
   "cell_type": "code",
   "execution_count": 1,
   "metadata": {},
   "outputs": [],
   "source": [
    "class MaxQueue:\n",
    "    def __init__(self):\n",
    "        self.queue = []\n",
    "\n",
    "    def max_value(self) -> int:\n",
    "        if self.queue:\n",
    "            return max(self.queue)   # O(n)\n",
    "        return -1\n",
    "\n",
    "    def push_back(self, value: int) -> None:\n",
    "        self.queue.append(value)\n",
    "\n",
    "    def pop_front(self) -> int:\n",
    "        if self.queue:\n",
    "            return self.queue.pop(0)\n",
    "        return -1"
   ]
  },
  {
   "cell_type": "markdown",
   "metadata": {},
   "source": [
    "解法二：双端队列+辅助队列\n",
    "\n",
    "时间复杂度：O(1)（插入，删除，求最大值）\n",
    "\n",
    "空间复杂度：O(n)"
   ]
  },
  {
   "cell_type": "code",
   "execution_count": 2,
   "metadata": {},
   "outputs": [],
   "source": [
    "class MaxQueue:\n",
    "\n",
    "    def __init__(self):\n",
    "        self.deque = []\n",
    "        self.queue = []\n",
    "\n",
    "    def max_value(self) -> int:\n",
    "        if self.deque:\n",
    "            return self.deque[0]\n",
    "        return -1\n",
    "\n",
    "    def push_back(self, value: int) -> None:\n",
    "        while self.deque and self.deque[-1] < value:\n",
    "            self.deque.pop()\n",
    "        self.deque.append(value)\n",
    "        self.queue.append(value)\n",
    "\n",
    "    def pop_front(self) -> int:\n",
    "        if self.queue:\n",
    "            ans = self.queue.pop(0)\n",
    "            if ans == self.deque[0]: self.deque.pop(0)\n",
    "            return ans\n",
    "        return -1"
   ]
  },
  {
   "cell_type": "markdown",
   "metadata": {},
   "source": [
    "# 3.08 [零钱兑换](https://leetcode-cn.com/problems/coin-change/)\n",
    "\n",
    "给定不同面额的硬币 coins 和一个总金额 amount。编写一个函数来计算可以凑成总金额所需的最少的硬币个数。如果没有任何一种硬币组合能组成总金额，返回 -1。"
   ]
  },
  {
   "cell_type": "markdown",
   "metadata": {},
   "source": [
    "解法一：暴力递归：DP"
   ]
  },
  {
   "cell_type": "code",
   "execution_count": 2,
   "metadata": {},
   "outputs": [],
   "source": [
    "class Solution:\n",
    "    def coinChange(self, coins, amount: int) -> int:\n",
    "        if amount == 0:\n",
    "            return 0\n",
    "        num = float(\"inf\")\n",
    "        for coin in coins:\n",
    "            if amount - coin < 0:\n",
    "                continue\n",
    "            tmp_num = self.coinChange(coins, amount-coin)\n",
    "            if tmp_num == -1: \n",
    "                continue\n",
    "            num = min(num, tmp_num+1)\n",
    "        if num == float(\"inf\"): return -1\n",
    "        return num"
   ]
  },
  {
   "cell_type": "markdown",
   "metadata": {},
   "source": [
    "解法二：备忘录DP"
   ]
  },
  {
   "cell_type": "code",
   "execution_count": 3,
   "metadata": {},
   "outputs": [],
   "source": [
    "class Solution:\n",
    "    def coinChange(self, coins, amount: int) -> int:\n",
    "        memory = [float(\"inf\") for _ in range(amount+1)]\n",
    "        memory[0] = 0\n",
    "\n",
    "        def helper(coins, amount):\n",
    "            if memory[amount] != float(\"inf\"):\n",
    "                return memory[amount]\n",
    "            \n",
    "            for coin in coins:\n",
    "                if amount - coin < 0:\n",
    "                    continue\n",
    "                tmp_num = helper(coins, amount-coin)\n",
    "                if tmp_num == -1:\n",
    "                    continue\n",
    "                memory[amount] = min(memory[amount], tmp_num+1)\n",
    "            if memory[amount] == float(\"inf\"):\n",
    "                memory[amount] = -1\n",
    "            return memory[amount]\n",
    "\n",
    "        helper(coins, amount)\n",
    "        return memory[amount]"
   ]
  },
  {
   "cell_type": "markdown",
   "metadata": {},
   "source": [
    "解法三：自底向上：DP"
   ]
  },
  {
   "cell_type": "code",
   "execution_count": 5,
   "metadata": {},
   "outputs": [],
   "source": [
    "class Solution:\n",
    "    def coinChange(self, coins, amount: int) -> int:\n",
    "        dp_table = [float(\"inf\") for _ in range(amount+1)]\n",
    "        dp_table[0] = 0\n",
    "\n",
    "        for i in range(1, amount+1):\n",
    "            for coin in coins:\n",
    "                if i - coin < 0: continue\n",
    "                dp_table[i] = min(dp_table[i], dp_table[i-coin]+1)\n",
    "        return dp_table[amount] if dp_table[amount] != float(\"inf\") else -1"
   ]
  },
  {
   "cell_type": "markdown",
   "metadata": {},
   "source": [
    "解法四：贪心+DFS+剪枝"
   ]
  },
  {
   "cell_type": "code",
   "execution_count": 7,
   "metadata": {},
   "outputs": [],
   "source": [
    "class Solution:\n",
    "    def coinChange(self, coins, amount: int) -> int:\n",
    "        coins.sort(reverse=True)\n",
    "        self.res = float(\"inf\")\n",
    "                \n",
    "        for i in range(len(coins)):\n",
    "            self.DFS(coins, i, 0, amount)\n",
    "        return self.res if self.res != float(\"inf\") else -1\n",
    "\n",
    "    def DFS(self, coins, i, num, amount):\n",
    "        if amount == 0:\n",
    "            self.res = min(self.res, num)\n",
    "            return \n",
    "        for j in range(i, len(coins)):\n",
    "            # 剩下的最大值都不够凑出来了\n",
    "            if (self.res - num) * coins[j] < amount:\n",
    "                break\n",
    "            if coins[j] > amount:\n",
    "                continue\n",
    "            self.DFS(coins, j, num + 1, amount - coins[j])"
   ]
  },
  {
   "cell_type": "markdown",
   "metadata": {},
   "source": [
    "解法五：BFS"
   ]
  },
  {
   "cell_type": "code",
   "execution_count": 8,
   "metadata": {},
   "outputs": [],
   "source": [
    "class Solution:\n",
    "    def coinChange(self, coins, amount: int) -> int:\n",
    "        queue = [amount]\n",
    "        res = 0\n",
    "        visited = [False for _ in range(amount+1)]\n",
    "        while queue:\n",
    "            for _ in range(len(queue)): # 每次把当前一轮的BFS进行完才能+1\n",
    "                tmp = queue.pop(0)\n",
    "                if tmp == 0:\n",
    "                    return res\n",
    "                for coin in coins:\n",
    "                    if tmp >= coin and not visited[tmp-coin]:\n",
    "                        visited[tmp-coin] = True\n",
    "                        queue.append(tmp-coin)\n",
    "            res += 1\n",
    "        return -1"
   ]
  },
  {
   "cell_type": "markdown",
   "metadata": {},
   "source": [
    "# 3.09 [ 买卖股票的最佳时机](https://leetcode-cn.com/problems/best-time-to-buy-and-sell-stock/)\n",
    "\n",
    "给定一个数组，它的第 i 个元素是一支给定股票第 i 天的价格。\n",
    "\n",
    "如果你最多只允许完成一笔交易（即买入和卖出一支股票），设计一个算法来计算你所能获取的最大利润。\n",
    "\n",
    "注意你不能在买入股票前卖出股票。"
   ]
  },
  {
   "cell_type": "markdown",
   "metadata": {},
   "source": [
    "解法一：暴力法\n",
    "\n",
    "- 时间复杂度：O*(*n<sup>2</sup>)\n",
    "- 空间复杂度：O(1)"
   ]
  },
  {
   "cell_type": "markdown",
   "metadata": {},
   "source": [
    "解法二：\t\n",
    "\n",
    "- 时间复杂度：O*(*n)\n",
    "- 空间复杂度：O(1)"
   ]
  },
  {
   "cell_type": "code",
   "execution_count": 1,
   "metadata": {},
   "outputs": [],
   "source": [
    "class Solution:\n",
    "    def maxProfit(self, prices) -> int:\n",
    "        profit = 0\n",
    "        min_price = float(\"inf\")\n",
    "        for i in range(len(prices)):\n",
    "            profit = max(profit, prices[i]-min_price)\n",
    "            min_price = min(min_price, prices[i])\n",
    "        return profit \t"
   ]
  },
  {
   "cell_type": "markdown",
   "metadata": {},
   "source": [
    "解法三：DP\n",
    "\n",
    "- 时间复杂度：O(*n*)。\n",
    "- 空间复杂度：O(*n*)。"
   ]
  },
  {
   "cell_type": "code",
   "execution_count": 2,
   "metadata": {},
   "outputs": [],
   "source": [
    "class Solution:\n",
    "    def maxProfit(self, prices) -> int:\n",
    "        if not prices: return 0\n",
    "        dp_table = [0 for _ in range(len(prices))]\n",
    "        minprice = float(\"inf\")\n",
    "        for i in range(len(dp_table)):\n",
    "            dp_table[i] = max(dp_table[i-1], prices[i]-minprice)\n",
    "            minprice = min(minprice, prices[i])\n",
    "        return dp_table[-1]"
   ]
  },
  {
   "cell_type": "markdown",
   "metadata": {},
   "source": [
    "# 3.10 [二叉树的直径](https://leetcode-cn.com/problems/diameter-of-binary-tree/)\n",
    "\n",
    "给定一棵二叉树，你需要计算它的直径长度。一棵二叉树的直径长度是任意两个结点路径长度中的最大值。这条路径可能穿过根结点。"
   ]
  },
  {
   "cell_type": "markdown",
   "metadata": {},
   "source": [
    "解法：DFS递归"
   ]
  },
  {
   "cell_type": "code",
   "execution_count": 1,
   "metadata": {},
   "outputs": [],
   "source": [
    "class Solution:\n",
    "    def diameterOfBinaryTree(self, root) -> int:\n",
    "        self.res = 0\n",
    "        self.depth(root)\n",
    "        return self.res\n",
    "\n",
    "    def depth(self, node):\n",
    "        if not node:\n",
    "            return 0\n",
    "        depth_left, depth_right = self.depth(node.left), self.depth(node.right)\n",
    "        self.res = max(self.res, depth_left+depth_right)\n",
    "        return max(depth_left, depth_right) + 1"
   ]
  },
  {
   "cell_type": "markdown",
   "metadata": {},
   "source": [
    "# 3.11 [将数组分成和相等的三个部分](https://leetcode-cn.com/problems/partition-array-into-three-parts-with-equal-sum/)\n",
    "\n",
    "给你一个整数数组 `A`，只有可以将其划分为三个和相等的非空部分时才返回 `true`，否则返回 `false`。\n",
    "\n",
    "形式上，如果可以找出索引 `i+1 < j` 且满足` (A[0] + A[1] + ... + A[i] == A[i+1] + A[i+2] + ... + A[j-1] == A[j] + A[j-1] + ... + A[A.length - 1]) `就可以将数组三等分。"
   ]
  },
  {
   "cell_type": "markdown",
   "metadata": {},
   "source": [
    "解法：双指针"
   ]
  },
  {
   "cell_type": "code",
   "execution_count": 1,
   "metadata": {},
   "outputs": [],
   "source": [
    "class Solution:\n",
    "    def canThreePartsEqualSum(self, A) -> bool:\n",
    "        if sum(A) % 3 != 0: return False\n",
    "        subsum = sum(A) / 3\n",
    "        left, right = 1, len(A)-2\n",
    "        sum_1, sum_2 = A[0], A[-1]\n",
    "        while sum_1 != subsum and left < right:\n",
    "            sum_1 += A[left]\n",
    "            left += 1\n",
    "        while sum_2 != subsum and right > left:\n",
    "            sum_2 += A[right]\n",
    "            right -= 1\n",
    "        if sum_1 != subsum or sum_2 != subsum: return False\n",
    "        if left <= right: \n",
    "            return True\n",
    "        else: \n",
    "            return False"
   ]
  },
  {
   "cell_type": "markdown",
   "metadata": {},
   "source": [
    "# 3.12 [字符串的最大公因子](https://leetcode-cn.com/problems/greatest-common-divisor-of-strings/)\n",
    "\n",
    "对于字符串`S`和`T`，只有在`S = T + ... + T`（`T `与自身连接 1 次或多次）时，我们才认定 “`T `能除尽` S`”。\n",
    "\n",
    "返回最长字符串` X`，要求满足` X` 能除尽 `str1` 且 `X `能除尽 `str2`。"
   ]
  },
  {
   "cell_type": "markdown",
   "metadata": {},
   "source": [
    "解法：辗转相除"
   ]
  },
  {
   "cell_type": "code",
   "execution_count": 1,
   "metadata": {},
   "outputs": [],
   "source": [
    "class Solution:\n",
    "    def gcdOfStrings(self, str1: str, str2: str) -> str:\n",
    "        i = 0\n",
    "        m, n = len(str1), len(str2)\n",
    "        while i<m or i<n:\n",
    "            if str1[i%m] != str2[i%n]:\n",
    "                return \"\"\n",
    "            i += 1\n",
    "        def gcd(a, b):\n",
    "            if b == 0:\n",
    "                return a\n",
    "            return gcd(b, a%b)\n",
    "        return str1[:gcd(m, n)]"
   ]
  },
  {
   "cell_type": "markdown",
   "metadata": {},
   "source": [
    "稍稍优化："
   ]
  },
  {
   "cell_type": "code",
   "execution_count": 2,
   "metadata": {},
   "outputs": [],
   "source": [
    "class Solution:\n",
    "    def gcdOfStrings(self, str1: str, str2: str) -> str:\n",
    "        if str1  + str2 != str2 + str1:\n",
    "                return \"\"\n",
    "        def gcd(a, b):\n",
    "            if b == 0:\n",
    "                return a\n",
    "            return gcd(b, a%b)\n",
    "        return str1[:gcd(len(str1), len(str2))]"
   ]
  },
  {
   "cell_type": "markdown",
   "metadata": {},
   "source": [
    "枚举："
   ]
  },
  {
   "cell_type": "code",
   "execution_count": 3,
   "metadata": {},
   "outputs": [],
   "source": [
    "class Solution:\n",
    "    def gcdOfStrings(self, str1: str, str2: str) -> str:\n",
    "        m, n = len(str1), len(str2)\n",
    "        for i in range(min(m, n), 0, -1):\n",
    "            if m%i == 0 and n%i == 0:\n",
    "                if str1[:i]*(m//i) == str1 and str1[:i]*(n//i) == str2:\n",
    "                    return str1[:i]\n",
    "        return \"\""
   ]
  },
  {
   "cell_type": "markdown",
   "metadata": {},
   "source": [
    "## 3.15 [岛屿的最大面积](https://leetcode-cn.com/problems/max-area-of-island/)\n",
    "给定一个包含了一些 0 和 1的非空二维数组 grid , 一个 岛屿 是由四个方向 (水平或垂直) 的 1 (代表土地) 构成的组合。你可以假设二维矩阵的四个边缘都被水包围着。\n",
    "\n",
    "找到给定的二维数组中最大的岛屿面积。(如果没有岛屿，则返回面积为0。)"
   ]
  },
  {
   "cell_type": "markdown",
   "metadata": {},
   "source": [
    "解法一：DFS"
   ]
  },
  {
   "cell_type": "code",
   "execution_count": 1,
   "metadata": {},
   "outputs": [],
   "source": [
    "class Solution:\n",
    "    directions = {(0, 1), (0, -1), (1, 0), (-1, 0)}\n",
    "    area = 0\n",
    "    def maxAreaOfIsland(self, grid) -> int:\n",
    "        m = len(grid)\n",
    "        if not m: return 0\n",
    "        n = len(grid[0])\n",
    "        visited = [[False for _ in range(n)] for _ in range(m)]\n",
    "        max_area = 0\n",
    "        for i in range(m):\n",
    "            for j in range(n):\n",
    "                if grid[i][j]==1 and not visited[i][j]:\n",
    "                    self.area = 0\n",
    "                    self.DFS(grid, m, n, i, j, visited)\n",
    "                    if max_area < self.area:\n",
    "                        max_area = self.area\n",
    "        return max_area\n",
    "\n",
    "    def DFS(self, grid, m, n, i, j, visited):\n",
    "        visited[i][j] = True\n",
    "        self.area += 1\n",
    "        for di, dj in self.directions:\n",
    "            if 0<=i+di<m and 0<=j+dj<n and grid[i+di][j+dj]==1 and not visited[i+di][j+dj]:\n",
    "                self.DFS(grid, m, n, i+di, j+dj, visited)"
   ]
  },
  {
   "cell_type": "markdown",
   "metadata": {},
   "source": [
    "解法二：BFS"
   ]
  },
  {
   "cell_type": "code",
   "execution_count": 2,
   "metadata": {},
   "outputs": [],
   "source": [
    "class Solution:\n",
    "    directions = {(0, 1), (0, -1), (1, 0), (-1, 0)}\n",
    "    area = 0\n",
    "    def maxAreaOfIsland(self, grid) -> int:\n",
    "        m = len(grid)\n",
    "        if not m: return 0\n",
    "        n = len(grid[0])\n",
    "        visited = [[False for _ in range(n)] for _ in range(m)]\n",
    "        max_area = 0\n",
    "        for i in range(m):\n",
    "            for j in range(n):\n",
    "                if grid[i][j]==1 and not visited[i][j]:\n",
    "                    self.area = 0\n",
    "                    self.BFS(grid, m, n, i, j, visited)\n",
    "                    if max_area < self.area:\n",
    "                        max_area = self.area\n",
    "        return max_area\n",
    "\n",
    "    def BFS(self, grid, m, n, i, j, visited):\n",
    "        visited[i][j] = True\n",
    "        queue = [(i, j)]\n",
    "        self.area += 1\n",
    "        while queue:\n",
    "            i, j = queue.pop(0)\n",
    "            for di, dj in self.directions:\n",
    "                if 0<=i+di<m and 0<=j+dj<n and grid[i+di][j+dj]==1 and not visited[i+di][j+dj]:\n",
    "                    visited[i+di][j+dj] = True\n",
    "                    queue.append((i+di, j+dj))\n",
    "                    self.area += 1"
   ]
  },
  {
   "cell_type": "markdown",
   "metadata": {},
   "source": [
    "## 3.16 [字符串压缩](https://leetcode-cn.com/problems/compress-string-lcci/)\n",
    "\n",
    "字符串压缩。利用字符重复出现的次数，编写一种方法，实现基本的字符串压缩功能。比如，字符串aabcccccaaa会变为a2b1c5a3。若“压缩”后的字符串没有变短，则返回原先的字符串。你可以假设字符串中只包含大小写英文字母（a至z）。"
   ]
  },
  {
   "cell_type": "markdown",
   "metadata": {},
   "source": [
    "解法："
   ]
  },
  {
   "cell_type": "code",
   "execution_count": 2,
   "metadata": {},
   "outputs": [],
   "source": [
    "class Solution:\n",
    "    def compressString(self, S: str) -> str:\n",
    "        if not S: return \"\"\n",
    "        s_ = \"\"\n",
    "        i = 0\n",
    "        pre = \"\"\n",
    "        while i < len(S):\n",
    "            if S[i] != pre:\n",
    "                if i != 0:\n",
    "                    s_ += str(cnt)\n",
    "                cnt = 1\n",
    "                s_ += S[i]\n",
    "            else:\n",
    "                cnt += 1\n",
    "            pre = S[i]\n",
    "            i += 1\n",
    "        s_ += str(cnt)\n",
    "        return s_ if len(s_) < len(S) else S"
   ]
  },
  {
   "cell_type": "markdown",
   "metadata": {},
   "source": [
    "## 3.17 [拼写单词](https://leetcode-cn.com/problems/find-words-that-can-be-formed-by-characters/)\n",
    "\n",
    "给你一份『词汇表』（字符串数组） `words `和一张『字母表』（字符串） `chars`。\n",
    "\n",
    "假如你可以用 `chars `中的『字母』（字符）拼写出 `words `中的某个『单词』（字符串），那么我们就认为你掌握了这个单词。\n",
    "\n",
    "注意：每次拼写时，`chars` 中的每个字母都只能用一次。\n",
    "\n",
    "返回词汇表 `words` 中你掌握的所有单词的 **长度之和**。"
   ]
  },
  {
   "cell_type": "markdown",
   "metadata": {},
   "source": [
    "解法：hash表"
   ]
  },
  {
   "cell_type": "code",
   "execution_count": 1,
   "metadata": {},
   "outputs": [],
   "source": [
    "class Solution:\n",
    "    def countCharacters(self, words, chars: str) -> int:\n",
    "        length = 0\n",
    "        hash_chars = collections.Counter(chars)\n",
    "        for word in words:\n",
    "            flag = True\n",
    "            hash_word = collections.Counter(word)\n",
    "            for c in hash_word:\n",
    "                if c not in hash_chars or hash_word[c]>hash_chars[c]:\n",
    "                    flag = False\n",
    "                    break\n",
    "            if flag: length += len(word)\n",
    "        return length"
   ]
  },
  {
   "cell_type": "markdown",
   "metadata": {},
   "source": [
    "用all()的写法"
   ]
  },
  {
   "cell_type": "code",
   "execution_count": 2,
   "metadata": {},
   "outputs": [],
   "source": [
    "class Solution:\n",
    "    def countCharacters(self, words, chars: str) -> int:\n",
    "        length = 0\n",
    "        hash_chars = collections.Counter(chars)\n",
    "        for word in words:\n",
    "            hash_word = collections.Counter(word)\n",
    "            if all([hash_word[i] <= hash_chars[i] for i in hash_word]):\n",
    "                length += len(word)\n",
    "        return length"
   ]
  },
  {
   "cell_type": "markdown",
   "metadata": {},
   "source": [
    "# 3.18 [矩形重叠](https://leetcode-cn.com/problems/rectangle-overlap/)\n",
    "\n",
    "矩形以列表 `[x1, y1, x2, y2]` 的形式表示，其中 `(x1, y1)` 为左下角的坐标，`(x2, y2)` 是右上角的坐标。\n",
    "\n",
    "如果相交的面积为正，则称两矩形重叠。需要明确的是，只在角或边接触的两个矩形不构成重叠。\n",
    "\n",
    "给出两个矩形，判断它们是否重叠并返回结果。"
   ]
  },
  {
   "cell_type": "markdown",
   "metadata": {},
   "source": [
    "解法：排除法"
   ]
  },
  {
   "cell_type": "code",
   "execution_count": 1,
   "metadata": {
    "code_folding": []
   },
   "outputs": [],
   "source": [
    "class Solution:\n",
    "    def isRectangleOverlap(self, rec1, rec2) -> bool:\n",
    "        if rec1[2]<=rec2[0]: return False\n",
    "        if rec1[0]>=rec2[2]: return False\n",
    "        if rec1[3]<=rec2[1]: return False\n",
    "        if rec1[1]>=rec2[3]: return False\n",
    "        return True"
   ]
  },
  {
   "cell_type": "code",
   "execution_count": null,
   "metadata": {},
   "outputs": [],
   "source": []
  }
 ],
 "metadata": {
  "kernelspec": {
   "display_name": "Python 3",
   "language": "python",
   "name": "python3"
  },
  "language_info": {
   "codemirror_mode": {
    "name": "ipython",
    "version": 3
   },
   "file_extension": ".py",
   "mimetype": "text/x-python",
   "name": "python",
   "nbconvert_exporter": "python",
   "pygments_lexer": "ipython3",
   "version": "3.7.0"
  }
 },
 "nbformat": 4,
 "nbformat_minor": 2
}
