{
 "cells": [
  {
   "cell_type": "markdown",
   "metadata": {},
   "source": [
    "# 动态规划练习\n",
    "递归的暴力解法 -> 带备忘录的递归解法 -> 非递归的动态规划解法"
   ]
  },
  {
   "cell_type": "markdown",
   "metadata": {},
   "source": [
    "### 练习题 1\n",
    "有一段楼梯有10级台阶，规定每一步只能跨一级或两级，要登上第10级台阶有几种不同的走法? (很像斐波那契数列)"
   ]
  },
  {
   "cell_type": "code",
   "execution_count": 3,
   "metadata": {
    "ExecuteTime": {
     "end_time": "2019-10-29T13:59:39.989071Z",
     "start_time": "2019-10-29T13:59:39.985505Z"
    }
   },
   "outputs": [],
   "source": [
    "# 递归的暴力解法\n",
    "def solution_0(n):\n",
    "    if (n == 1) or (n == 2):\n",
    "        return 1\n",
    "    else:\n",
    "        return solution(n-1) + solution(n-2)"
   ]
  },
  {
   "cell_type": "markdown",
   "metadata": {
    "ExecuteTime": {
     "end_time": "2019-10-29T13:52:17.881863Z",
     "start_time": "2019-10-29T13:52:17.871907Z"
    }
   },
   "source": [
    "#### 分析：\n",
    "时间复杂度： O(2^n)\n",
    "\n",
    "问题：存在大量重复计算"
   ]
  },
  {
   "cell_type": "code",
   "execution_count": 23,
   "metadata": {
    "ExecuteTime": {
     "end_time": "2019-10-29T14:13:48.033458Z",
     "start_time": "2019-10-29T14:13:48.025907Z"
    }
   },
   "outputs": [],
   "source": [
    "# 带备忘录的递归解法--自顶向下--将重叠子问题结构存到备忘录\n",
    "memory = [0 for i in range(11)]\n",
    "def solution_1(n):\n",
    "    if memory[n] != 0:\n",
    "        return memory[n]\n",
    "    if (n == 1) or (n == 2):\n",
    "        memory[n] = 1\n",
    "    else:\n",
    "        memory[n] = solution_1(n-1) + solution_1(n-2)\n",
    "    return memory[n]"
   ]
  },
  {
   "cell_type": "markdown",
   "metadata": {
    "ExecuteTime": {
     "end_time": "2019-10-29T14:06:50.704660Z",
     "start_time": "2019-10-29T14:06:50.695924Z"
    }
   },
   "source": [
    "#### 分析：\n",
    "时间复杂度： O(n)\n",
    "\n",
    "自顶向下的方法"
   ]
  },
  {
   "cell_type": "code",
   "execution_count": 21,
   "metadata": {
    "ExecuteTime": {
     "end_time": "2019-10-29T14:12:28.403681Z",
     "start_time": "2019-10-29T14:12:28.398793Z"
    }
   },
   "outputs": [],
   "source": [
    "# 非递归的动态规划--自底向上--关键在于状态转移方程\n",
    "def solution_2(n):\n",
    "    dp_table = [0 for i in range(n + 1)]\n",
    "    dp_table[1] = dp_table[2] = 1\n",
    "    for i in range(3, n+1):\n",
    "        dp_table[i] = dp_table[i-1] + dp_table[i-2]\n",
    "    return dp_table[n]"
   ]
  },
  {
   "cell_type": "markdown",
   "metadata": {
    "ExecuteTime": {
     "end_time": "2019-10-29T14:12:29.262221Z",
     "start_time": "2019-10-29T14:12:29.258809Z"
    }
   },
   "source": [
    "#### 分析：\n",
    "时间复杂度： O(n)\n",
    "\n",
    "关键在于找到状态转移方程，即暴力解形式\n",
    "\n",
    "继续优化：当前状态只与前两个状态有关，降低空间复杂度"
   ]
  },
  {
   "cell_type": "code",
   "execution_count": 26,
   "metadata": {
    "ExecuteTime": {
     "end_time": "2019-10-29T14:18:09.255981Z",
     "start_time": "2019-10-29T14:18:09.250746Z"
    }
   },
   "outputs": [],
   "source": [
    "# 最佳解法\n",
    "def solution_2(n):\n",
    "    if (n == 1) or (n == 2):\n",
    "        return 1\n",
    "    pre = cur = 1\n",
    "    for i in range(3, n+1):\n",
    "        temp = pre + cur\n",
    "        pre = cur\n",
    "        cur = temp\n",
    "    return cur"
   ]
  },
  {
   "cell_type": "markdown",
   "metadata": {
    "ExecuteTime": {
     "end_time": "2019-10-29T14:18:09.855738Z",
     "start_time": "2019-10-29T14:18:09.848537Z"
    }
   },
   "source": [
    "#### 分析：\n",
    "时间复杂度：O(n)\n",
    "\n",
    "空间复杂度：O(1)\n",
    "\n",
    "就很舒服^_^"
   ]
  },
  {
   "cell_type": "markdown",
   "metadata": {},
   "source": [
    "### 练习题 2 凑零钱\n",
    "给 k 种面值的硬币，面值分别为 c1, c2 ... ck，再给一个总金额 n，问最少需要几枚硬币凑出这个金额，如果不可能凑出，则回答 -1 \n",
    "\n",
    "例如 k = 3，面值分别为 1，2，5，总金额 n = 11，那么最少需要 3 枚硬币，即 11 = 5 + 5 + 1 "
   ]
  },
  {
   "cell_type": "markdown",
   "metadata": {},
   "source": [
    "#### 分析\n",
    "状态转移方程：\n",
    "$\n",
    "d(i) = \n",
    "\\begin{cases}\n",
    "0, & \\text{if $n = 0$} \\\\\n",
    "min(d(i-v_x)+1), & \\text{if $n \\neq 0$}\n",
    "\\end{cases}\n",
    "$"
   ]
  },
  {
   "cell_type": "code",
   "execution_count": 30,
   "metadata": {
    "ExecuteTime": {
     "end_time": "2019-10-29T14:56:35.891144Z",
     "start_time": "2019-10-29T14:56:35.886839Z"
    }
   },
   "outputs": [],
   "source": [
    "# 暴力递归\n",
    "def getCoinNum_0(coins, value):\n",
    "    # 输入：硬币面值列表  总金额\n",
    "    # 输出：最少金币数\n",
    "    if value == 0:\n",
    "        return 0\n",
    "    num = 9999  # 需凑硬币数初始化为一个大数\n",
    "    for coin in coins:\n",
    "        if (value - coin) < 0:\n",
    "            continue\n",
    "        subNum = getCoinNum(coins, value - coin)  # 求解子问题\n",
    "        if subNum == -1:\n",
    "            continue\n",
    "        num = min(num, subNum + 1)\n",
    "    if num == 9999:\n",
    "        return -1\n",
    "    else:\n",
    "        return num"
   ]
  },
  {
   "cell_type": "code",
   "execution_count": 45,
   "metadata": {
    "ExecuteTime": {
     "end_time": "2019-10-29T15:05:21.181564Z",
     "start_time": "2019-10-29T15:05:21.174720Z"
    }
   },
   "outputs": [],
   "source": [
    "# 带备忘录的递归\n",
    "memory = [-2 for i in range(38+1)]\n",
    "def getCoinNum_1(coins, value):\n",
    "    # 输入：硬币面值列表  总金额\n",
    "    # 输出：最少金币数\n",
    "    num = 9999  # 需凑硬币数初始化为一个大数\n",
    "    if memory[value] != -2:\n",
    "        return memory[value]\n",
    "    else:\n",
    "        if value == 0:\n",
    "            memory[value] = 0\n",
    "        for coin in coins:\n",
    "            if (value - coin) < 0:\n",
    "                continue\n",
    "            subNum = getCoinNum(coins, value - coin)  # 求解子问题\n",
    "            if subNum == -1:\n",
    "                continue\n",
    "            num = min(num, subNum + 1)\n",
    "        if num == 9999:\n",
    "            memory[value] = -1\n",
    "        else:\n",
    "            memory[value] = num\n",
    "    return memory[value]"
   ]
  },
  {
   "cell_type": "code",
   "execution_count": 78,
   "metadata": {
    "ExecuteTime": {
     "end_time": "2019-10-29T15:29:56.681259Z",
     "start_time": "2019-10-29T15:29:56.677624Z"
    }
   },
   "outputs": [],
   "source": [
    "# 非递归的动态规划\n",
    "def getCoinNum_2(coins, value):\n",
    "    # 输入：硬币面值列表  总金额\n",
    "    # 输出：最少金币数\n",
    "    dp_table = [9999 for i in range(value+1)]  # 初始化num一个大值\n",
    "    dp_table[0] = 0\n",
    "    for i in range(1, value+1):\n",
    "        for coin in coins:\n",
    "            if coin <= i:\n",
    "                dp_table[i] = min(dp_table[i], dp_table[i - coin] +1)\n",
    "    if dp_table[value] == 9999:\n",
    "        return -1\n",
    "    else:\n",
    "        return dp_table[value]"
   ]
  },
  {
   "cell_type": "code",
   "execution_count": 79,
   "metadata": {
    "ExecuteTime": {
     "end_time": "2019-10-29T15:29:56.971369Z",
     "start_time": "2019-10-29T15:29:56.960446Z"
    }
   },
   "outputs": [
    {
     "data": {
      "text/plain": [
       "3"
      ]
     },
     "execution_count": 79,
     "metadata": {},
     "output_type": "execute_result"
    }
   ],
   "source": [
    "getCoinNum_2([1, 3, 5], 11)"
   ]
  },
  {
   "cell_type": "markdown",
   "metadata": {},
   "source": [
    "### 练习题 3 放苹果\n",
    "把M个同样的苹果放在N个同样的盘子里，允许有的盘子空着不放，问共有多少种不同的分法？（用K表示）5，1，1和1，5，1 是同一种分法。\n",
    "\n",
    "每个用例包含二个整数M和N。0<=m<=10，1<=n<=10。\n",
    "#### 输入描述:\n",
    "输入两个int整数\n",
    "#### 输出描述:\n",
    "输出结果，int型"
   ]
  },
  {
   "cell_type": "markdown",
   "metadata": {},
   "source": [
    "#### 分析\n",
    "设f(m,n)为m个苹果，n个盘子的放法数目，则先对n作讨论，\n",
    "\n",
    "当n>m：则必定有n-m个盘子永远空着，去掉它们对摆放苹果方法数目不产生影响。即 if(n>m) f(m,n) = f(m,m)\n",
    "\n",
    "当n <= m:不同的放法可以分成两类：含有0的方案数，不含有0的方案数\n",
    "\n",
    "1. 含有0的方案数，即有至少一个盘子空着，即相当于 f(m,n)=f(m,n-1);\n",
    "\n",
    "2. 不含有0的方案数，即所有的盘子都有苹果，相当于可以从每个盘子中拿掉一个苹果，不影响不同放法的数目，即 f(m,n)=f(m-n,n).而总的放苹果的放法数目等于两者的和，即 f(m,n)=f(m,n-1)+f(m-n,n)\n",
    "\n",
    "递归出口条件说明：\n",
    "\n",
    "* 当n=1时，所有苹果都必须放在一个盘子里，所以返回1；\n",
    "* 当m==0(没有苹果可放)时，定义为1种放法；\n",
    "\n"
   ]
  },
  {
   "cell_type": "code",
   "execution_count": 1,
   "metadata": {
    "ExecuteTime": {
     "end_time": "2019-10-31T09:03:59.998076Z",
     "start_time": "2019-10-31T09:03:57.623577Z"
    }
   },
   "outputs": [
    {
     "name": "stdout",
     "output_type": "stream",
     "text": [
      "7 3\n",
      "8\n",
      "\n"
     ]
    }
   ],
   "source": [
    "# 暴力递归\n",
    "def fun(m, n):\n",
    "    if (m == 0) or (n == 1):\n",
    "        return 1\n",
    "    if m < n:\n",
    "        return fun(m, m)\n",
    "    else:\n",
    "        return fun(m, n-1) + fun(m-n, n)\n",
    "while True:\n",
    "    try:\n",
    "        M, N = map(int, input().split())\n",
    "        print(fun(M, N))\n",
    "    except:\n",
    "        break"
   ]
  },
  {
   "cell_type": "code",
   "execution_count": 2,
   "metadata": {
    "ExecuteTime": {
     "end_time": "2019-10-31T09:04:04.916259Z",
     "start_time": "2019-10-31T09:04:01.833964Z"
    }
   },
   "outputs": [
    {
     "name": "stdout",
     "output_type": "stream",
     "text": [
      "7 3\n",
      "8\n",
      "\n"
     ]
    }
   ],
   "source": [
    "# 备忘录递归\n",
    "def fun(m, n):\n",
    "    if memory[m][n] == 0:\n",
    "        if (m == 0) or (n == 1):\n",
    "            memory[m][n] = 1\n",
    "        elif m < n:\n",
    "            memory[m][n] = fun(m, m)\n",
    "        else:\n",
    "            memory[m][n] = fun(m, n-1) + fun(m-n, n)\n",
    "        return memory[m][n]\n",
    "    else:\n",
    "        return memory[m][n]\n",
    "while True:\n",
    "    try:\n",
    "        M, N = map(int, input().split())\n",
    "        memory = [[0 for j in range(N + 1)] for i in range(M + 1)]\n",
    "        print(fun(M, N))\n",
    "    except:\n",
    "        break"
   ]
  },
  {
   "cell_type": "code",
   "execution_count": 3,
   "metadata": {
    "ExecuteTime": {
     "end_time": "2019-10-31T09:04:12.757111Z",
     "start_time": "2019-10-31T09:04:07.418529Z"
    }
   },
   "outputs": [
    {
     "name": "stdout",
     "output_type": "stream",
     "text": [
      "7 3\n",
      "8\n",
      "\n"
     ]
    }
   ],
   "source": [
    "# 非递归动态规划\n",
    "def fun(m, n):\n",
    "    dp_table = [[0 for j in range(n + 1)] for i in range(m + 1)]\n",
    "    for i in range(n + 1):\n",
    "        dp_table[0][i] = 1\n",
    "    for i in range(m + 1):\n",
    "        dp_table[i][1] = 1\n",
    "    for j in range(1, n + 1):\n",
    "        for i in range(1, m + 1):\n",
    "            if i < j:\n",
    "                dp_table[i][j] = dp_table[i][i]\n",
    "            else:\n",
    "                dp_table[i][j] = dp_table[i][j-1] + dp_table[i-j][j]\n",
    "    return dp_table[m][n]\n",
    "while True:\n",
    "    try:\n",
    "        M, N = map(int, input().split())\n",
    "        print(fun(M, N))\n",
    "    except:\n",
    "        break"
   ]
  },
  {
   "cell_type": "markdown",
   "metadata": {},
   "source": [
    "### 练习题 4 题目描述\n",
    "请编写一个函数（允许增加子函数），计算n x m的棋盘格子（n为横向的格子数，m为竖向的格子数）沿着各自边缘线从左上角走到右下角，总共有多少种走法，要求不能走回头路，即：只能往右和往下走，不能往左和往上走。\n",
    "#### 输入描述:\n",
    "输入两个正整数\n",
    "#### 输出描述:\n",
    "返回结果"
   ]
  },
  {
   "cell_type": "code",
   "execution_count": 11,
   "metadata": {
    "ExecuteTime": {
     "end_time": "2019-11-11T15:02:41.344620Z",
     "start_time": "2019-11-11T15:02:35.884997Z"
    }
   },
   "outputs": [
    {
     "name": "stdout",
     "output_type": "stream",
     "text": [
      "2 2\n",
      "6\n",
      "\n"
     ]
    }
   ],
   "source": [
    "# 动态规划，状态转移方程和边界条件很容易找到\n",
    "# 暴力递归\n",
    "def fun(row, col):\n",
    "    if (row == 0) or (col == 0):\n",
    "        return 1\n",
    "    return fun(row-1, col) + fun(row, col-1) \n",
    "\n",
    "while True:\n",
    "    try:\n",
    "        n, m = map(int, input().split())\n",
    "        print(fun(n, m))\n",
    "    except:\n",
    "        break"
   ]
  },
  {
   "cell_type": "code",
   "execution_count": 1,
   "metadata": {
    "ExecuteTime": {
     "end_time": "2019-11-12T10:54:29.120363Z",
     "start_time": "2019-11-12T10:54:26.676265Z"
    }
   },
   "outputs": [
    {
     "name": "stdout",
     "output_type": "stream",
     "text": [
      "2 2\n",
      "6\n",
      "\n"
     ]
    }
   ],
   "source": [
    "# 带备忘录的动态规划写法\n",
    "def fun(row, col):\n",
    "    if (row == 0) or (col == 0):\n",
    "        return memory[row][col]\n",
    "    memory[row][col] = fun(row-1, col) + fun(row, col - 1)\n",
    "    return memory[row][col]\n",
    "while True:\n",
    "    try:\n",
    "        n, m = map(int, input().split())\n",
    "        memory = [[1 for i in range(m+1)] for j in range(n+1)]\n",
    "        print(fun(n, m))\n",
    "    except:\n",
    "        break"
   ]
  },
  {
   "cell_type": "code",
   "execution_count": 2,
   "metadata": {
    "ExecuteTime": {
     "end_time": "2019-11-12T10:54:34.120766Z",
     "start_time": "2019-11-12T10:54:31.239857Z"
    }
   },
   "outputs": [
    {
     "name": "stdout",
     "output_type": "stream",
     "text": [
      "2 2\n",
      "6\n",
      "\n"
     ]
    }
   ],
   "source": [
    "# 非递归动态写法\n",
    "def fun(row, col):\n",
    "    dp_table = [[1 for i in range(col+1)] for j in range(row+1)]\n",
    "    for i in range(1, row+1):\n",
    "        for j in range(1, col+1):\n",
    "            dp_table[i][j] = dp_table[i-1][j] + dp_table[i][j-1]\n",
    "    return dp_table[row][col]\n",
    "while True:\n",
    "    try:\n",
    "        n, m = map(int, input().split())\n",
    "        print(fun(n, m))\n",
    "    except:\n",
    "        break"
   ]
  },
  {
   "cell_type": "code",
   "execution_count": null,
   "metadata": {},
   "outputs": [],
   "source": []
  }
 ],
 "metadata": {
  "kernelspec": {
   "display_name": "Python 3",
   "language": "python",
   "name": "python3"
  },
  "language_info": {
   "codemirror_mode": {
    "name": "ipython",
    "version": 3
   },
   "file_extension": ".py",
   "mimetype": "text/x-python",
   "name": "python",
   "nbconvert_exporter": "python",
   "pygments_lexer": "ipython3",
   "version": "3.5.4"
  }
 },
 "nbformat": 4,
 "nbformat_minor": 2
}
