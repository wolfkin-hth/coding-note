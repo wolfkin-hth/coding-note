{
 "cells": [
  {
   "cell_type": "markdown",
   "metadata": {},
   "source": [
    "# 二叉树的遍历\n",
    "\n",
    "* 前序：根 ---> 左 ---> 右\n",
    "\n",
    "* 中序：左 ---> 根 ---> 右\n",
    "\n",
    "* 后序：左 ---> 右 ---> 根\n",
    "* 层序：逐层输出"
   ]
  },
  {
   "cell_type": "markdown",
   "metadata": {},
   "source": [
    "## 1. 前序遍历"
   ]
  },
  {
   "cell_type": "code",
   "execution_count": 2,
   "metadata": {
    "code_folding": []
   },
   "outputs": [],
   "source": [
    "# 递归版本\n",
    "class Solution:\n",
    "    def preorderTraversal(self, root):\n",
    "        res = []\n",
    "        def helper(node):\n",
    "            if not node: return \n",
    "            res.append(node.val)\n",
    "            helper(node.left)\n",
    "            helper(node.right)\n",
    "        helper(root)\n",
    "        return res"
   ]
  },
  {
   "cell_type": "code",
   "execution_count": 3,
   "metadata": {},
   "outputs": [],
   "source": [
    "# 非递归版本1\n",
    "class Solution:\n",
    "    def preorderTraversal(self, root):\n",
    "        res = []\n",
    "        if not root: return res\n",
    "        stack = [root]\n",
    "        while stack:\n",
    "            cur = stack.pop()\n",
    "            res.append(cur.val)\n",
    "            if cur.right: stack.append(cur.right)\n",
    "            if cur.left: stack.append(cur.left)\n",
    "        return res"
   ]
  },
  {
   "cell_type": "code",
   "execution_count": 4,
   "metadata": {},
   "outputs": [],
   "source": [
    "### 非递归版本2\n",
    "class Solution:\n",
    "    def preorderTraversal(self, root):\n",
    "        res = []\n",
    "        if not root: return res\n",
    "        stack = []\n",
    "        while root or stack:\n",
    "            while root:\n",
    "                res.append(root.val)\n",
    "                stack.append(root)\n",
    "                root = root.left\n",
    "            root = stack.pop()\n",
    "            root = root.right\n",
    "        return res"
   ]
  },
  {
   "cell_type": "markdown",
   "metadata": {},
   "source": [
    "## 2. 中序遍历"
   ]
  },
  {
   "cell_type": "code",
   "execution_count": 6,
   "metadata": {},
   "outputs": [],
   "source": [
    "# 递归版本\n",
    "class Solution:\n",
    "    def inorderTraversal(self, root):\n",
    "        res = []\n",
    "        def helper(node):\n",
    "            if not node: return \n",
    "            helper(node.left)\n",
    "            res.append(node.val)\n",
    "            helper(node.right)\n",
    "        helper(root)\n",
    "        return res"
   ]
  },
  {
   "cell_type": "code",
   "execution_count": 7,
   "metadata": {},
   "outputs": [],
   "source": [
    "# 非递归版本\n",
    "class Solution:\n",
    "    def inorderTraversal(self, root):\n",
    "        res = []\n",
    "        if not root: return res\n",
    "        stack = []\n",
    "        while root or stack:\n",
    "            while root:\n",
    "                stack.append(root)\n",
    "                root = root.left\n",
    "            root = stack.pop()\n",
    "            res.append(root.val)\n",
    "            root = root.right\n",
    "        return res"
   ]
  },
  {
   "cell_type": "markdown",
   "metadata": {},
   "source": [
    "## 3.后序遍历"
   ]
  },
  {
   "cell_type": "code",
   "execution_count": 8,
   "metadata": {},
   "outputs": [],
   "source": [
    "# 递归版本\n",
    "class Solution:\n",
    "    def postorderTraversal(self, root):\n",
    "        res = []\n",
    "        def helper(node):\n",
    "            if not node: return \n",
    "            helper(node.left)\n",
    "            helper(node.right)\n",
    "            res.append(node.val)\n",
    "        helper(root)\n",
    "        return res"
   ]
  },
  {
   "cell_type": "code",
   "execution_count": 9,
   "metadata": {},
   "outputs": [],
   "source": [
    "# 非递归版本1\n",
    "class Solution:\n",
    "    def postorderTraversal(self, root):\n",
    "        res = []\n",
    "        if not root: return res\n",
    "        stack = []\n",
    "        while root or stack:\n",
    "            while root:\n",
    "                res.append(root.val)\n",
    "                stack.append(root)\n",
    "                root = root.right\n",
    "            root = stack.pop()\n",
    "            root = root.left\n",
    "        return res[::-1]"
   ]
  },
  {
   "cell_type": "code",
   "execution_count": 11,
   "metadata": {},
   "outputs": [],
   "source": [
    "# 非递归版本2\n",
    "class Solution:\n",
    "    def postorderTraversal(self, root):\n",
    "        res = []\n",
    "        if not root: return res\n",
    "        stack = []\n",
    "        while root or stack:\n",
    "            while root:\n",
    "                res.insert(0, root.val)\n",
    "                stack.append(root)\n",
    "                root = root.right\n",
    "            root = stack.pop()\n",
    "            root = root.left\n",
    "        return res"
   ]
  },
  {
   "cell_type": "markdown",
   "metadata": {},
   "source": [
    "## 4.层序遍历"
   ]
  },
  {
   "cell_type": "code",
   "execution_count": 12,
   "metadata": {},
   "outputs": [],
   "source": [
    "# 递归版本\n",
    "class Solution:\n",
    "    def levelOrder(self, root):\n",
    "        res = []\n",
    "        depth = 0\n",
    "        def helper(node, depth):\n",
    "            if not node: return\n",
    "            if len(res) == depth:\n",
    "                res.append([])\n",
    "            res[depth].append(node.val)\n",
    "            helper(node.left, depth + 1)\n",
    "            helper(node.right, depth + 1)\n",
    "        helper(root, 0)\n",
    "        return res"
   ]
  },
  {
   "cell_type": "code",
   "execution_count": 13,
   "metadata": {},
   "outputs": [],
   "source": [
    "# 非递归版本\n",
    "class Solution:\n",
    "    def levelOrder(self, root):\n",
    "        res = []\n",
    "        if not root: return res\n",
    "        cur = [root]\n",
    "        while cur:\n",
    "            tmp = []\n",
    "            next_level = []\n",
    "            for node in cur:\n",
    "                tmp.append(node.val)\n",
    "                if node.left: next_level.append(node.left)\n",
    "                if node.right: next_level.append(node.right)\n",
    "            res.append(tmp)\n",
    "            cur = next_level\n",
    "        return res"
   ]
  },
  {
   "cell_type": "markdown",
   "metadata": {},
   "source": [
    "## 总结\n",
    "\n",
    "二叉树遍历一共两种：\n",
    "\n",
    "1. 深度优先遍历（DFS）：包括前序、中序、后序遍历。\n",
    "2. 广度优先遍历（BFS）：层次遍历等。\n",
    "\n",
    "深度优先用栈，广度优先用队列。"
   ]
  },
  {
   "cell_type": "code",
   "execution_count": null,
   "metadata": {},
   "outputs": [],
   "source": []
  }
 ],
 "metadata": {
  "kernelspec": {
   "display_name": "Python 3",
   "language": "python",
   "name": "python3"
  },
  "language_info": {
   "codemirror_mode": {
    "name": "ipython",
    "version": 3
   },
   "file_extension": ".py",
   "mimetype": "text/x-python",
   "name": "python",
   "nbconvert_exporter": "python",
   "pygments_lexer": "ipython3",
   "version": "3.5.4"
  }
 },
 "nbformat": 4,
 "nbformat_minor": 2
}
